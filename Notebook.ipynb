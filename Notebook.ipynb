{
 "cells": [
  {
   "cell_type": "markdown",
   "metadata": {},
   "source": [
    "## Final Project - NLP-Driven Ingredient Health and Dietary Restriction Analysis\n",
    "\n",
    "*Name: Laura Obermaier*\n",
    "\n",
    "*Stevens ID: 20027358*"
   ]
  },
  {
   "cell_type": "markdown",
   "metadata": {},
   "source": [
    "### Ingredient List Processing"
   ]
  },
  {
   "cell_type": "markdown",
   "metadata": {},
   "source": [
    "##### imports and setup"
   ]
  },
  {
   "cell_type": "code",
   "execution_count": 37,
   "metadata": {},
   "outputs": [],
   "source": [
    "import re\n",
    "import csv\n",
    "import requests\n",
    "import spacy\n",
    "import langdetect\n",
    "from langdetect import detect\n",
    "from googletrans import Translator\n",
    "import pubchempy as pcp\n",
    "from rapidfuzz import process, fuzz\n",
    "from collections import defaultdict\n",
    "import sys\n",
    "import io\n",
    "import pickle\n",
    "import requests\n",
    "import json\n",
    "\n",
    "csv.field_size_limit(2**20)\n",
    "# Load English tokenizer\n",
    "nlp = spacy.load(\"en_core_web_sm\")\n",
    "translator = Translator()\n",
    "\n",
    "# Global cache to track discovered aliases\n",
    "global_alias_set = set()"
   ]
  },
  {
   "cell_type": "markdown",
   "metadata": {},
   "source": [
    "##### PubChem(aliases) integration"
   ]
  },
  {
   "cell_type": "code",
   "execution_count": 38,
   "metadata": {},
   "outputs": [],
   "source": [
    "def get_pubchem_aliases(ingredient_name):\n",
    "    try:\n",
    "        compounds = pcp.get_compounds(ingredient_name, 'name')\n",
    "        if compounds:\n",
    "            synonyms = compounds[0].synonyms\n",
    "            return list(set(s.lower() for s in synonyms))\n",
    "        return []\n",
    "    except Exception as e:\n",
    "        print(f\"[PubChem error for '{ingredient_name}']: {e}\")\n",
    "        return []"
   ]
  },
  {
   "cell_type": "markdown",
   "metadata": {},
   "source": [
    "##### fuzzy matching"
   ]
  },
  {
   "cell_type": "code",
   "execution_count": 39,
   "metadata": {},
   "outputs": [],
   "source": [
    "def update_alias_cache(aliases):\n",
    "    for a in aliases:\n",
    "        if a:\n",
    "            global_alias_set.add(a.lower().strip())\n",
    "\n",
    "def fuzzy_match_alias(name, threshold=90):\n",
    "    if not global_alias_set:\n",
    "        print(\"[Warning] Alias set is empty — did you run seed_aliases_from_open_food_facts?\")\n",
    "        return None\n",
    "    result = process.extractOne(name, global_alias_set, scorer=fuzz.token_sort_ratio)\n",
    "    if result is None:\n",
    "        return None\n",
    "    match, score, _ = result\n",
    "    return match if score >= threshold else None"
   ]
  },
  {
   "cell_type": "markdown",
   "metadata": {},
   "source": [
    "##### seed aliases from Open Food Facts"
   ]
  },
  {
   "cell_type": "code",
   "execution_count": 40,
   "metadata": {},
   "outputs": [],
   "source": [
    "def seed_aliases_from_open_food_facts(limit=10000):\n",
    "    url = \"https://static.openfoodfacts.org/data/en.openfoodfacts.org.products.csv\"\n",
    "    response = requests.get(url, stream=True)\n",
    "    response.encoding = 'utf-8'\n",
    "\n",
    "    alias_dict = defaultdict(set)\n",
    "\n",
    "    # Read as tab-delimited!\n",
    "    lines = (line.decode('utf-8') for line in response.iter_lines())\n",
    "    reader = csv.DictReader(lines, delimiter='\\t')\n",
    "\n",
    "    langs = ['fr', 'de', 'es', 'it']\n",
    "    count = 0\n",
    "\n",
    "    for row in reader:\n",
    "        if count % 500 == 0:\n",
    "            print(f\"Processing row {count}...\")\n",
    "\n",
    "        if count >= limit:\n",
    "            break\n",
    "        count += 1\n",
    "\n",
    "        ingredients_text = row.get(\"ingredients_text\", \"\")\n",
    "        if not ingredients_text.strip():\n",
    "            continue\n",
    "\n",
    "        for ing in ingredients_text.split(','):\n",
    "            ing = ing.strip().lower()\n",
    "            if not ing:\n",
    "                continue\n",
    "            alias_dict[ing].add(ing)\n",
    "\n",
    "            for lang in langs:\n",
    "                key = f\"ingredients_text_{lang}\"\n",
    "                alt = row.get(key)\n",
    "                if alt:\n",
    "                    for alt_ing in alt.split(','):\n",
    "                        alt_ing = alt_ing.strip().lower()\n",
    "                        if alt_ing:\n",
    "                            alias_dict[ing].add(alt_ing)\n",
    "                            alias_dict[alt_ing].add(ing)\n",
    "\n",
    "    # Push to global alias set\n",
    "    for aliases in alias_dict.values():\n",
    "        update_alias_cache(list(aliases))\n",
    "\n",
    "    print(f\"[✓] Seeded {len(global_alias_set)} unique aliases from Open Food Facts.\")\n"
   ]
  },
  {
   "cell_type": "markdown",
   "metadata": {},
   "source": [
    "##### health info retrieval"
   ]
  },
  {
   "cell_type": "code",
   "execution_count": 41,
   "metadata": {},
   "outputs": [],
   "source": [
    "def retrieve_health_info(ingredient_name):\n",
    "    \"\"\"\n",
    "    Retrieve health-related effects or warnings about an ingredient.\n",
    "    For now: stub function. Later: connect to APIs or web scraping.\n",
    "    \"\"\"\n",
    "    # Simulate retrieved results\n",
    "    fake_db = {\n",
    "        \"sodium chloride\": \"Excessive intake can lead to high blood pressure.\",\n",
    "        \"ascorbic acid\": \"Supports immune function and acts as an antioxidant.\",\n",
    "        \"e300\": \"E300 is Vitamin C, generally considered safe.\"\n",
    "    }\n",
    "    return fake_db.get(ingredient_name.lower(), \"No info found.\")"
   ]
  },
  {
   "cell_type": "markdown",
   "metadata": {},
   "source": [
    "##### preprocessing"
   ]
  },
  {
   "cell_type": "code",
   "execution_count": 42,
   "metadata": {},
   "outputs": [],
   "source": [
    "def standardize_ingredient_name(name):\n",
    "    name = name.lower().strip()\n",
    "\n",
    "    aliases = get_pubchem_aliases(name)\n",
    "    if aliases:\n",
    "        update_alias_cache(aliases)\n",
    "        return aliases[0], aliases\n",
    "\n",
    "    fuzzy = fuzzy_match_alias(name)\n",
    "    if fuzzy:\n",
    "        return fuzzy, [fuzzy]\n",
    "\n",
    "    return name, [name]\n",
    "\n",
    "\n",
    "def translate_to_english(text):\n",
    "    try:\n",
    "        lang = detect(text)\n",
    "        return translator.translate(text, src=lang, dest='en').text if lang != 'en' else text\n",
    "    except Exception:\n",
    "        return text\n",
    "\n",
    "\n",
    "def preprocess_ingredient_list_with_health(text):\n",
    "    raw_ingredients = re.split(r'[,\\n;/••]+', text)\n",
    "    processed = []\n",
    "\n",
    "    for raw in raw_ingredients:\n",
    "        raw = raw.strip()\n",
    "        if raw:\n",
    "            translated = translate_to_english(raw)\n",
    "            standard, aliases = standardize_ingredient_name(translated)\n",
    "            health_info = retrieve_health_info(standard)\n",
    "            processed.append({\n",
    "                \"standard\": standard,\n",
    "                \"aliases\": aliases,\n",
    "                \"health_info\": health_info\n",
    "            })\n",
    "\n",
    "    return processed\n",
    "\n"
   ]
  },
  {
   "cell_type": "markdown",
   "metadata": {},
   "source": [
    "##### store aliases for reuse"
   ]
  },
  {
   "cell_type": "code",
   "execution_count": 43,
   "metadata": {},
   "outputs": [],
   "source": [
    "ALIAS_CACHE_FILE = \"alias_cache.json\"\n",
    "\n",
    "def save_alias_cache(path=ALIAS_CACHE_FILE):\n",
    "    try:\n",
    "        with open(path, \"w\", encoding=\"utf-8\") as f:\n",
    "            json.dump(sorted(global_alias_set), f, ensure_ascii=False, indent=2)\n",
    "        print(f\"[✓] Alias cache saved to {path}\")\n",
    "    except Exception as e:\n",
    "        print(f\"[!] Error saving alias cache: {e}\")\n",
    "\n",
    "def load_alias_cache(path=ALIAS_CACHE_FILE):\n",
    "    global global_alias_set\n",
    "    try:\n",
    "        with open(path, \"r\", encoding=\"utf-8\") as f:\n",
    "            global_alias_set = set(json.load(f))\n",
    "        print(f\"[✓] Loaded {len(global_alias_set)} aliases from cache.\")\n",
    "        return True\n",
    "    except FileNotFoundError:\n",
    "        print(f\"[ ] Alias cache not found at {path}. Will seed from source...\")\n",
    "        return False\n",
    "    except Exception as e:\n",
    "        print(f\"[!] Error loading alias cache: {e}\")\n",
    "        return False"
   ]
  },
  {
   "cell_type": "markdown",
   "metadata": {},
   "source": [
    "##### usage"
   ]
  },
  {
   "cell_type": "code",
   "execution_count": 44,
   "metadata": {},
   "outputs": [
    {
     "name": "stdout",
     "output_type": "stream",
     "text": [
      "[✓] Loaded 5833 aliases from cache.\n"
     ]
    }
   ],
   "source": [
    "# Run ONLY once on startup!!!\n",
    "seed_aliases(limit=5000)"
   ]
  },
  {
   "cell_type": "code",
   "execution_count": 45,
   "metadata": {},
   "outputs": [
    {
     "name": "stdout",
     "output_type": "stream",
     "text": [
      "['& calendula & sunflowers', '& enzymes', \"' farine de blé\", \"'salade 17\", '( glycoside de steviol)', '(about 20g) 70 hydrolyzed gelatin', '(dont arôme de fumée).', '(iowhey®)', '(may contain hazelnut)', '(nur schoko kakaopulver entölt)', '(sucre', '(unbleached enriched flour', '-fdorvège', '0', '0 %', \"0 added sugar and 0 mess. ingredients: organic apples. free top manufactured in a facility free from 12 rlergens from the top 12 allergens 00 certified non gmo project gluten free usda organic verified nongmoproject.org gfco.org p paleo brought to you by that's it nutrition lic. los angeles\", '0% (varkens - en rundsvlees', '0% 13% dipotassium phosphate', '0%)', '0.1% sodium benzoate (preservative)', '000 calorie diet', '000 calorie diet. 50 mg cakdum caseinate 14 g 1daly value not established other ingre fructo ntein concentrate', '000 calories a day is used for general ution advice 0% 2% ingredients corn flour (processed with lime)', '000 calories diet. nutrition facts valeur nutritive per 250 ml brewed mate (from 60 g dry leaves) pour 250 ml de maté infusé (à partir de 60 g de feuilles sèches) amount teneur % daily value calories/calories fat/lipides sodium/sodium carbohydrate/glucides 6 g % valeur quotídien ne 0% 2% 25 og 10 mg 0% 1g sugars/sucres protein/protéines. source négligeable de lipides saturés', \"000 day is used for general nutrition advice sku# 000142 '0000&quot;1427 tradex joes raisin matest hate\", '000 iu) capsule. formulated and', '000 ories a day is used for general nutrition advice. orgain.com see website for pro gredients: orgain organic protein blendtm (organic pea protein', '000** 65g 20g 300mg 2', '004 %)', '004%)', '01 g ingredientes: fibra de aveia (28 %)', '01 g picking po sgs bu 2014 non fl apure 30.04.2024 l:0/41510220008 x5012711ep www.biojoy.eu', '01%)', '01.04.2022 19:19 ycneire kyntb %40%', '010765227 222592010 snoshop & nosnhor 2100hi9eov na do bw ob spontan simeticone ogni compressa contiene: simeticone (dimetilpolisilossano attivato) mg 40. eccipienti: saccarina', '015 g/100 g).', '02 %)', '02 %).', '02 %)i 4 borioková stava v prášku (0', '04%', '04-763 warszawa de i aly-kaaral sri-66050 san salvo (ch)-italy coomopex kozmetik a.s. www.cosmopex.com.tr h - download maraes app bi0 227162007-ohsas 18001:2007 pologisk gardenljos nvatoriškas', '040 mg 1', '05 g 4 g 0', '050 mg 270mg proline glycine histidine 3', '058 entacto de flor de manzanilla (matricaria chamomilla).', '06 g 19', '06%)', '060 mg 1', '07 % (dont basilic* 0', '075 mg tyrosine isoleucine 125 mg valine essential amino acids 11 contains 8 of 9 essential amino acids a average milligrams per serving abra enjoy in your favorite re mix shake for best mixing results shake container to mix a add powder to cup beve d pour liquid on top of p']\n",
      "Total aliases: 5833\n"
     ]
    }
   ],
   "source": [
    "print(sorted(list(global_alias_set))[:50])  # see a preview\n",
    "print(\"Total aliases:\", len(global_alias_set))"
   ]
  },
  {
   "cell_type": "code",
   "execution_count": 47,
   "metadata": {},
   "outputs": [
    {
     "name": "stdout",
     "output_type": "stream",
     "text": [
      "\n",
      "sal\n",
      "Aliases: ['sal']\n",
      "Health Info: No info found.\n",
      "\n",
      "sucrose, grade ii, plant cell culture tested\n",
      "Aliases: ['sucrose, grade ii, plant cell culture tested', 'db02772', 'd-sucrose', 'sucrose, >=99.5% (gc)', '57-50-1', 'os02339', 'sucrose, acs reagent', 'sugar [vandf]', 'sacharose', 'sucrose, usp', 'sugar,(s)', 'sucrose, saj first grade', 'os59592', 'saccharose', 'sucrose [jan]', 'sucrose, analytical standard, for enzymatic assay kit sca20', 'sucrose', 'compressible sugar', 'sugar spheres (nf)', 'bdbm50108105', 'beta-d-fructofuranosyl-(2&harr;1)-alpha-d-glucopyranoside', 'sucrose, purified', 'sucrose, ultrapure', 'sucrose [ii]', 'gne-410', 'sucraloxum [inn-latin]', 'sucraloxum (inn-latin)', 'sucrose, >=99.5%', 'sugar, white', 'sucrose, meets usp testing specifications', 'sucrose (tn)', 'ncgc00258948-01', 'chebi:65313', 'sucrose [ep monograph]', 'saccarose', '1-alpha-d-glucopyranosyl-2-beta-d-fructofuranoside', 'frost sugar', 'sucrose acs grade', \"sugar, confectioner's (nf)\", 'alpha-d-glc-(1-->2)-beta-d-fru', 'sucrose (ii)', 'amerfand', 'sucrose, pure', 'sugar, compressible (nf)', 'sucrose, anhydrous, free-flowing, redi-dri(tm), acs reagent', 'sucrose (usp-rs)', 'c00089', 'brd-k74724920-001-02-4', 'akos024306988', 'sucrose [jan:nf]', 'rohrzucker', 'beta-d-fructofuranosyl-alpha-d-glucopyranoside', 'sucrose, for electrophoresis, >99%', 'sucrose (for injection)', 'd-saccharose 1000 microg/ml in methanol', 'sucraloxum', 'tox21_201397', 'glc-(1-2)fru', 'c151h8m554', 'sucrose palmitic acid (1:1 mixture)', 'nsc 406942', 'nsc-406942', 'sucrose, vetec(tm) reagent grade, rnase and dnase free', 'mp02333', 'a-d-glucopyranosyl a-d-fructofuranoside', 'alpha-d-glucopyranosyl-(1->2)-beta-d-fructofuranoside', 's3598', 'dyspepsia headache', 'sucrose, united states pharmacopeia (usp) reference standard', 'sucrose [usan:jan]', 's0111', 'sucrose (ep monograph)', '1af6', 'saccharum officinale [hpus]', 'd00025', 'b -d-fructofuranosyl a-d-glucopyranoside', 'sucrose, european pharmacopoeia (ep) reference standard', 'sr-01000883983-1', 'sucrose (ep impurity)', 'sucrose, british pharmacopoeia (bp) reference standard', '(2r,3r,4s,5s,6r)-2-((2s,3s,4s,5r)-3,4-dihydroxy-2,5-bis(hydroxymethyl)tetrahydrofuran-2-ylhydroxymethyl)tetrahydro-2h-pyran-3,4,5-triol', 'sucrose, molecular biology grade', 'dtxcid101288', 'sucrose (constituent of cranberry liquid preparation)', 'einecs 200-334-9', 'epitope id:153236', 'd(+)-saccharose', 'sucrose, p.a., acs reagent', '(2r,3r,4s,5s,6r)-2-[(2s,3s,4s,5r)-3,4-dihydroxy-2,5-bis(hydroxymethyl)oxolan-2-yl]oxy-6-(hydroxymethyl)oxane-3,4,5-triol', 'hy-b1779', 'fructofuranoside, alpha-d-glucopyranosyl, beta-d', 's-67f', 'dtxsid2021288', 'alpha-d-glucopyranoside, beta-d-fructofuranosyl', 'ncgc00164248-01', 'sucrose biochemical grade', 'alpha-d-glucopyranoside, beta-d-fructofuranosyl-', 'sucrose [vandf]', 'beta-d-fruf-(2<->1)-alpha-d-glcp', 'q4027534', 'hy-b1779r', '(2r,3r,4s,5s,6r)-2-((2s,3s,4s,5r)-3,4-dihydroxy-2,5-bis(hydroxymethyl)tetrahydrofuran-2-yloxy)-6-(hydroxymethyl)tetrahydro-2h-pyran-3,4,5-triol', 'sucrose - usp', 'chembl253582', 'sucrose (constituent of cranberry liquid preparation) [dsc]', '85456-51-5', 'sr-01000883983', 'd-saccharose', '(+)-sucrose', 'sucrose, lr', 'sucrose, vetec(tm) reagent grade, 99%', 'ncgc00164248-02', '.beta.-d-fructofuranosyl-.alpha.-d-glucopyranoside', 'carbon isotopes in sucrose, nist(r) rm 8542, iaea-ch-6 sucrose', '.alpha.-d-glucopyranoside, .beta.-d-fructofuranosyl-', '(2r,3r,4s,5s,6r)-2-{[(2s,3s,4s,5r)-3,4-dihydroxy-2,5-bis(hydroxymethyl)oxolan-2-yl]oxy}-6-(hydroxymethyl)oxane-3,4,5-triol', 'd-(+)-sucrose', 'nci-c56597', 'sucrose, jis special grade', 'd-saccharose;2-o-a-d-glucopyranosyl-b-d-fructofuranoside', 'unii-c151h8m554', '(2r,3r,4s,5s,6r)-2-(((2s,3s,4s,5r)-3,4-dihydroxy-2,5-bis(hydroxymethyl)tetrahydrofuran-2-yl)oxy)-6-(hydroxymethyl)tetrahydro-2h-pyran-3,4,5-triol', '200-334-9', 'sucrose, grade i, plant cell culture tested', 'd(+)-sucrose', 'cane sugar', 'alpha-d-glc-(1-2)-beta-d-fru', 'sucrose [fcc]', 'sucrose, puriss., meets analytical specification of ph. eur., bp, nf', 'tox21_112093', 'microse', 'ccris 2120', 'tox21_300410', 'ncgc00254237-01', 'sucrose, bioreagent, suitable for cell culture, suitable for insect cell culture, >=99.5% (gc)', 'sucrose, bioxtra, >=99.5% (gc)', 'sucrose, analytical standard', 'beta-d-fructofuranosyl alpha-d-glucopyranoside', 'd-saccharose;2-o-?-d-glucopyranosyl-?-d-fructofuranoside', 'refined sugar', 'sucrose, for microbiology, acs reagent, >=99.0%', 'rock candy', 'en300-126630', 'bmse000918', 'd-(+)-saccharose', '92004-84-7', 'alpha-d-glucopyranosyl beta-d-fructofuranoside', 'd-saccharose 20000 microg/ml in water', '(alpha-d-glucosido)-beta-d-fructofuranoside', 'compressible sugar, united states pharmacopeia (usp) reference standard', 'white soft sugar (jp18)', 'sucrose [ep impurity]', 'sucrose,ultrapure', 'cs-0013810', 'a-5', 'alpha-d-glucopyranosylbeta-d-fructofuranoside', 'chebi:17992', 'sucrose (jp18/nf)', 'hsdb 500', '86101-30-6', '87430-66-8', 'sacarosa', '(2r,3r,4s,5s,6r)-2-[(2s,3s,4s,5r)-3,4-dihydroxy-2,5-bis(hydroxymethyl)tetrahydrofuran-2-yl]oxy-6-(hydroxymethyl)tetrahydropyran-3,4,5-triol', 'gtpl5411', 'sucrose, for molecular biology, >=99.5% (gc)', 'z1589255958', 'sucrose, dust', 'ncgc00164248-03', 'sucrose [hsdb]', 'bmse000119', 'mfcd00006626', 'saccharum officinale', 'd70407', 'sucrose, cell culture tested', 'saccharum', 'sucrose [nf]', 'sucrose, bioultra, for molecular biology, >=99.5% (hplc)', '8027-47-2', 'beetsugar', 'glc(alpha1->2beta)fru', 'cas-57-50-1', 'bmse000804', 'sucrose [who-dd]', 'ncgc00164248-05', 'sucrose, ar', '8030-20-4', 'amerfond', 'sucrose [usp-rs]', 'table sugar', 'white sugar', 'glucopyranoside, beta-d-fructofuranosyl, alpha-d', 'manalox as', 'sucrose (standard)', 'sucrose [mi]', 'sugar', \"confectioner's sugar\", '1-alpha-d-glucopyranosyl-2-beta-d-fructofranoside', 'ai3-09085']\n",
      "Health Info: No info found.\n",
      "\n",
      "acid, ascorbic\n",
      "Aliases: ['acid, ascorbic', 'l-ascorbic acid, powder, cell culture tested, gamma-irradiated', 'citrovit', 'ascorbic acid (usp:inn:ban:jan)', 'vicelat', 'vitamisin', 'ronotec 100', 'hicell', 'ascorbic acid, l-', 'chembl40274', 'ascorbyl radical', '.ascorbinsaure', 'l-ascorbic acid, p.a., acs reagent, reag. iso, 99.7%', 'cetane-caps tc', 'laroscorbine', 'nsc-33832', 'a0537', 'nsc33832', '6730-29-6', 'vitamin c;acidum ascorbicum', 'ido-c', '2-(1,2-dihydroxyethyl)-4,5-dihydroxyfuran-3-one', 'msk1523', 'hex-1-enofuranos-3-ulose', 'cevibid', 'vitacin', 'xitix', '47a605f0-4187-47a8-b0ce-f9e7da1b0076', 'l-ascorbic acid, free acid', 'hms3713a11', 'l-ascorbic acid, cell culture', 'e80759', 'ferrous ascorbate', 'vitamine c', 'cantaxin', 'ascorbic acid [ban:inn:jan]', 'c-span', 'l-(+)-ascorbic acid', 'scorbu c', 'l-ascorbic acid, mixt. with vitamin b', 'colascor', 'antiscorbutic vitamin', 'dtxsid50986567', 'cleanflex', 'ascorbicap', 'ncgc00164357-01', 'roscorbic', 'c00072', 'l-ascorbic acid acs reagent grade', 'l-ascorbic acid, suitable for cell culture, suitable for plant cell culture, >=98%', 'ascorbic acid [ii]', 'stuartinic', 'adenex', 'cetemican', 'scorbacid', 'component of cortalex', 'hy-b0166g', 'vitace', 'ascorbate', 'ascorbutina', 'cortalex', 'cevimin', 'ins-300', 'dtxcid50820452', 'cebid', 'akos016843589', 'cegiolan', 'suncoat vc 40', 'bmse000182', 'ascorbic acid, united states pharmacopeia (usp) reference standard', 'ncgc00188972-01', 'allercorb', 'catavin c', 'ascorbic acid [hsdb]', 'l-ascorbate', 'l-ascorbic acid, bioxtra, >=99.0%, crystalline', 'citriscorb', 'da-61252', 'q199678', 'l-ascorbic acid, acs reagent, >=99%', 'new clairfore', 'acidum ascorbicum (inn-latin)', '(5r)-5-[(1s)-1,2-dihydroxyethyl]-3,4-dihydroxyfuran-2(5h)-one (non-preferred name)', 'l-ascorbic acid, plant cell culture tested', 'vicomin c', 'cebicure', 'cebione', 'cipca', '(r)-5-((s)-1,2-dihydroxyethyl)-3,4-dihydroxyfuran-2(5h)-one', 'viscorin', 'prestwick3_000325', 'dtxcid90106', 'l-threo-ascorbic acid', 'cell c', 'nsc 218455', 'l-xyloascorbate', 'ncgc00091517-03', 'sodascorbate', 'chewcee', 'ascorbic acid [jan]', 'hms2096a11', 'ascorbic acid, european pharmacopoeia (ep) reference standard', 'cevex', 'tolfrinic', 'cecon', 'ester c', 'ester-c', 'hy-b0166r', 'l-ascorbic acid 1000 microg/ml in acetonitrile', 'acido ascorbico', 'l-ascorbic acid, free radical form', 'component of e and c-level', 'vitamina c', 'q27101942', 'arco-cee', 'xyloascorbic acid, l-', 'asorbicap', 'ncgc00091517-02', 'l-ascorbic acid, reagent grade', 'natrascorb', 'rovimix c', 'acidum ascorbicum', 'ascor (tn)', 'ascor-b.i.d.', 'mls002153776', 'chromagen', 'l-ascorbic acid, vetec(tm) reagent grade, 99%', 'ascorbinsaure', 'ce-vi-sol', 'cemagyl', 'vitacimin', '(5r)-5-[(1s)-1,2-dihydroxyethyl]-3,4-dihydroxyfuran-2(5h)-one', 'ascorbinezuur', 'ascorbic acid, british pharmacopoeia (bp) reference standard', 'chebi:22652', 'ascorbic acid (mart.)', 'celaskon', 'ascorbicab', 'planavit c', '2-(1,2-dihydroxyethyl)-4,5-dihydroxy-furan-3-one', 'clairfore', 'ncgc00091517-06', '(5r)-5-((1s)-1,2-dihydroxyethyl)-3,4-dihydroxyfuran-2(5h)-one', 'ascorbicap (tn)', 'ascorbic acid [vandf]', 'e300', 'ascorvit', 'acidum ascorbicum [inn-latin]', 'l-threo-hex-2-enono-1,4-lactone', '(2r)-2-[(1s)-1,2-dihydroxyethyl]-4,5-dihydroxy-furan-3-one', 'acido ascorbico [inn-spanish]', 'gtpl4781', 'vit c', 'ccris 57', 'ascorbic acid [ep monograph]', 'c-level', 'rontex 100', 'sw198791-2', '3-oxo-l-gulofuranolactone', 'ascorbic acid [mi]', 'antiscorbic vitamin', 'scorbu-c', 'duoscorb', 'ascorbic acid [orange book]', 'hms2231n16', 'ascorbic acid (l-ascorbic acid; vitamin c)', 'smr001233160', 'pq6ck8pd0r', 'da-61251', 'l-ascorbic acid, certified reference material, tracecert(r)', 'gtpl4532', 'l-ascorbic acid (standard)', 'cevalin', 'vitamin c', 'l-ascorbic acid, >=99.0%', 'cevi-bid', 'c-quin', 'viforcit', 'ascorbin', 'ascorbajen', 'l-ascorbic acid', 'meri-c', 'cevitex', 'kangbingfeng', 'l-ascorbic acid, puriss. p.a., >=99.0% (rt)', 'ascoltin', 'nsc-218455', 'l-ascorbic acid, puriss. p.a., acs reagent, reag. iso, reag. ph. eur., 99.7-100.5% (oxidimetric)', 'cebion', '53262-66-1', 'l-ascorbic acid, reagent grade, crystalline', 'ce lent', '3-oxo-l-gulofuranolactone (enol form)', 'l-ascorbic acid, p.a., acs reagent, 99.0%', 'ascorbic acid [usp monograph]', 'dr cellapy sr premium', 'e-300', '(r)-5-(1,2-dihydroxy-ethyl)-3,4-dihydroxy-5h-furan-2-one', 'ascor', 'testascorbic', 'schembl4430', 'ascorin', 'l-ascorbic acid (gmp)', 'lemascorb', 'davitamon c', 'cs-0626121', 'hex-2-enonic acid gamma-lactone, l-threo-', 'gamma-lactone l-threo-hex-2-enonate', 'mfcd00064328', 'bspbio_000329', 'antiscorbutic factor', 'vitacee', 'celin', 'vita rich', 'hy-b0166', '3eka', 'cee-caps td', 'l-ascorbic acid, ar, >=99.5%', 'ascoltin (tn)', 'acide ascorbique [inn-french]', 'component of endoglobin forte', 'ascorbic acid [fhfi]', 'ascorbinsaeure', 'vitascorbol', 'acidum ascorbinicum', 'l-ascorbic acid, tested according to ph.eur.', 'ascorbic acid (jp17/usp/inn)', 'db00126', 'redoxon', 'l-3-ketothreohexuronic acid lactone', 'ferancee', 'schembl785', 'tox21_202127', 'ascorbic acid (usp-rs)', 'dtxsid5020106', 'ciamin', 'dtxsid7048112', 'ascorteal', '50-81-7', 'secorbate', 'ascorbic acid (ii)', 'chebi:29073', 'hybrin', 'ascorbic acid (vit c)', 'natrascorb injectable', 'ascorbic acid (usp monograph)', 'cetamid', 'ins no.300', '(5r)-5-[(1s)-1,2-dihydroxyethyl]-3,4-dihydroxy-2,5-dihydrofuran-2-one', 'l-lyxoascorbate', '[14c]-ascorbic acid', 'einecs 200-066-2', 's3114', 'vitamin c (ascorbic acid)', 'juvamine', 'ceklin', 'ascorbic acid [usp-rs]', 'proscorbin', 'cetane-caps td', 'en300-708766', '(+)-ascorbic acid', 'celladix c.e.f advanced brightening ampoule', 'tox21_112104', '[14c]ascorbic acid', 'l-ascorbic acid, anhydrous, free-flowing, redi-dri(tm), acs reagent, >=99%', 'acidum ascorbicum [who-ip latin]', 'ncgc00259676-01', 'l-ascorbic acid, fcc, fg', 'tox21_110315', 'ascorbic acid [usp:inn:ban:jan]', 'ascorbic acid [mart.]', 'dtxsid801344780', 'l-threoascorbic acid', 'hsdb 818', 'ab00376923_04', 'l(+)-ascorbate', 'l(+)-ascorbic acid', 'vitamin c [vandf]', 'nci-c54808', 'bpbio1_000363', 'ascorb', 'cenolate', 'ascorbic acid1505', 'cetebe', 'cemill', 'ncgc00091517-01', 'ribena', 'cenetone', 'ceglion', 'acido ascorbico (inn-spanish)', 'neo-valdrin', 'tox21_302958', 'ascorbic acid [who-dd]', 'ascorbicum acidum', 'bcp27915', 'ascorbic acid [fcc]', 'cescorbat', 'hicee', 'l-ascorbic acid, 99%', 'cevitamic acid', 'ascorbic acid', 'cevital', 'ascorbic acid (ep monograph)', '2,3-dehydro-l-threo-hexono-1,4-lactone', 'concemin', 'chebi:176783', 'cevatine', 'cevitamate', 'cevitamin', 'l-xyloascorbic acid', 'l-lyxoascorbic acid', 'c-vimin', 'unii-pq6ck8pd0r', 'kyselina askorbova', 'e 300', 'ab00376923_05', 'gamma-lactone l-threo-hex-2-enonic acid', 'dora-c-500', 'l-threoascorbic acid,antiscorbutic factor,vitamin c;(r)-5-((s)-1,2-dihydroxyethyl)-3,4-dihydroxyfuran-2(5h)-one', 'aromacura shower filter', 'ab00376923', 'viscorin 100m', 'd00018', 'l-ascorbic acid, analytical standard', 'ascorbic acid [inn]', 'nsc 33832', 'ce-mi-lin', 'cantan', '(2r)-2-[(1s)-1,2-dihydroxyethyl]-3,4-dihydroxy-2h-furan-5-one', 'cergona', 'liqui-cee', 'ccg-207946', 'l-ascorbic acid, jis special grade, >=99.0%', 'ncgc00256504-01', 'l-threo-hex-2-enonic acid, gamma-lactone', 'fa00736', '200-066-2', 'hb1238', '(2r)-2-[(1s)-1,2-dihydroxyethyl]-4,5-dihydroxyfuran-3-one', 'component of ferancee', 'acide ascorbique (inn-french)', 'vasc', 'ns00001126', 'vitamin c (as ascorbic acid)', 'ascorbic acid [who-ip]', 'l-ascorbic acid, meets usp testing specifications', 'fema no. 2109', 'cewin', 'tox21_112104_1', 'c-long', 'caswell no. 061b', 'bp-12831', 'l-ascorbic acid, bioultra, >=99.5% (rt)', 'kyselina askorbova [czech]', 'acide ascorbique', '(+)-ascorbate', 'vitamin c,(s)', '3-keto-l-gulofuranolactone', 'cereon', 'parentrovite', 'cee-vite', 'l-(+)-ascorbate', 'cevitan']\n",
      "Health Info: No info found.\n",
      "\n",
      "curcuma longa\n",
      "Aliases: ['curcuma longa']\n",
      "Health Info: No info found.\n",
      "\n",
      "sodium chloride solution, 1 mol/l -1 n volumetric standard solution\n",
      "Aliases: ['sodium chloride solution, 1 mol/l -1 n volumetric standard solution', 'adsorbanac', 'aqua maris daily clean', 'api pond pond salt', 'chebi:26710', 'muro 128', 'q2314', 'natrium muriaticum', 'trisodium trichloride', 'akos024457457', 'sel gemme8146', 'sodium chloride, nist(r) srm(r) 919b', 'usepa/opp pesticide code: 13905', 'vamousse lice treatment', 'homeopathic pediculicide', 'tid clean dent', '7647-14-5', 'hy-y0344h', 'sodium chloride1 gram', 'isotonic saline', 'natrum muriaticum kit refill', 'sodium standard for aas, ready-to-use, traceable to bam, in h2o', 'cs-0376163', 'b1655 [langual]', 'nacl solution, 1m', 'wln: na g', 'beanguard gargle', 'sodium chloride for dnase, rnase, and protease, none detected', 'akos024438089', 'sodium chloride, reagent grade, >=98%, +80 mesh particle size', 'sodium chloride brine, purified', 'natrii chloridum [who-ip latin]', 'white crystal', '0.9% sodium chloride', 'arm-a-vial', 'sodium chloride 3% in plastic container', 'sodium monochloride', 'sodium chloride 0.65%', 'sodium chloride anhydrous', 'sodium chloride, puriss. p.a., >=99.5% (at), powder or crystals', '32343-72-9', 'sodium chloride hypertonicity ophthalmic', 'sodium chloride, usp, 99.0-101.0%', 'sodium chloride 23.4% in plastic container', 'sodium chloride [jan]', 'bye bye (toc toc)', 'cs-0909802', 'nasoxinspray', 'top flake', 'bacteriostatic sodium chloride 0.9% in plastic container', 'saline nasal3oz', 'sodium chloride, certified reference material for titrimetry, certified by bam, according to iso 17025, >=99.5%', 'sodium chloride crystal optic disc, 32mm x 3mm, polished both sides', 'isotonic', 'mineral metea', '10% sodium chloride injection', 'sodium chloride, meets analytical specification of ph. eur. bp usp,  inverted exclamation marku0.00002% al', 'mono-sodium chloride salt', 'sodium chloride (jp18/usp)', 'natrum muriaticum', 'sterile saline mistrite aid', 'cloruro sodico', 'sterile saline', 'sodium chloride, 99.999%', 'sodium chloride, puriss. p.a., >=99.5% (at)', 'sodium chloride, bioreagent, suitable for cell culture, suitable for insect cell culture, suitable for plant cell culture, >=99%', 'sodium chloride 0.45% in plastic container', 'hypertonic saline 7.2%', 'sodium chloride, lr, >=99.5%', 'halite', 'hypersal', 'sodium chloride, for cell culture', 'sykes hypertonic saline 7.2%', 'veterinary 0.9% sodium chloride', 'bye zero', 'sodium chloride salt', 'nat mur 30x', '0.9% nacl', 'nacl', 'adsorbanac (tn)', 'athomer propolis', 'walgreens saline', 'extra strenght saline mist', 'saline wipes', 'nat mur 12x', 'sinucleanse sterile saline mist', 'normal saline', 'vetivexveterinary sodium chloride', 'natrum muriaticum [hpus]', 'ayr', 'sodium chloride 0.9% in plastic thermoject kit for cardiac output use', 'sodium chloride acs', 'sodium chloride', 'sodium chloride, pharmaceutical secondary standard; certified reference material', 'p-care k40mx', 'sodium chloride, >=99%, ar grade', 'amphenol-40', 'saline mist', 'caswell no. 754', 'sodium chloride in plastic container', 'saline nasal1 fl oz', 'sodium chloride; nacl', 'octiq', 'sodium chloride spray', 'cs-0909803', 'api aquarium salt', 'chlorure de sodium', 'tid clean align', 'ns00076259', 'sodium chloride, p.a., acs reagent, reag. iso, reag. ph. eur., 99.5%', 'sodium chloride [orange book]', 'sel gemme', 'sodium chloride crystal optic rectangle, 30mm x 15mm x 4mm, polished both sides', 'sodium chloride crystal optic rectangle, 30mm x 15mm x 4mm (drilled), polished both sides', 'sodium chloride, acs reagent', 'rock salt', 'cardiovascular accessory kit', 'normal salt', 'natriumchlorid', 'sodium chloride, tested according to ph.eur.', 'nsc-77364', 'solsel', 'sodium chloride for irrigation', 'sodium chloride, technical grade, 95%', 'natrum muriaticum8009', 'athomer baby', '231-598-3', 'sodium chloride crystal optic disc, 13mm x 2mm, polished both sides', 'sodanylium and hydrochloric acid, ion(1-) (1:1)', 'rns-60 component saline', 'common salt', 'sodium chloride, anhydrous, beads, -10 mesh, 99.999% trace metals basis', 'clear mist', 'sodium chloride [who-ip]', 'sodium chloride [usp monograph]', 'cs-0909801', 'sodium chloride [who-dd]', 'dendritis', 'slow sodium', 'sinucleanse sterile saline mist daily care', 'chembl1200574', 'dtxsid3021271', 'sterile saline kids mist', 'sodium chloride crystal optic disc, 22mm x 4mm, polished both sides', 'nat mur 6x', 'special salt 100/95', 'unii-vr5y7pdt5w', 'sodium chloride, 99.999% trace metals basis', 'sodium chloride, usp, 99.0-100.5%', 'natrum muriaticum 30c', 'sodium chloride, technical grade, 97%', 'isotonic sodium chloride solution', 'saline nasal2oz', 'titrisol', 'sodium chloride 2.65%', 'vr5y7pdt5w', 'sea salt', 'altachlore sodium chloride hypertonicity', 'salt (6ci,7ci)', 'hsdb 6368', 'hy-y0344d', 'haemonetics 0.9 % sodium chloride', 'sodium chloride, jis special grade, >=99.5%', 'dtxcid001271', 'sodium chloride (usp-rs)', 'salt (ingredient)', 'nebusal', 'sodium chloride crystal optic disc, 25mm x 2mm, polished both sides', 'cleansing wipe / tube', 'sodium chloride crystal optic rectangle, 41mm x 23mm x 6mm, unpolished', 'ancient secrets', 'sodium chloridenormal salt', 'canners 999', 'nat mur 200x', 'vamousse pro lice treatment', 'sodium chloride crystal optic disc, 32mm x 3mm (drilled), polished both sides', 'nsc 77364', 'uzushio biryuu m', '3% sodium chloride', 'multibic component sodium chloride', 'extra fine 200 salt', 'sterile saline kids mistsinucleanse breathe', 'sterile saline kids mistpediameds', 'extra strenght saline mistrite aid', 'normal salt tablets', 'sodium chloride, united states pharmacopeia (usp) reference standard', 'dendritic salt', 'sodium chloride (8ci)', 'cvs saline', 'sterling', 'sodium chloride, for molecular biology', 'ancient secretsbreathe again', 'sodium chloride, meets analytical specification of ph. eur., bp, usp, 99.0-100.5%', 'saline nasal1.5oz', 'sodium chloride, anhydrous, free-flowing, redi-dri(tm), reagentplus(r), >=99%', 'sodium chloride, ph. eur., usp grade', 'sodium chloride (na4cl4)', 'sodium chloride, manac incorporated', 'pulmosal', 'usp sodium chloride', 'hypertonic saline 7.2 %', 'sodium chloride, bacteriostatic', 'aqua maris extra strong', 'watesal a', 'natrum muriaticum200ck', 'vamousse lice treatment complete kit', 'mfcd00003477', 'sodium chloride, optical grade', 'nsc77364', 'sodium chloride biochemical grade', 'epa pesticide chemical code 013905', 'halite (nacl)', 'sodium chloride crystal optic disc, 25mm x 5mm, unpolished', 'sodium chloride crystal optic rectangle, 38.5mm x 19.5mm x 4mm, unpolished', 'vetivexveterinary hypertonic', 'saline', 'ss salt', 'meijer saline', 'sodium chloride (na36cl)', 'fs30573', 'sodium chloride, anhydrous, beads, -10 mesh, 99.99% trace metals basis', 'sodium chloride, random crystals, optical grade, 99.98% trace metals basis', 'stat trak plus', 'sodium chloride, tablet', 'sodium chloride, reagentplus(r), >=99%', 'nat mur 3x', 'sodium chloride 0.9% in sterile plastic container', 'ec 231-598-3', 'sodium chloride [mi]', 'licefreee everyday', 'sodium chloride [hsdb]', 'sodium chloride (ep monograph)', 'sterile saline mist', '7.5% hypertonic saline', 'colyte', 'hyposaline', 'sodium chloric', 'sodium chloride crystal optic disc, 25mm x 4mm, polished both sides', 'corvatrol 0.9%', 'sodium chloride, ultra dry', 'vamousse lice prevention', 'ls-1700', 'einecs 231-598-3', 'sodium chloride hypertonicity', 'unii-451w47iq8x', 'kochsalz', 'sodium chloride crystal optic disc, 13mm x 1mm, polished both sides', 'sodium chloride, hypertonic', 'aqua maris strong', 'sodium chloride 23.4%', 'sodium chloride [usp:jan]', 'b1655', 'aquamarine8105', 'salt', 'sodium chloride [ep monograph]', 'sodium chloride, acs reagent, >=99.0%', 'sodium chloride, ar, >=99.9%', 'p-care k80mx', 'nat mur', 'db09153', 'entsol', 'purex', 'table salt', 'tonicpet 9', 'cleanoz', 'extrafine 325 salt', 'tid clean plant', 'alfa veterinary 0.9% sodium chloride', '451w47iq8x', 'sodium chloride crystal optic rectangle, 38.5mm x 19.5mm x 4mm (drilled), polished both sides', 'sodium chloride 0.9% in plastic container', 'sodium chloride, isotonic', '7647-14-5 (solid)', 'sodium chloride, trace metals grade, 99.99%', 'brinewate superfine', 'walgreens saline mist', 'sterile saline mistwalgreens', 'sodium chloride, for molecular biology, dnase, rnase, and protease, none detected, >=98% (titration)', 'cardiovascular kit', 'suprasel nitrite', 'sdg high level disinfectant', 'saline, sodium chloride', 'gingivyl', 'hy-y0344i', 'sodium chloride (usp:jan)', 'ccris 982', 'sodium chloride crystal optic rectangle, 38.5mm x 19.5mm x 4mm, polished both sides', 'sodium chloride, bioperformance certified, >=99% (titration), cell culture tested', 'sodium chloride, bioultra, for molecular biology, >=99.5% (at)', 'sodium chloride [vandf]', 'sodium chloride, anhydrous', 'tid clean care', 'iodized salt', 'walgreen saline', 'sodium chloride 5% in plastic container', 'sodium chloride [ii]', 'natrium muriaticum 6x', 'str02627', 'athomer mini', 'walgreens saline mistextra strength', 'licefreee', 'chlorine-containing disinfectant', 'sodium chloride, saj first grade, >=99.0%', 'sodium-chloride', 's0572', 'nacl 0.9%', 'd02056', 'isotopic standard for chlorine, nist srm 975a', 'athomer', 'natrum muriaticum 6c', 'sodium chloride [usp-rs]', 'na-zone', '14762-51-7', 'h.g. blending', 'sodium;chloride', 'extrafine 200 salt', 'flexivial', 'mafiron', '0.9% saline', 'sodium chloride (ii)', 'sodiumchloride', 'sodium chloride, spectroscopy grade', 'sodium-36 chloride', 'natriumchlorid [german]', 'sodium chloride (usp monograph)', 'aqua marina', 'sodium chloride, bioxtra, >=99.5% (at)', 'sodium chloride, p.a., 99-100.5%', 'sodium chloride, anhydrous, redi-dri(tm), free-flowing, acs reagent, >=99%', 'hy-y0344j', 'natrii chloridum', 'rns60 component saline', 'sodium chloride [green book]', 'sodium chloride, puriss. p.a., acs reagent, reag. iso, reag. ph. eur., >=99.5%', 'sykes 0.9% sodium chloride', 'broncho saline', 'aqua maris daily', 'sea water', 'extra fine 325 salt', 'sodium chloride (nacl)', 'sodium chloride, vetec(tm) reagent grade, 99%']\n",
      "Health Info: No info found.\n",
      "\n",
      "acid, ascorbic\n",
      "Aliases: ['acid, ascorbic', 'l-ascorbic acid, powder, cell culture tested, gamma-irradiated', 'citrovit', 'ascorbic acid (usp:inn:ban:jan)', 'vicelat', 'vitamisin', 'ronotec 100', 'hicell', 'ascorbic acid, l-', 'chembl40274', 'ascorbyl radical', '.ascorbinsaure', 'l-ascorbic acid, p.a., acs reagent, reag. iso, 99.7%', 'cetane-caps tc', 'laroscorbine', 'nsc-33832', 'a0537', 'nsc33832', '6730-29-6', 'vitamin c;acidum ascorbicum', 'ido-c', '2-(1,2-dihydroxyethyl)-4,5-dihydroxyfuran-3-one', 'msk1523', 'hex-1-enofuranos-3-ulose', 'cevibid', 'vitacin', 'xitix', '47a605f0-4187-47a8-b0ce-f9e7da1b0076', 'l-ascorbic acid, free acid', 'hms3713a11', 'l-ascorbic acid, cell culture', 'e80759', 'ferrous ascorbate', 'vitamine c', 'cantaxin', 'ascorbic acid [ban:inn:jan]', 'c-span', 'l-(+)-ascorbic acid', 'scorbu c', 'l-ascorbic acid, mixt. with vitamin b', 'colascor', 'antiscorbutic vitamin', 'dtxsid50986567', 'cleanflex', 'ascorbicap', 'ncgc00164357-01', 'roscorbic', 'c00072', 'l-ascorbic acid acs reagent grade', 'l-ascorbic acid, suitable for cell culture, suitable for plant cell culture, >=98%', 'ascorbic acid [ii]', 'stuartinic', 'adenex', 'cetemican', 'scorbacid', 'component of cortalex', 'hy-b0166g', 'vitace', 'ascorbate', 'ascorbutina', 'cortalex', 'cevimin', 'ins-300', 'dtxcid50820452', 'cebid', 'akos016843589', 'cegiolan', 'suncoat vc 40', 'bmse000182', 'ascorbic acid, united states pharmacopeia (usp) reference standard', 'ncgc00188972-01', 'allercorb', 'catavin c', 'ascorbic acid [hsdb]', 'l-ascorbate', 'l-ascorbic acid, bioxtra, >=99.0%, crystalline', 'citriscorb', 'da-61252', 'q199678', 'l-ascorbic acid, acs reagent, >=99%', 'new clairfore', 'acidum ascorbicum (inn-latin)', '(5r)-5-[(1s)-1,2-dihydroxyethyl]-3,4-dihydroxyfuran-2(5h)-one (non-preferred name)', 'l-ascorbic acid, plant cell culture tested', 'vicomin c', 'cebicure', 'cebione', 'cipca', '(r)-5-((s)-1,2-dihydroxyethyl)-3,4-dihydroxyfuran-2(5h)-one', 'viscorin', 'prestwick3_000325', 'dtxcid90106', 'l-threo-ascorbic acid', 'cell c', 'nsc 218455', 'l-xyloascorbate', 'ncgc00091517-03', 'sodascorbate', 'chewcee', 'ascorbic acid [jan]', 'hms2096a11', 'ascorbic acid, european pharmacopoeia (ep) reference standard', 'cevex', 'tolfrinic', 'cecon', 'ester c', 'ester-c', 'hy-b0166r', 'l-ascorbic acid 1000 microg/ml in acetonitrile', 'acido ascorbico', 'l-ascorbic acid, free radical form', 'component of e and c-level', 'vitamina c', 'q27101942', 'arco-cee', 'xyloascorbic acid, l-', 'asorbicap', 'ncgc00091517-02', 'l-ascorbic acid, reagent grade', 'natrascorb', 'rovimix c', 'acidum ascorbicum', 'ascor (tn)', 'ascor-b.i.d.', 'mls002153776', 'chromagen', 'l-ascorbic acid, vetec(tm) reagent grade, 99%', 'ascorbinsaure', 'ce-vi-sol', 'cemagyl', 'vitacimin', '(5r)-5-[(1s)-1,2-dihydroxyethyl]-3,4-dihydroxyfuran-2(5h)-one', 'ascorbinezuur', 'ascorbic acid, british pharmacopoeia (bp) reference standard', 'chebi:22652', 'ascorbic acid (mart.)', 'celaskon', 'ascorbicab', 'planavit c', '2-(1,2-dihydroxyethyl)-4,5-dihydroxy-furan-3-one', 'clairfore', 'ncgc00091517-06', '(5r)-5-((1s)-1,2-dihydroxyethyl)-3,4-dihydroxyfuran-2(5h)-one', 'ascorbicap (tn)', 'ascorbic acid [vandf]', 'e300', 'ascorvit', 'acidum ascorbicum [inn-latin]', 'l-threo-hex-2-enono-1,4-lactone', '(2r)-2-[(1s)-1,2-dihydroxyethyl]-4,5-dihydroxy-furan-3-one', 'acido ascorbico [inn-spanish]', 'gtpl4781', 'vit c', 'ccris 57', 'ascorbic acid [ep monograph]', 'c-level', 'rontex 100', 'sw198791-2', '3-oxo-l-gulofuranolactone', 'ascorbic acid [mi]', 'antiscorbic vitamin', 'scorbu-c', 'duoscorb', 'ascorbic acid [orange book]', 'hms2231n16', 'ascorbic acid (l-ascorbic acid; vitamin c)', 'smr001233160', 'pq6ck8pd0r', 'da-61251', 'l-ascorbic acid, certified reference material, tracecert(r)', 'gtpl4532', 'l-ascorbic acid (standard)', 'cevalin', 'vitamin c', 'l-ascorbic acid, >=99.0%', 'cevi-bid', 'c-quin', 'viforcit', 'ascorbin', 'ascorbajen', 'l-ascorbic acid', 'meri-c', 'cevitex', 'kangbingfeng', 'l-ascorbic acid, puriss. p.a., >=99.0% (rt)', 'ascoltin', 'nsc-218455', 'l-ascorbic acid, puriss. p.a., acs reagent, reag. iso, reag. ph. eur., 99.7-100.5% (oxidimetric)', 'cebion', '53262-66-1', 'l-ascorbic acid, reagent grade, crystalline', 'ce lent', '3-oxo-l-gulofuranolactone (enol form)', 'l-ascorbic acid, p.a., acs reagent, 99.0%', 'ascorbic acid [usp monograph]', 'dr cellapy sr premium', 'e-300', '(r)-5-(1,2-dihydroxy-ethyl)-3,4-dihydroxy-5h-furan-2-one', 'ascor', 'testascorbic', 'schembl4430', 'ascorin', 'l-ascorbic acid (gmp)', 'lemascorb', 'davitamon c', 'cs-0626121', 'hex-2-enonic acid gamma-lactone, l-threo-', 'gamma-lactone l-threo-hex-2-enonate', 'mfcd00064328', 'bspbio_000329', 'antiscorbutic factor', 'vitacee', 'celin', 'vita rich', 'hy-b0166', '3eka', 'cee-caps td', 'l-ascorbic acid, ar, >=99.5%', 'ascoltin (tn)', 'acide ascorbique [inn-french]', 'component of endoglobin forte', 'ascorbic acid [fhfi]', 'ascorbinsaeure', 'vitascorbol', 'acidum ascorbinicum', 'l-ascorbic acid, tested according to ph.eur.', 'ascorbic acid (jp17/usp/inn)', 'db00126', 'redoxon', 'l-3-ketothreohexuronic acid lactone', 'ferancee', 'schembl785', 'tox21_202127', 'ascorbic acid (usp-rs)', 'dtxsid5020106', 'ciamin', 'dtxsid7048112', 'ascorteal', '50-81-7', 'secorbate', 'ascorbic acid (ii)', 'chebi:29073', 'hybrin', 'ascorbic acid (vit c)', 'natrascorb injectable', 'ascorbic acid (usp monograph)', 'cetamid', 'ins no.300', '(5r)-5-[(1s)-1,2-dihydroxyethyl]-3,4-dihydroxy-2,5-dihydrofuran-2-one', 'l-lyxoascorbate', '[14c]-ascorbic acid', 'einecs 200-066-2', 's3114', 'vitamin c (ascorbic acid)', 'juvamine', 'ceklin', 'ascorbic acid [usp-rs]', 'proscorbin', 'cetane-caps td', 'en300-708766', '(+)-ascorbic acid', 'celladix c.e.f advanced brightening ampoule', 'tox21_112104', '[14c]ascorbic acid', 'l-ascorbic acid, anhydrous, free-flowing, redi-dri(tm), acs reagent, >=99%', 'acidum ascorbicum [who-ip latin]', 'ncgc00259676-01', 'l-ascorbic acid, fcc, fg', 'tox21_110315', 'ascorbic acid [usp:inn:ban:jan]', 'ascorbic acid [mart.]', 'dtxsid801344780', 'l-threoascorbic acid', 'hsdb 818', 'ab00376923_04', 'l(+)-ascorbate', 'l(+)-ascorbic acid', 'vitamin c [vandf]', 'nci-c54808', 'bpbio1_000363', 'ascorb', 'cenolate', 'ascorbic acid1505', 'cetebe', 'cemill', 'ncgc00091517-01', 'ribena', 'cenetone', 'ceglion', 'acido ascorbico (inn-spanish)', 'neo-valdrin', 'tox21_302958', 'ascorbic acid [who-dd]', 'ascorbicum acidum', 'bcp27915', 'ascorbic acid [fcc]', 'cescorbat', 'hicee', 'l-ascorbic acid, 99%', 'cevitamic acid', 'ascorbic acid', 'cevital', 'ascorbic acid (ep monograph)', '2,3-dehydro-l-threo-hexono-1,4-lactone', 'concemin', 'chebi:176783', 'cevatine', 'cevitamate', 'cevitamin', 'l-xyloascorbic acid', 'l-lyxoascorbic acid', 'c-vimin', 'unii-pq6ck8pd0r', 'kyselina askorbova', 'e 300', 'ab00376923_05', 'gamma-lactone l-threo-hex-2-enonic acid', 'dora-c-500', 'l-threoascorbic acid,antiscorbutic factor,vitamin c;(r)-5-((s)-1,2-dihydroxyethyl)-3,4-dihydroxyfuran-2(5h)-one', 'aromacura shower filter', 'ab00376923', 'viscorin 100m', 'd00018', 'l-ascorbic acid, analytical standard', 'ascorbic acid [inn]', 'nsc 33832', 'ce-mi-lin', 'cantan', '(2r)-2-[(1s)-1,2-dihydroxyethyl]-3,4-dihydroxy-2h-furan-5-one', 'cergona', 'liqui-cee', 'ccg-207946', 'l-ascorbic acid, jis special grade, >=99.0%', 'ncgc00256504-01', 'l-threo-hex-2-enonic acid, gamma-lactone', 'fa00736', '200-066-2', 'hb1238', '(2r)-2-[(1s)-1,2-dihydroxyethyl]-4,5-dihydroxyfuran-3-one', 'component of ferancee', 'acide ascorbique (inn-french)', 'vasc', 'ns00001126', 'vitamin c (as ascorbic acid)', 'ascorbic acid [who-ip]', 'l-ascorbic acid, meets usp testing specifications', 'fema no. 2109', 'cewin', 'tox21_112104_1', 'c-long', 'caswell no. 061b', 'bp-12831', 'l-ascorbic acid, bioultra, >=99.5% (rt)', 'kyselina askorbova [czech]', 'acide ascorbique', '(+)-ascorbate', 'vitamin c,(s)', '3-keto-l-gulofuranolactone', 'cereon', 'parentrovite', 'cee-vite', 'l-(+)-ascorbate', 'cevitan']\n",
      "Health Info: No info found.\n",
      "\n",
      "sal\n",
      "Aliases: ['sal']\n",
      "Health Info: No info found.\n",
      "\n",
      "suagr\n",
      "Aliases: ['suagr']\n",
      "Health Info: No info found.\n",
      "\n",
      "acid, ascorbic\n",
      "Aliases: ['acid, ascorbic', 'l-ascorbic acid, powder, cell culture tested, gamma-irradiated', 'citrovit', 'ascorbic acid (usp:inn:ban:jan)', 'vicelat', 'vitamisin', 'ronotec 100', 'hicell', 'ascorbic acid, l-', 'chembl40274', 'ascorbyl radical', '.ascorbinsaure', 'l-ascorbic acid, p.a., acs reagent, reag. iso, 99.7%', 'cetane-caps tc', 'laroscorbine', 'nsc-33832', 'a0537', 'nsc33832', '6730-29-6', 'vitamin c;acidum ascorbicum', 'ido-c', '2-(1,2-dihydroxyethyl)-4,5-dihydroxyfuran-3-one', 'msk1523', 'hex-1-enofuranos-3-ulose', 'cevibid', 'vitacin', 'xitix', '47a605f0-4187-47a8-b0ce-f9e7da1b0076', 'l-ascorbic acid, free acid', 'hms3713a11', 'l-ascorbic acid, cell culture', 'e80759', 'ferrous ascorbate', 'vitamine c', 'cantaxin', 'ascorbic acid [ban:inn:jan]', 'c-span', 'l-(+)-ascorbic acid', 'scorbu c', 'l-ascorbic acid, mixt. with vitamin b', 'colascor', 'antiscorbutic vitamin', 'dtxsid50986567', 'cleanflex', 'ascorbicap', 'ncgc00164357-01', 'roscorbic', 'c00072', 'l-ascorbic acid acs reagent grade', 'l-ascorbic acid, suitable for cell culture, suitable for plant cell culture, >=98%', 'ascorbic acid [ii]', 'stuartinic', 'adenex', 'cetemican', 'scorbacid', 'component of cortalex', 'hy-b0166g', 'vitace', 'ascorbate', 'ascorbutina', 'cortalex', 'cevimin', 'ins-300', 'dtxcid50820452', 'cebid', 'akos016843589', 'cegiolan', 'suncoat vc 40', 'bmse000182', 'ascorbic acid, united states pharmacopeia (usp) reference standard', 'ncgc00188972-01', 'allercorb', 'catavin c', 'ascorbic acid [hsdb]', 'l-ascorbate', 'l-ascorbic acid, bioxtra, >=99.0%, crystalline', 'citriscorb', 'da-61252', 'q199678', 'l-ascorbic acid, acs reagent, >=99%', 'new clairfore', 'acidum ascorbicum (inn-latin)', '(5r)-5-[(1s)-1,2-dihydroxyethyl]-3,4-dihydroxyfuran-2(5h)-one (non-preferred name)', 'l-ascorbic acid, plant cell culture tested', 'vicomin c', 'cebicure', 'cebione', 'cipca', '(r)-5-((s)-1,2-dihydroxyethyl)-3,4-dihydroxyfuran-2(5h)-one', 'viscorin', 'prestwick3_000325', 'dtxcid90106', 'l-threo-ascorbic acid', 'cell c', 'nsc 218455', 'l-xyloascorbate', 'ncgc00091517-03', 'sodascorbate', 'chewcee', 'ascorbic acid [jan]', 'hms2096a11', 'ascorbic acid, european pharmacopoeia (ep) reference standard', 'cevex', 'tolfrinic', 'cecon', 'ester c', 'ester-c', 'hy-b0166r', 'l-ascorbic acid 1000 microg/ml in acetonitrile', 'acido ascorbico', 'l-ascorbic acid, free radical form', 'component of e and c-level', 'vitamina c', 'q27101942', 'arco-cee', 'xyloascorbic acid, l-', 'asorbicap', 'ncgc00091517-02', 'l-ascorbic acid, reagent grade', 'natrascorb', 'rovimix c', 'acidum ascorbicum', 'ascor (tn)', 'ascor-b.i.d.', 'mls002153776', 'chromagen', 'l-ascorbic acid, vetec(tm) reagent grade, 99%', 'ascorbinsaure', 'ce-vi-sol', 'cemagyl', 'vitacimin', '(5r)-5-[(1s)-1,2-dihydroxyethyl]-3,4-dihydroxyfuran-2(5h)-one', 'ascorbinezuur', 'ascorbic acid, british pharmacopoeia (bp) reference standard', 'chebi:22652', 'ascorbic acid (mart.)', 'celaskon', 'ascorbicab', 'planavit c', '2-(1,2-dihydroxyethyl)-4,5-dihydroxy-furan-3-one', 'clairfore', 'ncgc00091517-06', '(5r)-5-((1s)-1,2-dihydroxyethyl)-3,4-dihydroxyfuran-2(5h)-one', 'ascorbicap (tn)', 'ascorbic acid [vandf]', 'e300', 'ascorvit', 'acidum ascorbicum [inn-latin]', 'l-threo-hex-2-enono-1,4-lactone', '(2r)-2-[(1s)-1,2-dihydroxyethyl]-4,5-dihydroxy-furan-3-one', 'acido ascorbico [inn-spanish]', 'gtpl4781', 'vit c', 'ccris 57', 'ascorbic acid [ep monograph]', 'c-level', 'rontex 100', 'sw198791-2', '3-oxo-l-gulofuranolactone', 'ascorbic acid [mi]', 'antiscorbic vitamin', 'scorbu-c', 'duoscorb', 'ascorbic acid [orange book]', 'hms2231n16', 'ascorbic acid (l-ascorbic acid; vitamin c)', 'smr001233160', 'pq6ck8pd0r', 'da-61251', 'l-ascorbic acid, certified reference material, tracecert(r)', 'gtpl4532', 'l-ascorbic acid (standard)', 'cevalin', 'vitamin c', 'l-ascorbic acid, >=99.0%', 'cevi-bid', 'c-quin', 'viforcit', 'ascorbin', 'ascorbajen', 'l-ascorbic acid', 'meri-c', 'cevitex', 'kangbingfeng', 'l-ascorbic acid, puriss. p.a., >=99.0% (rt)', 'ascoltin', 'nsc-218455', 'l-ascorbic acid, puriss. p.a., acs reagent, reag. iso, reag. ph. eur., 99.7-100.5% (oxidimetric)', 'cebion', '53262-66-1', 'l-ascorbic acid, reagent grade, crystalline', 'ce lent', '3-oxo-l-gulofuranolactone (enol form)', 'l-ascorbic acid, p.a., acs reagent, 99.0%', 'ascorbic acid [usp monograph]', 'dr cellapy sr premium', 'e-300', '(r)-5-(1,2-dihydroxy-ethyl)-3,4-dihydroxy-5h-furan-2-one', 'ascor', 'testascorbic', 'schembl4430', 'ascorin', 'l-ascorbic acid (gmp)', 'lemascorb', 'davitamon c', 'cs-0626121', 'hex-2-enonic acid gamma-lactone, l-threo-', 'gamma-lactone l-threo-hex-2-enonate', 'mfcd00064328', 'bspbio_000329', 'antiscorbutic factor', 'vitacee', 'celin', 'vita rich', 'hy-b0166', '3eka', 'cee-caps td', 'l-ascorbic acid, ar, >=99.5%', 'ascoltin (tn)', 'acide ascorbique [inn-french]', 'component of endoglobin forte', 'ascorbic acid [fhfi]', 'ascorbinsaeure', 'vitascorbol', 'acidum ascorbinicum', 'l-ascorbic acid, tested according to ph.eur.', 'ascorbic acid (jp17/usp/inn)', 'db00126', 'redoxon', 'l-3-ketothreohexuronic acid lactone', 'ferancee', 'schembl785', 'tox21_202127', 'ascorbic acid (usp-rs)', 'dtxsid5020106', 'ciamin', 'dtxsid7048112', 'ascorteal', '50-81-7', 'secorbate', 'ascorbic acid (ii)', 'chebi:29073', 'hybrin', 'ascorbic acid (vit c)', 'natrascorb injectable', 'ascorbic acid (usp monograph)', 'cetamid', 'ins no.300', '(5r)-5-[(1s)-1,2-dihydroxyethyl]-3,4-dihydroxy-2,5-dihydrofuran-2-one', 'l-lyxoascorbate', '[14c]-ascorbic acid', 'einecs 200-066-2', 's3114', 'vitamin c (ascorbic acid)', 'juvamine', 'ceklin', 'ascorbic acid [usp-rs]', 'proscorbin', 'cetane-caps td', 'en300-708766', '(+)-ascorbic acid', 'celladix c.e.f advanced brightening ampoule', 'tox21_112104', '[14c]ascorbic acid', 'l-ascorbic acid, anhydrous, free-flowing, redi-dri(tm), acs reagent, >=99%', 'acidum ascorbicum [who-ip latin]', 'ncgc00259676-01', 'l-ascorbic acid, fcc, fg', 'tox21_110315', 'ascorbic acid [usp:inn:ban:jan]', 'ascorbic acid [mart.]', 'dtxsid801344780', 'l-threoascorbic acid', 'hsdb 818', 'ab00376923_04', 'l(+)-ascorbate', 'l(+)-ascorbic acid', 'vitamin c [vandf]', 'nci-c54808', 'bpbio1_000363', 'ascorb', 'cenolate', 'ascorbic acid1505', 'cetebe', 'cemill', 'ncgc00091517-01', 'ribena', 'cenetone', 'ceglion', 'acido ascorbico (inn-spanish)', 'neo-valdrin', 'tox21_302958', 'ascorbic acid [who-dd]', 'ascorbicum acidum', 'bcp27915', 'ascorbic acid [fcc]', 'cescorbat', 'hicee', 'l-ascorbic acid, 99%', 'cevitamic acid', 'ascorbic acid', 'cevital', 'ascorbic acid (ep monograph)', '2,3-dehydro-l-threo-hexono-1,4-lactone', 'concemin', 'chebi:176783', 'cevatine', 'cevitamate', 'cevitamin', 'l-xyloascorbic acid', 'l-lyxoascorbic acid', 'c-vimin', 'unii-pq6ck8pd0r', 'kyselina askorbova', 'e 300', 'ab00376923_05', 'gamma-lactone l-threo-hex-2-enonic acid', 'dora-c-500', 'l-threoascorbic acid,antiscorbutic factor,vitamin c;(r)-5-((s)-1,2-dihydroxyethyl)-3,4-dihydroxyfuran-2(5h)-one', 'aromacura shower filter', 'ab00376923', 'viscorin 100m', 'd00018', 'l-ascorbic acid, analytical standard', 'ascorbic acid [inn]', 'nsc 33832', 'ce-mi-lin', 'cantan', '(2r)-2-[(1s)-1,2-dihydroxyethyl]-3,4-dihydroxy-2h-furan-5-one', 'cergona', 'liqui-cee', 'ccg-207946', 'l-ascorbic acid, jis special grade, >=99.0%', 'ncgc00256504-01', 'l-threo-hex-2-enonic acid, gamma-lactone', 'fa00736', '200-066-2', 'hb1238', '(2r)-2-[(1s)-1,2-dihydroxyethyl]-4,5-dihydroxyfuran-3-one', 'component of ferancee', 'acide ascorbique (inn-french)', 'vasc', 'ns00001126', 'vitamin c (as ascorbic acid)', 'ascorbic acid [who-ip]', 'l-ascorbic acid, meets usp testing specifications', 'fema no. 2109', 'cewin', 'tox21_112104_1', 'c-long', 'caswell no. 061b', 'bp-12831', 'l-ascorbic acid, bioultra, >=99.5% (rt)', 'kyselina askorbova [czech]', 'acide ascorbique', '(+)-ascorbate', 'vitamin c,(s)', '3-keto-l-gulofuranolactone', 'cereon', 'parentrovite', 'cee-vite', 'l-(+)-ascorbate', 'cevitan']\n",
      "Health Info: No info found.\n",
      "\n",
      "kurkuma longa\n",
      "Aliases: ['kurkuma longa']\n",
      "Health Info: No info found.\n",
      "\n",
      "sodium chloride solution, 1 mol/l -1 n volumetric standard solution\n",
      "Aliases: ['sodium chloride solution, 1 mol/l -1 n volumetric standard solution', 'adsorbanac', 'aqua maris daily clean', 'api pond pond salt', 'chebi:26710', 'muro 128', 'q2314', 'natrium muriaticum', 'trisodium trichloride', 'akos024457457', 'sel gemme8146', 'sodium chloride, nist(r) srm(r) 919b', 'usepa/opp pesticide code: 13905', 'vamousse lice treatment', 'homeopathic pediculicide', 'tid clean dent', '7647-14-5', 'hy-y0344h', 'sodium chloride1 gram', 'isotonic saline', 'natrum muriaticum kit refill', 'sodium standard for aas, ready-to-use, traceable to bam, in h2o', 'cs-0376163', 'b1655 [langual]', 'nacl solution, 1m', 'wln: na g', 'beanguard gargle', 'sodium chloride for dnase, rnase, and protease, none detected', 'akos024438089', 'sodium chloride, reagent grade, >=98%, +80 mesh particle size', 'sodium chloride brine, purified', 'natrii chloridum [who-ip latin]', 'white crystal', '0.9% sodium chloride', 'arm-a-vial', 'sodium chloride 3% in plastic container', 'sodium monochloride', 'sodium chloride 0.65%', 'sodium chloride anhydrous', 'sodium chloride, puriss. p.a., >=99.5% (at), powder or crystals', '32343-72-9', 'sodium chloride hypertonicity ophthalmic', 'sodium chloride, usp, 99.0-101.0%', 'sodium chloride 23.4% in plastic container', 'sodium chloride [jan]', 'bye bye (toc toc)', 'cs-0909802', 'nasoxinspray', 'top flake', 'bacteriostatic sodium chloride 0.9% in plastic container', 'saline nasal3oz', 'sodium chloride, certified reference material for titrimetry, certified by bam, according to iso 17025, >=99.5%', 'sodium chloride crystal optic disc, 32mm x 3mm, polished both sides', 'isotonic', 'mineral metea', '10% sodium chloride injection', 'sodium chloride, meets analytical specification of ph. eur. bp usp,  inverted exclamation marku0.00002% al', 'mono-sodium chloride salt', 'sodium chloride (jp18/usp)', 'natrum muriaticum', 'sterile saline mistrite aid', 'cloruro sodico', 'sterile saline', 'sodium chloride, 99.999%', 'sodium chloride, puriss. p.a., >=99.5% (at)', 'sodium chloride, bioreagent, suitable for cell culture, suitable for insect cell culture, suitable for plant cell culture, >=99%', 'sodium chloride 0.45% in plastic container', 'hypertonic saline 7.2%', 'sodium chloride, lr, >=99.5%', 'halite', 'hypersal', 'sodium chloride, for cell culture', 'sykes hypertonic saline 7.2%', 'veterinary 0.9% sodium chloride', 'bye zero', 'sodium chloride salt', 'nat mur 30x', '0.9% nacl', 'nacl', 'adsorbanac (tn)', 'athomer propolis', 'walgreens saline', 'extra strenght saline mist', 'saline wipes', 'nat mur 12x', 'sinucleanse sterile saline mist', 'normal saline', 'vetivexveterinary sodium chloride', 'natrum muriaticum [hpus]', 'ayr', 'sodium chloride 0.9% in plastic thermoject kit for cardiac output use', 'sodium chloride acs', 'sodium chloride', 'sodium chloride, pharmaceutical secondary standard; certified reference material', 'p-care k40mx', 'sodium chloride, >=99%, ar grade', 'amphenol-40', 'saline mist', 'caswell no. 754', 'sodium chloride in plastic container', 'saline nasal1 fl oz', 'sodium chloride; nacl', 'octiq', 'sodium chloride spray', 'cs-0909803', 'api aquarium salt', 'chlorure de sodium', 'tid clean align', 'ns00076259', 'sodium chloride, p.a., acs reagent, reag. iso, reag. ph. eur., 99.5%', 'sodium chloride [orange book]', 'sel gemme', 'sodium chloride crystal optic rectangle, 30mm x 15mm x 4mm, polished both sides', 'sodium chloride crystal optic rectangle, 30mm x 15mm x 4mm (drilled), polished both sides', 'sodium chloride, acs reagent', 'rock salt', 'cardiovascular accessory kit', 'normal salt', 'natriumchlorid', 'sodium chloride, tested according to ph.eur.', 'nsc-77364', 'solsel', 'sodium chloride for irrigation', 'sodium chloride, technical grade, 95%', 'natrum muriaticum8009', 'athomer baby', '231-598-3', 'sodium chloride crystal optic disc, 13mm x 2mm, polished both sides', 'sodanylium and hydrochloric acid, ion(1-) (1:1)', 'rns-60 component saline', 'common salt', 'sodium chloride, anhydrous, beads, -10 mesh, 99.999% trace metals basis', 'clear mist', 'sodium chloride [who-ip]', 'sodium chloride [usp monograph]', 'cs-0909801', 'sodium chloride [who-dd]', 'dendritis', 'slow sodium', 'sinucleanse sterile saline mist daily care', 'chembl1200574', 'dtxsid3021271', 'sterile saline kids mist', 'sodium chloride crystal optic disc, 22mm x 4mm, polished both sides', 'nat mur 6x', 'special salt 100/95', 'unii-vr5y7pdt5w', 'sodium chloride, 99.999% trace metals basis', 'sodium chloride, usp, 99.0-100.5%', 'natrum muriaticum 30c', 'sodium chloride, technical grade, 97%', 'isotonic sodium chloride solution', 'saline nasal2oz', 'titrisol', 'sodium chloride 2.65%', 'vr5y7pdt5w', 'sea salt', 'altachlore sodium chloride hypertonicity', 'salt (6ci,7ci)', 'hsdb 6368', 'hy-y0344d', 'haemonetics 0.9 % sodium chloride', 'sodium chloride, jis special grade, >=99.5%', 'dtxcid001271', 'sodium chloride (usp-rs)', 'salt (ingredient)', 'nebusal', 'sodium chloride crystal optic disc, 25mm x 2mm, polished both sides', 'cleansing wipe / tube', 'sodium chloride crystal optic rectangle, 41mm x 23mm x 6mm, unpolished', 'ancient secrets', 'sodium chloridenormal salt', 'canners 999', 'nat mur 200x', 'vamousse pro lice treatment', 'sodium chloride crystal optic disc, 32mm x 3mm (drilled), polished both sides', 'nsc 77364', 'uzushio biryuu m', '3% sodium chloride', 'multibic component sodium chloride', 'extra fine 200 salt', 'sterile saline kids mistsinucleanse breathe', 'sterile saline kids mistpediameds', 'extra strenght saline mistrite aid', 'normal salt tablets', 'sodium chloride, united states pharmacopeia (usp) reference standard', 'dendritic salt', 'sodium chloride (8ci)', 'cvs saline', 'sterling', 'sodium chloride, for molecular biology', 'ancient secretsbreathe again', 'sodium chloride, meets analytical specification of ph. eur., bp, usp, 99.0-100.5%', 'saline nasal1.5oz', 'sodium chloride, anhydrous, free-flowing, redi-dri(tm), reagentplus(r), >=99%', 'sodium chloride, ph. eur., usp grade', 'sodium chloride (na4cl4)', 'sodium chloride, manac incorporated', 'pulmosal', 'usp sodium chloride', 'hypertonic saline 7.2 %', 'sodium chloride, bacteriostatic', 'aqua maris extra strong', 'watesal a', 'natrum muriaticum200ck', 'vamousse lice treatment complete kit', 'mfcd00003477', 'sodium chloride, optical grade', 'nsc77364', 'sodium chloride biochemical grade', 'epa pesticide chemical code 013905', 'halite (nacl)', 'sodium chloride crystal optic disc, 25mm x 5mm, unpolished', 'sodium chloride crystal optic rectangle, 38.5mm x 19.5mm x 4mm, unpolished', 'vetivexveterinary hypertonic', 'saline', 'ss salt', 'meijer saline', 'sodium chloride (na36cl)', 'fs30573', 'sodium chloride, anhydrous, beads, -10 mesh, 99.99% trace metals basis', 'sodium chloride, random crystals, optical grade, 99.98% trace metals basis', 'stat trak plus', 'sodium chloride, tablet', 'sodium chloride, reagentplus(r), >=99%', 'nat mur 3x', 'sodium chloride 0.9% in sterile plastic container', 'ec 231-598-3', 'sodium chloride [mi]', 'licefreee everyday', 'sodium chloride [hsdb]', 'sodium chloride (ep monograph)', 'sterile saline mist', '7.5% hypertonic saline', 'colyte', 'hyposaline', 'sodium chloric', 'sodium chloride crystal optic disc, 25mm x 4mm, polished both sides', 'corvatrol 0.9%', 'sodium chloride, ultra dry', 'vamousse lice prevention', 'ls-1700', 'einecs 231-598-3', 'sodium chloride hypertonicity', 'unii-451w47iq8x', 'kochsalz', 'sodium chloride crystal optic disc, 13mm x 1mm, polished both sides', 'sodium chloride, hypertonic', 'aqua maris strong', 'sodium chloride 23.4%', 'sodium chloride [usp:jan]', 'b1655', 'aquamarine8105', 'salt', 'sodium chloride [ep monograph]', 'sodium chloride, acs reagent, >=99.0%', 'sodium chloride, ar, >=99.9%', 'p-care k80mx', 'nat mur', 'db09153', 'entsol', 'purex', 'table salt', 'tonicpet 9', 'cleanoz', 'extrafine 325 salt', 'tid clean plant', 'alfa veterinary 0.9% sodium chloride', '451w47iq8x', 'sodium chloride crystal optic rectangle, 38.5mm x 19.5mm x 4mm (drilled), polished both sides', 'sodium chloride 0.9% in plastic container', 'sodium chloride, isotonic', '7647-14-5 (solid)', 'sodium chloride, trace metals grade, 99.99%', 'brinewate superfine', 'walgreens saline mist', 'sterile saline mistwalgreens', 'sodium chloride, for molecular biology, dnase, rnase, and protease, none detected, >=98% (titration)', 'cardiovascular kit', 'suprasel nitrite', 'sdg high level disinfectant', 'saline, sodium chloride', 'gingivyl', 'hy-y0344i', 'sodium chloride (usp:jan)', 'ccris 982', 'sodium chloride crystal optic rectangle, 38.5mm x 19.5mm x 4mm, polished both sides', 'sodium chloride, bioperformance certified, >=99% (titration), cell culture tested', 'sodium chloride, bioultra, for molecular biology, >=99.5% (at)', 'sodium chloride [vandf]', 'sodium chloride, anhydrous', 'tid clean care', 'iodized salt', 'walgreen saline', 'sodium chloride 5% in plastic container', 'sodium chloride [ii]', 'natrium muriaticum 6x', 'str02627', 'athomer mini', 'walgreens saline mistextra strength', 'licefreee', 'chlorine-containing disinfectant', 'sodium chloride, saj first grade, >=99.0%', 'sodium-chloride', 's0572', 'nacl 0.9%', 'd02056', 'isotopic standard for chlorine, nist srm 975a', 'athomer', 'natrum muriaticum 6c', 'sodium chloride [usp-rs]', 'na-zone', '14762-51-7', 'h.g. blending', 'sodium;chloride', 'extrafine 200 salt', 'flexivial', 'mafiron', '0.9% saline', 'sodium chloride (ii)', 'sodiumchloride', 'sodium chloride, spectroscopy grade', 'sodium-36 chloride', 'natriumchlorid [german]', 'sodium chloride (usp monograph)', 'aqua marina', 'sodium chloride, bioxtra, >=99.5% (at)', 'sodium chloride, p.a., 99-100.5%', 'sodium chloride, anhydrous, redi-dri(tm), free-flowing, acs reagent, >=99%', 'hy-y0344j', 'natrii chloridum', 'rns60 component saline', 'sodium chloride [green book]', 'sodium chloride, puriss. p.a., acs reagent, reag. iso, reag. ph. eur., >=99.5%', 'sykes 0.9% sodium chloride', 'broncho saline', 'aqua maris daily', 'sea water', 'extra fine 325 salt', 'sodium chloride (nacl)', 'sodium chloride, vetec(tm) reagent grade, 99%']\n",
      "Health Info: No info found.\n"
     ]
    }
   ],
   "source": [
    "# Sample 1\n",
    "sample = \"Sal, Zucker, ascorbic acid, curcuma longa, Sodium chloride, E300\"\n",
    "results = preprocess_ingredient_list_with_health(sample)\n",
    "for r in results:\n",
    "    print(f\"\\n{r['standard']}\\nAliases: {r['aliases']}\\nHealth Info: {r['health_info']}\")\n",
    "\n",
    "# Sample 2 (with typos and fuzzy needs)\n",
    "sample = \"sal, suagr, ascorbic acid, kurkuma longa, table sald\"\n",
    "results = preprocess_ingredient_list_with_health(sample)\n",
    "for r in results:\n",
    "    print(f\"\\n{r['standard']}\\nAliases: {r['aliases']}\\nHealth Info: {r['health_info']}\")"
   ]
  },
  {
   "cell_type": "code",
   "execution_count": 48,
   "metadata": {},
   "outputs": [
    {
     "name": "stdout",
     "output_type": "stream",
     "text": [
      "\n",
      "sodium chloride solution, 1 mol/l -1 n volumetric standard solution\n",
      "Aliases: ['sodium chloride solution, 1 mol/l -1 n volumetric standard solution', 'adsorbanac', 'aqua maris daily clean', 'api pond pond salt', 'chebi:26710', 'muro 128', 'q2314', 'natrium muriaticum', 'trisodium trichloride', 'akos024457457', 'sel gemme8146', 'sodium chloride, nist(r) srm(r) 919b', 'usepa/opp pesticide code: 13905', 'vamousse lice treatment', 'homeopathic pediculicide', 'tid clean dent', '7647-14-5', 'hy-y0344h', 'sodium chloride1 gram', 'isotonic saline', 'natrum muriaticum kit refill', 'sodium standard for aas, ready-to-use, traceable to bam, in h2o', 'cs-0376163', 'b1655 [langual]', 'nacl solution, 1m', 'wln: na g', 'beanguard gargle', 'sodium chloride for dnase, rnase, and protease, none detected', 'akos024438089', 'sodium chloride, reagent grade, >=98%, +80 mesh particle size', 'sodium chloride brine, purified', 'natrii chloridum [who-ip latin]', 'white crystal', '0.9% sodium chloride', 'arm-a-vial', 'sodium chloride 3% in plastic container', 'sodium monochloride', 'sodium chloride 0.65%', 'sodium chloride anhydrous', 'sodium chloride, puriss. p.a., >=99.5% (at), powder or crystals', '32343-72-9', 'sodium chloride hypertonicity ophthalmic', 'sodium chloride, usp, 99.0-101.0%', 'sodium chloride 23.4% in plastic container', 'sodium chloride [jan]', 'bye bye (toc toc)', 'cs-0909802', 'nasoxinspray', 'top flake', 'bacteriostatic sodium chloride 0.9% in plastic container', 'saline nasal3oz', 'sodium chloride, certified reference material for titrimetry, certified by bam, according to iso 17025, >=99.5%', 'sodium chloride crystal optic disc, 32mm x 3mm, polished both sides', 'isotonic', 'mineral metea', '10% sodium chloride injection', 'sodium chloride, meets analytical specification of ph. eur. bp usp,  inverted exclamation marku0.00002% al', 'mono-sodium chloride salt', 'sodium chloride (jp18/usp)', 'natrum muriaticum', 'sterile saline mistrite aid', 'cloruro sodico', 'sterile saline', 'sodium chloride, 99.999%', 'sodium chloride, puriss. p.a., >=99.5% (at)', 'sodium chloride, bioreagent, suitable for cell culture, suitable for insect cell culture, suitable for plant cell culture, >=99%', 'sodium chloride 0.45% in plastic container', 'hypertonic saline 7.2%', 'sodium chloride, lr, >=99.5%', 'halite', 'hypersal', 'sodium chloride, for cell culture', 'sykes hypertonic saline 7.2%', 'veterinary 0.9% sodium chloride', 'bye zero', 'sodium chloride salt', 'nat mur 30x', '0.9% nacl', 'nacl', 'adsorbanac (tn)', 'athomer propolis', 'walgreens saline', 'extra strenght saline mist', 'saline wipes', 'nat mur 12x', 'sinucleanse sterile saline mist', 'normal saline', 'vetivexveterinary sodium chloride', 'natrum muriaticum [hpus]', 'ayr', 'sodium chloride 0.9% in plastic thermoject kit for cardiac output use', 'sodium chloride acs', 'sodium chloride', 'sodium chloride, pharmaceutical secondary standard; certified reference material', 'p-care k40mx', 'sodium chloride, >=99%, ar grade', 'amphenol-40', 'saline mist', 'caswell no. 754', 'sodium chloride in plastic container', 'saline nasal1 fl oz', 'sodium chloride; nacl', 'octiq', 'sodium chloride spray', 'cs-0909803', 'api aquarium salt', 'chlorure de sodium', 'tid clean align', 'ns00076259', 'sodium chloride, p.a., acs reagent, reag. iso, reag. ph. eur., 99.5%', 'sodium chloride [orange book]', 'sel gemme', 'sodium chloride crystal optic rectangle, 30mm x 15mm x 4mm, polished both sides', 'sodium chloride crystal optic rectangle, 30mm x 15mm x 4mm (drilled), polished both sides', 'sodium chloride, acs reagent', 'rock salt', 'cardiovascular accessory kit', 'normal salt', 'natriumchlorid', 'sodium chloride, tested according to ph.eur.', 'nsc-77364', 'solsel', 'sodium chloride for irrigation', 'sodium chloride, technical grade, 95%', 'natrum muriaticum8009', 'athomer baby', '231-598-3', 'sodium chloride crystal optic disc, 13mm x 2mm, polished both sides', 'sodanylium and hydrochloric acid, ion(1-) (1:1)', 'rns-60 component saline', 'common salt', 'sodium chloride, anhydrous, beads, -10 mesh, 99.999% trace metals basis', 'clear mist', 'sodium chloride [who-ip]', 'sodium chloride [usp monograph]', 'cs-0909801', 'sodium chloride [who-dd]', 'dendritis', 'slow sodium', 'sinucleanse sterile saline mist daily care', 'chembl1200574', 'dtxsid3021271', 'sterile saline kids mist', 'sodium chloride crystal optic disc, 22mm x 4mm, polished both sides', 'nat mur 6x', 'special salt 100/95', 'unii-vr5y7pdt5w', 'sodium chloride, 99.999% trace metals basis', 'sodium chloride, usp, 99.0-100.5%', 'natrum muriaticum 30c', 'sodium chloride, technical grade, 97%', 'isotonic sodium chloride solution', 'saline nasal2oz', 'titrisol', 'sodium chloride 2.65%', 'vr5y7pdt5w', 'sea salt', 'altachlore sodium chloride hypertonicity', 'salt (6ci,7ci)', 'hsdb 6368', 'hy-y0344d', 'haemonetics 0.9 % sodium chloride', 'sodium chloride, jis special grade, >=99.5%', 'dtxcid001271', 'sodium chloride (usp-rs)', 'salt (ingredient)', 'nebusal', 'sodium chloride crystal optic disc, 25mm x 2mm, polished both sides', 'cleansing wipe / tube', 'sodium chloride crystal optic rectangle, 41mm x 23mm x 6mm, unpolished', 'ancient secrets', 'sodium chloridenormal salt', 'canners 999', 'nat mur 200x', 'vamousse pro lice treatment', 'sodium chloride crystal optic disc, 32mm x 3mm (drilled), polished both sides', 'nsc 77364', 'uzushio biryuu m', '3% sodium chloride', 'multibic component sodium chloride', 'extra fine 200 salt', 'sterile saline kids mistsinucleanse breathe', 'sterile saline kids mistpediameds', 'extra strenght saline mistrite aid', 'normal salt tablets', 'sodium chloride, united states pharmacopeia (usp) reference standard', 'dendritic salt', 'sodium chloride (8ci)', 'cvs saline', 'sterling', 'sodium chloride, for molecular biology', 'ancient secretsbreathe again', 'sodium chloride, meets analytical specification of ph. eur., bp, usp, 99.0-100.5%', 'saline nasal1.5oz', 'sodium chloride, anhydrous, free-flowing, redi-dri(tm), reagentplus(r), >=99%', 'sodium chloride, ph. eur., usp grade', 'sodium chloride (na4cl4)', 'sodium chloride, manac incorporated', 'pulmosal', 'usp sodium chloride', 'hypertonic saline 7.2 %', 'sodium chloride, bacteriostatic', 'aqua maris extra strong', 'watesal a', 'natrum muriaticum200ck', 'vamousse lice treatment complete kit', 'mfcd00003477', 'sodium chloride, optical grade', 'nsc77364', 'sodium chloride biochemical grade', 'epa pesticide chemical code 013905', 'halite (nacl)', 'sodium chloride crystal optic disc, 25mm x 5mm, unpolished', 'sodium chloride crystal optic rectangle, 38.5mm x 19.5mm x 4mm, unpolished', 'vetivexveterinary hypertonic', 'saline', 'ss salt', 'meijer saline', 'sodium chloride (na36cl)', 'fs30573', 'sodium chloride, anhydrous, beads, -10 mesh, 99.99% trace metals basis', 'sodium chloride, random crystals, optical grade, 99.98% trace metals basis', 'stat trak plus', 'sodium chloride, tablet', 'sodium chloride, reagentplus(r), >=99%', 'nat mur 3x', 'sodium chloride 0.9% in sterile plastic container', 'ec 231-598-3', 'sodium chloride [mi]', 'licefreee everyday', 'sodium chloride [hsdb]', 'sodium chloride (ep monograph)', 'sterile saline mist', '7.5% hypertonic saline', 'colyte', 'hyposaline', 'sodium chloric', 'sodium chloride crystal optic disc, 25mm x 4mm, polished both sides', 'corvatrol 0.9%', 'sodium chloride, ultra dry', 'vamousse lice prevention', 'ls-1700', 'einecs 231-598-3', 'sodium chloride hypertonicity', 'unii-451w47iq8x', 'kochsalz', 'sodium chloride crystal optic disc, 13mm x 1mm, polished both sides', 'sodium chloride, hypertonic', 'aqua maris strong', 'sodium chloride 23.4%', 'sodium chloride [usp:jan]', 'b1655', 'aquamarine8105', 'salt', 'sodium chloride [ep monograph]', 'sodium chloride, acs reagent, >=99.0%', 'sodium chloride, ar, >=99.9%', 'p-care k80mx', 'nat mur', 'db09153', 'entsol', 'purex', 'table salt', 'tonicpet 9', 'cleanoz', 'extrafine 325 salt', 'tid clean plant', 'alfa veterinary 0.9% sodium chloride', '451w47iq8x', 'sodium chloride crystal optic rectangle, 38.5mm x 19.5mm x 4mm (drilled), polished both sides', 'sodium chloride 0.9% in plastic container', 'sodium chloride, isotonic', '7647-14-5 (solid)', 'sodium chloride, trace metals grade, 99.99%', 'brinewate superfine', 'walgreens saline mist', 'sterile saline mistwalgreens', 'sodium chloride, for molecular biology, dnase, rnase, and protease, none detected, >=98% (titration)', 'cardiovascular kit', 'suprasel nitrite', 'sdg high level disinfectant', 'saline, sodium chloride', 'gingivyl', 'hy-y0344i', 'sodium chloride (usp:jan)', 'ccris 982', 'sodium chloride crystal optic rectangle, 38.5mm x 19.5mm x 4mm, polished both sides', 'sodium chloride, bioperformance certified, >=99% (titration), cell culture tested', 'sodium chloride, bioultra, for molecular biology, >=99.5% (at)', 'sodium chloride [vandf]', 'sodium chloride, anhydrous', 'tid clean care', 'iodized salt', 'walgreen saline', 'sodium chloride 5% in plastic container', 'sodium chloride [ii]', 'natrium muriaticum 6x', 'str02627', 'athomer mini', 'walgreens saline mistextra strength', 'licefreee', 'chlorine-containing disinfectant', 'sodium chloride, saj first grade, >=99.0%', 'sodium-chloride', 's0572', 'nacl 0.9%', 'd02056', 'isotopic standard for chlorine, nist srm 975a', 'athomer', 'natrum muriaticum 6c', 'sodium chloride [usp-rs]', 'na-zone', '14762-51-7', 'h.g. blending', 'sodium;chloride', 'extrafine 200 salt', 'flexivial', 'mafiron', '0.9% saline', 'sodium chloride (ii)', 'sodiumchloride', 'sodium chloride, spectroscopy grade', 'sodium-36 chloride', 'natriumchlorid [german]', 'sodium chloride (usp monograph)', 'aqua marina', 'sodium chloride, bioxtra, >=99.5% (at)', 'sodium chloride, p.a., 99-100.5%', 'sodium chloride, anhydrous, redi-dri(tm), free-flowing, acs reagent, >=99%', 'hy-y0344j', 'natrii chloridum', 'rns60 component saline', 'sodium chloride [green book]', 'sodium chloride, puriss. p.a., acs reagent, reag. iso, reag. ph. eur., >=99.5%', 'sykes 0.9% sodium chloride', 'broncho saline', 'aqua maris daily', 'sea water', 'extra fine 325 salt', 'sodium chloride (nacl)', 'sodium chloride, vetec(tm) reagent grade, 99%']\n",
      "Health Info: No info found.\n",
      "\n",
      "acid, ascorbic\n",
      "Aliases: ['acid, ascorbic', 'l-ascorbic acid, powder, cell culture tested, gamma-irradiated', 'citrovit', 'ascorbic acid (usp:inn:ban:jan)', 'vicelat', 'vitamisin', 'ronotec 100', 'hicell', 'ascorbic acid, l-', 'chembl40274', 'ascorbyl radical', '.ascorbinsaure', 'l-ascorbic acid, p.a., acs reagent, reag. iso, 99.7%', 'cetane-caps tc', 'laroscorbine', 'nsc-33832', 'a0537', 'nsc33832', '6730-29-6', 'vitamin c;acidum ascorbicum', 'ido-c', '2-(1,2-dihydroxyethyl)-4,5-dihydroxyfuran-3-one', 'msk1523', 'hex-1-enofuranos-3-ulose', 'cevibid', 'vitacin', 'xitix', '47a605f0-4187-47a8-b0ce-f9e7da1b0076', 'l-ascorbic acid, free acid', 'hms3713a11', 'l-ascorbic acid, cell culture', 'e80759', 'ferrous ascorbate', 'vitamine c', 'cantaxin', 'ascorbic acid [ban:inn:jan]', 'c-span', 'l-(+)-ascorbic acid', 'scorbu c', 'l-ascorbic acid, mixt. with vitamin b', 'colascor', 'antiscorbutic vitamin', 'dtxsid50986567', 'cleanflex', 'ascorbicap', 'ncgc00164357-01', 'roscorbic', 'c00072', 'l-ascorbic acid acs reagent grade', 'l-ascorbic acid, suitable for cell culture, suitable for plant cell culture, >=98%', 'ascorbic acid [ii]', 'stuartinic', 'adenex', 'cetemican', 'scorbacid', 'component of cortalex', 'hy-b0166g', 'vitace', 'ascorbate', 'ascorbutina', 'cortalex', 'cevimin', 'ins-300', 'dtxcid50820452', 'cebid', 'akos016843589', 'cegiolan', 'suncoat vc 40', 'bmse000182', 'ascorbic acid, united states pharmacopeia (usp) reference standard', 'ncgc00188972-01', 'allercorb', 'catavin c', 'ascorbic acid [hsdb]', 'l-ascorbate', 'l-ascorbic acid, bioxtra, >=99.0%, crystalline', 'citriscorb', 'da-61252', 'q199678', 'l-ascorbic acid, acs reagent, >=99%', 'new clairfore', 'acidum ascorbicum (inn-latin)', '(5r)-5-[(1s)-1,2-dihydroxyethyl]-3,4-dihydroxyfuran-2(5h)-one (non-preferred name)', 'l-ascorbic acid, plant cell culture tested', 'vicomin c', 'cebicure', 'cebione', 'cipca', '(r)-5-((s)-1,2-dihydroxyethyl)-3,4-dihydroxyfuran-2(5h)-one', 'viscorin', 'prestwick3_000325', 'dtxcid90106', 'l-threo-ascorbic acid', 'cell c', 'nsc 218455', 'l-xyloascorbate', 'ncgc00091517-03', 'sodascorbate', 'chewcee', 'ascorbic acid [jan]', 'hms2096a11', 'ascorbic acid, european pharmacopoeia (ep) reference standard', 'cevex', 'tolfrinic', 'cecon', 'ester c', 'ester-c', 'hy-b0166r', 'l-ascorbic acid 1000 microg/ml in acetonitrile', 'acido ascorbico', 'l-ascorbic acid, free radical form', 'component of e and c-level', 'vitamina c', 'q27101942', 'arco-cee', 'xyloascorbic acid, l-', 'asorbicap', 'ncgc00091517-02', 'l-ascorbic acid, reagent grade', 'natrascorb', 'rovimix c', 'acidum ascorbicum', 'ascor (tn)', 'ascor-b.i.d.', 'mls002153776', 'chromagen', 'l-ascorbic acid, vetec(tm) reagent grade, 99%', 'ascorbinsaure', 'ce-vi-sol', 'cemagyl', 'vitacimin', '(5r)-5-[(1s)-1,2-dihydroxyethyl]-3,4-dihydroxyfuran-2(5h)-one', 'ascorbinezuur', 'ascorbic acid, british pharmacopoeia (bp) reference standard', 'chebi:22652', 'ascorbic acid (mart.)', 'celaskon', 'ascorbicab', 'planavit c', '2-(1,2-dihydroxyethyl)-4,5-dihydroxy-furan-3-one', 'clairfore', 'ncgc00091517-06', '(5r)-5-((1s)-1,2-dihydroxyethyl)-3,4-dihydroxyfuran-2(5h)-one', 'ascorbicap (tn)', 'ascorbic acid [vandf]', 'e300', 'ascorvit', 'acidum ascorbicum [inn-latin]', 'l-threo-hex-2-enono-1,4-lactone', '(2r)-2-[(1s)-1,2-dihydroxyethyl]-4,5-dihydroxy-furan-3-one', 'acido ascorbico [inn-spanish]', 'gtpl4781', 'vit c', 'ccris 57', 'ascorbic acid [ep monograph]', 'c-level', 'rontex 100', 'sw198791-2', '3-oxo-l-gulofuranolactone', 'ascorbic acid [mi]', 'antiscorbic vitamin', 'scorbu-c', 'duoscorb', 'ascorbic acid [orange book]', 'hms2231n16', 'ascorbic acid (l-ascorbic acid; vitamin c)', 'smr001233160', 'pq6ck8pd0r', 'da-61251', 'l-ascorbic acid, certified reference material, tracecert(r)', 'gtpl4532', 'l-ascorbic acid (standard)', 'cevalin', 'vitamin c', 'l-ascorbic acid, >=99.0%', 'cevi-bid', 'c-quin', 'viforcit', 'ascorbin', 'ascorbajen', 'l-ascorbic acid', 'meri-c', 'cevitex', 'kangbingfeng', 'l-ascorbic acid, puriss. p.a., >=99.0% (rt)', 'ascoltin', 'nsc-218455', 'l-ascorbic acid, puriss. p.a., acs reagent, reag. iso, reag. ph. eur., 99.7-100.5% (oxidimetric)', 'cebion', '53262-66-1', 'l-ascorbic acid, reagent grade, crystalline', 'ce lent', '3-oxo-l-gulofuranolactone (enol form)', 'l-ascorbic acid, p.a., acs reagent, 99.0%', 'ascorbic acid [usp monograph]', 'dr cellapy sr premium', 'e-300', '(r)-5-(1,2-dihydroxy-ethyl)-3,4-dihydroxy-5h-furan-2-one', 'ascor', 'testascorbic', 'schembl4430', 'ascorin', 'l-ascorbic acid (gmp)', 'lemascorb', 'davitamon c', 'cs-0626121', 'hex-2-enonic acid gamma-lactone, l-threo-', 'gamma-lactone l-threo-hex-2-enonate', 'mfcd00064328', 'bspbio_000329', 'antiscorbutic factor', 'vitacee', 'celin', 'vita rich', 'hy-b0166', '3eka', 'cee-caps td', 'l-ascorbic acid, ar, >=99.5%', 'ascoltin (tn)', 'acide ascorbique [inn-french]', 'component of endoglobin forte', 'ascorbic acid [fhfi]', 'ascorbinsaeure', 'vitascorbol', 'acidum ascorbinicum', 'l-ascorbic acid, tested according to ph.eur.', 'ascorbic acid (jp17/usp/inn)', 'db00126', 'redoxon', 'l-3-ketothreohexuronic acid lactone', 'ferancee', 'schembl785', 'tox21_202127', 'ascorbic acid (usp-rs)', 'dtxsid5020106', 'ciamin', 'dtxsid7048112', 'ascorteal', '50-81-7', 'secorbate', 'ascorbic acid (ii)', 'chebi:29073', 'hybrin', 'ascorbic acid (vit c)', 'natrascorb injectable', 'ascorbic acid (usp monograph)', 'cetamid', 'ins no.300', '(5r)-5-[(1s)-1,2-dihydroxyethyl]-3,4-dihydroxy-2,5-dihydrofuran-2-one', 'l-lyxoascorbate', '[14c]-ascorbic acid', 'einecs 200-066-2', 's3114', 'vitamin c (ascorbic acid)', 'juvamine', 'ceklin', 'ascorbic acid [usp-rs]', 'proscorbin', 'cetane-caps td', 'en300-708766', '(+)-ascorbic acid', 'celladix c.e.f advanced brightening ampoule', 'tox21_112104', '[14c]ascorbic acid', 'l-ascorbic acid, anhydrous, free-flowing, redi-dri(tm), acs reagent, >=99%', 'acidum ascorbicum [who-ip latin]', 'ncgc00259676-01', 'l-ascorbic acid, fcc, fg', 'tox21_110315', 'ascorbic acid [usp:inn:ban:jan]', 'ascorbic acid [mart.]', 'dtxsid801344780', 'l-threoascorbic acid', 'hsdb 818', 'ab00376923_04', 'l(+)-ascorbate', 'l(+)-ascorbic acid', 'vitamin c [vandf]', 'nci-c54808', 'bpbio1_000363', 'ascorb', 'cenolate', 'ascorbic acid1505', 'cetebe', 'cemill', 'ncgc00091517-01', 'ribena', 'cenetone', 'ceglion', 'acido ascorbico (inn-spanish)', 'neo-valdrin', 'tox21_302958', 'ascorbic acid [who-dd]', 'ascorbicum acidum', 'bcp27915', 'ascorbic acid [fcc]', 'cescorbat', 'hicee', 'l-ascorbic acid, 99%', 'cevitamic acid', 'ascorbic acid', 'cevital', 'ascorbic acid (ep monograph)', '2,3-dehydro-l-threo-hexono-1,4-lactone', 'concemin', 'chebi:176783', 'cevatine', 'cevitamate', 'cevitamin', 'l-xyloascorbic acid', 'l-lyxoascorbic acid', 'c-vimin', 'unii-pq6ck8pd0r', 'kyselina askorbova', 'e 300', 'ab00376923_05', 'gamma-lactone l-threo-hex-2-enonic acid', 'dora-c-500', 'l-threoascorbic acid,antiscorbutic factor,vitamin c;(r)-5-((s)-1,2-dihydroxyethyl)-3,4-dihydroxyfuran-2(5h)-one', 'aromacura shower filter', 'ab00376923', 'viscorin 100m', 'd00018', 'l-ascorbic acid, analytical standard', 'ascorbic acid [inn]', 'nsc 33832', 'ce-mi-lin', 'cantan', '(2r)-2-[(1s)-1,2-dihydroxyethyl]-3,4-dihydroxy-2h-furan-5-one', 'cergona', 'liqui-cee', 'ccg-207946', 'l-ascorbic acid, jis special grade, >=99.0%', 'ncgc00256504-01', 'l-threo-hex-2-enonic acid, gamma-lactone', 'fa00736', '200-066-2', 'hb1238', '(2r)-2-[(1s)-1,2-dihydroxyethyl]-4,5-dihydroxyfuran-3-one', 'component of ferancee', 'acide ascorbique (inn-french)', 'vasc', 'ns00001126', 'vitamin c (as ascorbic acid)', 'ascorbic acid [who-ip]', 'l-ascorbic acid, meets usp testing specifications', 'fema no. 2109', 'cewin', 'tox21_112104_1', 'c-long', 'caswell no. 061b', 'bp-12831', 'l-ascorbic acid, bioultra, >=99.5% (rt)', 'kyselina askorbova [czech]', 'acide ascorbique', '(+)-ascorbate', 'vitamin c,(s)', '3-keto-l-gulofuranolactone', 'cereon', 'parentrovite', 'cee-vite', 'l-(+)-ascorbate', 'cevitan']\n",
      "Health Info: No info found.\n",
      "\n",
      "sal\n",
      "Aliases: ['sal']\n",
      "Health Info: No info found.\n"
     ]
    }
   ],
   "source": [
    "sample = \"Sodium chloride, E300, Sal\"\n",
    "results = preprocess_ingredient_list_with_health(sample)\n",
    "for r in results:\n",
    "    print(f\"\\n{r['standard']}\\nAliases: {r['aliases']}\\nHealth Info: {r['health_info']}\")"
   ]
  },
  {
   "cell_type": "markdown",
   "metadata": {},
   "source": [
    "### Ingredient Data Retrieval"
   ]
  },
  {
   "cell_type": "code",
   "execution_count": null,
   "metadata": {},
   "outputs": [],
   "source": [
    "def retrieve_health_info(ingredient_name):\n",
    "    \"\"\"\n",
    "    Retrieve health-related effects or warnings about an ingredient.\n",
    "    For now: stub function. Later: connect to APIs or web scraping.\n",
    "    \"\"\"\n",
    "    # Simulate retrieved results\n",
    "    fake_db = {\n",
    "        \"sodium chloride\": \"Excessive intake can lead to high blood pressure.\",\n",
    "        \"ascorbic acid\": \"Supports immune function and acts as an antioxidant.\",\n",
    "        \"e300\": \"E300 is Vitamin C, generally considered safe.\"\n",
    "    }\n",
    "    return fake_db.get(ingredient_name.lower(), \"No info found.\")"
   ]
  }
 ],
 "metadata": {
  "kernelspec": {
   "display_name": "base",
   "language": "python",
   "name": "python3"
  },
  "language_info": {
   "codemirror_mode": {
    "name": "ipython",
    "version": 3
   },
   "file_extension": ".py",
   "mimetype": "text/x-python",
   "name": "python",
   "nbconvert_exporter": "python",
   "pygments_lexer": "ipython3",
   "version": "3.11.7"
  }
 },
 "nbformat": 4,
 "nbformat_minor": 2
}
