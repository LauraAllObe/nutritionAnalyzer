{
 "cells": [
  {
   "cell_type": "markdown",
   "metadata": {},
   "source": [
    "## Final Project - NLP-Driven Ingredient Health and Dietary Restriction Analysis\n",
    "\n",
    "*Name: Laura Obermaier*\n",
    "\n",
    "*Stevens ID: 20027358*"
   ]
  },
  {
   "cell_type": "markdown",
   "metadata": {},
   "source": [
    "### Ingredient List Processing"
   ]
  },
  {
   "cell_type": "markdown",
   "metadata": {},
   "source": [
    "##### imports and setup"
   ]
  },
  {
   "cell_type": "code",
   "execution_count": 57,
   "metadata": {},
   "outputs": [],
   "source": [
    "import re\n",
    "import csv\n",
    "import requests\n",
    "import spacy\n",
    "import langdetect\n",
    "from langdetect import detect\n",
    "from googletrans import Translator\n",
    "import pubchempy as pcp\n",
    "from rapidfuzz import process, fuzz\n",
    "from collections import defaultdict\n",
    "import sys\n",
    "import io\n",
    "import pickle\n",
    "import requests\n",
    "import json\n",
    "\n",
    "csv.field_size_limit(2**20)\n",
    "# Load English tokenizer\n",
    "nlp = spacy.load(\"en_core_web_sm\")\n",
    "translator = Translator()\n",
    "\n",
    "# Global cache to track discovered aliases\n",
    "global_alias_set = set()"
   ]
  },
  {
   "cell_type": "markdown",
   "metadata": {},
   "source": [
    "##### PubChem(aliases) integration"
   ]
  },
  {
   "cell_type": "code",
   "execution_count": 58,
   "metadata": {},
   "outputs": [],
   "source": [
    "def get_pubchem_aliases(ingredient_name):\n",
    "    try:\n",
    "        compounds = pcp.get_compounds(ingredient_name, 'name')\n",
    "        if compounds:\n",
    "            synonyms = compounds[0].synonyms\n",
    "            return list(set(s.lower() for s in synonyms))\n",
    "        return []\n",
    "    except Exception as e:\n",
    "        print(f\"[PubChem error for '{ingredient_name}']: {e}\")\n",
    "        return []"
   ]
  },
  {
   "cell_type": "markdown",
   "metadata": {},
   "source": [
    "##### fuzzy matching"
   ]
  },
  {
   "cell_type": "code",
   "execution_count": 59,
   "metadata": {},
   "outputs": [],
   "source": [
    "def update_alias_cache(aliases):\n",
    "    for a in aliases:\n",
    "        if a:\n",
    "            global_alias_set.add(a.lower().strip())\n",
    "\n",
    "def fuzzy_match_alias(name, threshold=90):\n",
    "    if not global_alias_set:\n",
    "        print(\"[Warning] Alias set is empty — did you run seed_aliases_from_open_food_facts?\")\n",
    "        return None\n",
    "    result = process.extractOne(name, global_alias_set, scorer=fuzz.token_sort_ratio)\n",
    "    if result is None:\n",
    "        return None\n",
    "    match, score, _ = result\n",
    "    return match if score >= threshold else None"
   ]
  },
  {
   "cell_type": "markdown",
   "metadata": {},
   "source": [
    "##### seed aliases from Open Food Facts"
   ]
  },
  {
   "cell_type": "code",
   "execution_count": 60,
   "metadata": {},
   "outputs": [],
   "source": [
    "def seed_aliases_from_open_food_facts(limit=10000):\n",
    "    url = \"https://static.openfoodfacts.org/data/en.openfoodfacts.org.products.csv\"\n",
    "    response = requests.get(url, stream=True)\n",
    "    response.encoding = 'utf-8'\n",
    "\n",
    "    alias_dict = defaultdict(set)\n",
    "\n",
    "    # Read as tab-delimited!\n",
    "    lines = (line.decode('utf-8') for line in response.iter_lines())\n",
    "    reader = csv.DictReader(lines, delimiter='\\t')\n",
    "\n",
    "    langs = ['fr', 'de', 'es', 'it']\n",
    "    count = 0\n",
    "\n",
    "    for row in reader:\n",
    "        if count % 500 == 0:\n",
    "            print(f\"Processing row {count}...\")\n",
    "\n",
    "        if count >= limit:\n",
    "            break\n",
    "        count += 1\n",
    "\n",
    "        ingredients_text = row.get(\"ingredients_text\", \"\")\n",
    "        if not ingredients_text.strip():\n",
    "            continue\n",
    "\n",
    "        for ing in ingredients_text.split(','):\n",
    "            ing = ing.strip().lower()\n",
    "            if not ing:\n",
    "                continue\n",
    "            alias_dict[ing].add(ing)\n",
    "\n",
    "            for lang in langs:\n",
    "                key = f\"ingredients_text_{lang}\"\n",
    "                alt = row.get(key)\n",
    "                if alt:\n",
    "                    for alt_ing in alt.split(','):\n",
    "                        alt_ing = alt_ing.strip().lower()\n",
    "                        if alt_ing:\n",
    "                            alias_dict[ing].add(alt_ing)\n",
    "                            alias_dict[alt_ing].add(ing)\n",
    "\n",
    "    # Push to global alias set\n",
    "    for aliases in alias_dict.values():\n",
    "        update_alias_cache(list(aliases))\n",
    "\n",
    "    print(f\"[✓] Seeded {len(global_alias_set)} unique aliases from Open Food Facts.\")\n"
   ]
  },
  {
   "cell_type": "markdown",
   "metadata": {},
   "source": [
    "##### preprocessing"
   ]
  },
  {
   "cell_type": "code",
   "execution_count": 61,
   "metadata": {},
   "outputs": [],
   "source": [
    "def standardize_ingredient_name(name):\n",
    "    name = name.lower().strip()\n",
    "\n",
    "    aliases = get_pubchem_aliases(name)\n",
    "    if aliases:\n",
    "        update_alias_cache(aliases)\n",
    "        return aliases[0], aliases\n",
    "\n",
    "    fuzzy = fuzzy_match_alias(name)\n",
    "    if fuzzy:\n",
    "        return fuzzy, [fuzzy]\n",
    "\n",
    "    return name, [name]\n",
    "\n",
    "\n",
    "def translate_to_english(text):\n",
    "    try:\n",
    "        lang = detect(text)\n",
    "        return translator.translate(text, src=lang, dest='en').text if lang != 'en' else text\n",
    "    except Exception:\n",
    "        return text\n",
    "\n",
    "\n",
    "def preprocess_ingredient_list(text):\n",
    "    raw_ingredients = re.split(r'[,\\n;/••]+', text)\n",
    "    processed = []\n",
    "\n",
    "    for raw in raw_ingredients:\n",
    "        raw = raw.strip()\n",
    "        if raw:\n",
    "            translated = translate_to_english(raw)\n",
    "            standard, aliases = standardize_ingredient_name(translated)\n",
    "            processed.append({\n",
    "                \"standard\": standard,\n",
    "                \"aliases\": aliases,\n",
    "            })\n",
    "\n",
    "    return processed\n",
    "\n"
   ]
  },
  {
   "cell_type": "markdown",
   "metadata": {},
   "source": [
    "##### store aliases for reuse"
   ]
  },
  {
   "cell_type": "code",
   "execution_count": 62,
   "metadata": {},
   "outputs": [],
   "source": [
    "ALIAS_CACHE_FILE = \"alias_cache.json\"\n",
    "\n",
    "def save_alias_cache(path=ALIAS_CACHE_FILE):\n",
    "    try:\n",
    "        with open(path, \"w\", encoding=\"utf-8\") as f:\n",
    "            json.dump(sorted(global_alias_set), f, ensure_ascii=False, indent=2)\n",
    "        print(f\"[✓] Alias cache saved to {path}\")\n",
    "    except Exception as e:\n",
    "        print(f\"[!] Error saving alias cache: {e}\")\n",
    "\n",
    "def load_alias_cache(path=ALIAS_CACHE_FILE):\n",
    "    global global_alias_set\n",
    "    try:\n",
    "        with open(path, \"r\", encoding=\"utf-8\") as f:\n",
    "            global_alias_set = set(json.load(f))\n",
    "        print(f\"[✓] Loaded {len(global_alias_set)} aliases from cache.\")\n",
    "        return True\n",
    "    except FileNotFoundError:\n",
    "        print(f\"[ ] Alias cache not found at {path}. Will seed from source...\")\n",
    "        return False\n",
    "    except Exception as e:\n",
    "        print(f\"[!] Error loading alias cache: {e}\")\n",
    "        return False"
   ]
  },
  {
   "cell_type": "markdown",
   "metadata": {},
   "source": [
    "##### usage"
   ]
  },
  {
   "cell_type": "code",
   "execution_count": 63,
   "metadata": {},
   "outputs": [
    {
     "name": "stdout",
     "output_type": "stream",
     "text": [
      "[✓] Loaded 5833 aliases from cache.\n"
     ]
    }
   ],
   "source": [
    "if not load_alias_cache():\n",
    "    seed_aliases_from_open_food_facts(limit=5000)\n",
    "    save_alias_cache()"
   ]
  },
  {
   "cell_type": "code",
   "execution_count": 64,
   "metadata": {},
   "outputs": [
    {
     "name": "stdout",
     "output_type": "stream",
     "text": [
      "['& calendula & sunflowers', '& enzymes', \"' farine de blé\", \"'salade 17\", '( glycoside de steviol)', '(about 20g) 70 hydrolyzed gelatin', '(dont arôme de fumée).', '(iowhey®)', '(may contain hazelnut)', '(nur schoko kakaopulver entölt)', '(sucre', '(unbleached enriched flour', '-fdorvège', '0', '0 %', \"0 added sugar and 0 mess. ingredients: organic apples. free top manufactured in a facility free from 12 rlergens from the top 12 allergens 00 certified non gmo project gluten free usda organic verified nongmoproject.org gfco.org p paleo brought to you by that's it nutrition lic. los angeles\", '0% (varkens - en rundsvlees', '0% 13% dipotassium phosphate', '0%)', '0.1% sodium benzoate (preservative)', '000 calorie diet', '000 calorie diet. 50 mg cakdum caseinate 14 g 1daly value not established other ingre fructo ntein concentrate', '000 calories a day is used for general ution advice 0% 2% ingredients corn flour (processed with lime)', '000 calories diet. nutrition facts valeur nutritive per 250 ml brewed mate (from 60 g dry leaves) pour 250 ml de maté infusé (à partir de 60 g de feuilles sèches) amount teneur % daily value calories/calories fat/lipides sodium/sodium carbohydrate/glucides 6 g % valeur quotídien ne 0% 2% 25 og 10 mg 0% 1g sugars/sucres protein/protéines. source négligeable de lipides saturés', \"000 day is used for general nutrition advice sku# 000142 '0000&quot;1427 tradex joes raisin matest hate\", '000 iu) capsule. formulated and', '000 ories a day is used for general nutrition advice. orgain.com see website for pro gredients: orgain organic protein blendtm (organic pea protein', '000** 65g 20g 300mg 2', '004 %)', '004%)', '01 g ingredientes: fibra de aveia (28 %)', '01 g picking po sgs bu 2014 non fl apure 30.04.2024 l:0/41510220008 x5012711ep www.biojoy.eu', '01%)', '01.04.2022 19:19 ycneire kyntb %40%', '010765227 222592010 snoshop & nosnhor 2100hi9eov na do bw ob spontan simeticone ogni compressa contiene: simeticone (dimetilpolisilossano attivato) mg 40. eccipienti: saccarina', '015 g/100 g).', '02 %)', '02 %).', '02 %)i 4 borioková stava v prášku (0', '04%', '04-763 warszawa de i aly-kaaral sri-66050 san salvo (ch)-italy coomopex kozmetik a.s. www.cosmopex.com.tr h - download maraes app bi0 227162007-ohsas 18001:2007 pologisk gardenljos nvatoriškas', '040 mg 1', '05 g 4 g 0', '050 mg 270mg proline glycine histidine 3', '058 entacto de flor de manzanilla (matricaria chamomilla).', '06 g 19', '06%)', '060 mg 1', '07 % (dont basilic* 0', '075 mg tyrosine isoleucine 125 mg valine essential amino acids 11 contains 8 of 9 essential amino acids a average milligrams per serving abra enjoy in your favorite re mix shake for best mixing results shake container to mix a add powder to cup beve d pour liquid on top of p']\n",
      "Total aliases: 5833\n"
     ]
    }
   ],
   "source": [
    "print(sorted(list(global_alias_set))[:50])  # see a preview\n",
    "print(\"Total aliases:\", len(global_alias_set))"
   ]
  },
  {
   "cell_type": "code",
   "execution_count": null,
   "metadata": {},
   "outputs": [
    {
     "name": "stdout",
     "output_type": "stream",
     "text": [
      "\n",
      "sal\n",
      "Aliases: ['sal']\n",
      "\n",
      "d-(+)-sucrose\n",
      "Aliases: ['d-(+)-sucrose', 'sucrose [jan]', 'alpha-d-glucopyranosyl beta-d-fructofuranoside', '92004-84-7', 'dtxcid101288', 'sucrose biochemical grade', 'bmse000918', '85456-51-5', 'd70407', 'sugar', 'saccarose', 'hy-b1779r', 'sucrose, vetec(tm) reagent grade, rnase and dnase free', 'sucrose [ii]', 'd-saccharose 20000 microg/ml in water', 'sucrose, p.a., acs reagent', 'amerfond', '(2r,3r,4s,5s,6r)-2-(((2s,3s,4s,5r)-3,4-dihydroxy-2,5-bis(hydroxymethyl)tetrahydrofuran-2-yl)oxy)-6-(hydroxymethyl)tetrahydro-2h-pyran-3,4,5-triol', 'sucrose, for molecular biology, >=99.5% (gc)', 'sucraloxum [inn-latin]', 'os59592', '57-50-1', 'alpha-d-glucopyranosylbeta-d-fructofuranoside', 'sucrose, ultrapure', 'alpha-d-glc-(1-2)-beta-d-fru', 'sucraloxum', 'sucrose [ep impurity]', '8027-47-2', 'sr-01000883983', 'sucrose (jp18/nf)', 'glc(alpha1->2beta)fru', 's-67f', 'd-saccharose 1000 microg/ml in methanol', 'sucrose (ii)', 'd00025', 'sucrose, molecular biology grade', 'microse', 'sugar spheres (nf)', 'c00089', 'beetsugar', '(2r,3r,4s,5s,6r)-2-[(2s,3s,4s,5r)-3,4-dihydroxy-2,5-bis(hydroxymethyl)tetrahydrofuran-2-yl]oxy-6-(hydroxymethyl)tetrahydropyran-3,4,5-triol', 'sucrose (tn)', 'sucrose, saj first grade', '8030-20-4', 'cane sugar', '(alpha-d-glucosido)-beta-d-fructofuranoside', 'alpha-d-glucopyranoside, beta-d-fructofuranosyl', 'sucrose [jan:nf]', 'sucrose, analytical standard', 'sucrose, cell culture tested', 'sucrose, >=99.5% (gc)', 'sucrose, for electrophoresis, >99%', 'unii-c151h8m554', 'fructofuranoside, alpha-d-glucopyranosyl, beta-d', 'sucrose, meets usp testing specifications', 'sucrose, grade i, plant cell culture tested', 'sucrose, jis special grade', 'sucrose', 'mp02333', 'dtxsid2021288', 'sucrose [fcc]', 'sucrose (standard)', 'tox21_112093', 'sucrose [nf]', '200-334-9', 'en300-126630', 'sucrose [usan:jan]', 's0111', 'sucrose, >=99.5%', 'ai3-09085', 'alpha-d-glucopyranosyl-(1->2)-beta-d-fructofuranoside', 'sucrose, puriss., meets analytical specification of ph. eur., bp, nf', 'glucopyranoside, beta-d-fructofuranosyl, alpha-d', 'beta-d-fructofuranosyl alpha-d-glucopyranoside', 'chembl253582', 'ncgc00164248-05', 'bdbm50108105', 'hsdb 500', '(2r,3r,4s,5s,6r)-2-{[(2s,3s,4s,5r)-3,4-dihydroxy-2,5-bis(hydroxymethyl)oxolan-2-yl]oxy}-6-(hydroxymethyl)oxane-3,4,5-triol', 'sucrose [who-dd]', 'saccharum officinale', 'nsc-406942', 'os02339', 'a-d-glucopyranosyl a-d-fructofuranoside', 'd-(+)-saccharose', '1-alpha-d-glucopyranosyl-2-beta-d-fructofranoside', 'sucrose palmitic acid (1:1 mixture)', 'akos024306988', 'sugar [vandf]', 'rock candy', 'sucrose [hsdb]', 'sucrose, bioxtra, >=99.5% (gc)', 'saccharum', 'glc-(1-2)fru', 'saccharose', 'hy-b1779', 'white sugar', 'carbon isotopes in sucrose, nist(r) rm 8542, iaea-ch-6 sucrose', 'd(+)-saccharose', 'd(+)-sucrose', 'sucrose, vetec(tm) reagent grade, 99%', 'sucrose, dust', 'c151h8m554', 'ncgc00164248-01', 'q4027534', 'alpha-d-glucopyranoside, beta-d-fructofuranosyl-', 'frost sugar', '87430-66-8', 'epitope id:153236', '86101-30-6', 'sucrose, for microbiology, acs reagent, >=99.0%', 'sucrose (constituent of cranberry liquid preparation)', 'refined sugar', 'ccris 2120', 'sugar, compressible (nf)', 'sucrose (constituent of cranberry liquid preparation) [dsc]', 'sucrose, grade ii, plant cell culture tested', 'saccharum officinale [hpus]', '(2r,3r,4s,5s,6r)-2-[(2s,3s,4s,5r)-3,4-dihydroxy-2,5-bis(hydroxymethyl)oxolan-2-yl]oxy-6-(hydroxymethyl)oxane-3,4,5-triol', 'alpha-d-glc-(1-->2)-beta-d-fru', 'sucrose, european pharmacopoeia (ep) reference standard', 'beta-d-fruf-(2<->1)-alpha-d-glcp', 'nsc 406942', 'ncgc00164248-02', 'sacharose', 'sucrose, usp', 'sucrose (ep impurity)', 'ncgc00164248-03', 'sucrose, united states pharmacopeia (usp) reference standard', 'sucrose, analytical standard, for enzymatic assay kit sca20', \"sugar, confectioner's (nf)\", 'nci-c56597', 'sacarosa', 'sucraloxum (inn-latin)', 's3598', 'einecs 200-334-9', 'sucrose acs grade', '.beta.-d-fructofuranosyl-.alpha.-d-glucopyranoside', 'compressible sugar, united states pharmacopeia (usp) reference standard', 'db02772', 'sucrose, anhydrous, free-flowing, redi-dri(tm), acs reagent', 'sucrose, pure', '.alpha.-d-glucopyranoside, .beta.-d-fructofuranosyl-', 'sucrose,ultrapure', 'gtpl5411', 'cas-57-50-1', 'z1589255958', 'ncgc00254237-01', 'manalox as', 'ncgc00258948-01', 'white soft sugar (jp18)', 'sucrose, lr', 'd-sucrose', 'mfcd00006626', '(+)-sucrose', '1af6', 'tox21_201397', 'dyspepsia headache', 'sucrose, bioreagent, suitable for cell culture, suitable for insect cell culture, >=99.5% (gc)', 'sucrose (ep monograph)', 'sucrose - usp', 'sucrose, acs reagent', 'chebi:17992', 'd-saccharose;2-o-a-d-glucopyranosyl-b-d-fructofuranoside', 'sucrose, ar', 'cs-0013810', 'sucrose [ep monograph]', '1-alpha-d-glucopyranosyl-2-beta-d-fructofuranoside', 'rohrzucker', 'sucrose, bioultra, for molecular biology, >=99.5% (hplc)', 'sucrose (for injection)', 'beta-d-fructofuranosyl-(2&harr;1)-alpha-d-glucopyranoside', 'sucrose, british pharmacopoeia (bp) reference standard', \"confectioner's sugar\", 'gne-410', 'd-saccharose', 'amerfand', 'brd-k74724920-001-02-4', 'tox21_300410', 'chebi:65313', 'sucrose (usp-rs)', 'sucrose [usp-rs]', 'sugar, white', 'compressible sugar', 'bmse000119', 'sucrose [mi]', 'sucrose, purified', 'sucrose [vandf]', 'a-5', 'd-saccharose;2-o-?-d-glucopyranosyl-?-d-fructofuranoside', 'beta-d-fructofuranosyl-alpha-d-glucopyranoside', 'sr-01000883983-1', 'b -d-fructofuranosyl a-d-glucopyranoside', 'table sugar', 'bmse000804']\n",
      "\n",
      "c-vimin\n",
      "Aliases: ['c-vimin', 'cereon', 'chromagen', 'ncgc00091517-06', 'ascor', 'ascorbic acid [mart.]', 'schembl4430', 'ascorbic acid (usp monograph)', 'ascorbajen', 'cevitex', 'ascorbic acid [usp:inn:ban:jan]', 'l-ascorbic acid, plant cell culture tested', 'duoscorb', 'hms2231n16', 'ccris 57', 'cewin', 'cleanflex', 'c00072', 'fema no. 2109', 'acid, ascorbic', 'vitamin c (ascorbic acid)', 'ascorbicap', 'cevalin', 'ncgc00091517-03', 'juvamine', 'caswell no. 061b', 'e-300', '[14c]ascorbic acid', 'e 300', 'tox21_110315', 'rontex 100', 'hsdb 818', 'clairfore', 'ccg-207946', 'l-ascorbic acid (gmp)', 'q199678', '3-oxo-l-gulofuranolactone (enol form)', 'cebicure', 'kangbingfeng', 'ceklin', 'natrascorb injectable', 'ascorbic acid (mart.)', 'vitamine c', 'da-61252', 'vitacin', 'c-long', 'ascorbyl radical', 'l-xyloascorbate', 'cortalex', 'l-ascorbic acid, bioultra, >=99.5% (rt)', 'hybrin', 'colascor', 'ascorbicab', 'l-ascorbic acid, reagent grade', 'cebione', 'antiscorbic vitamin', 'l-lyxoascorbic acid', 'kyselina askorbova [czech]', 'ascorbic acid (ii)', 'viscorin', 'chebi:29073', 'cee-vite', 'ido-c', 'acido ascorbico', 'pq6ck8pd0r', 'ascorbic acid [ep monograph]', 'msk1523', 'ascorbutina', 'cemill', 'neo-valdrin', 'ascorbic acid [fhfi]', 'dtxcid90106', 'citrovit', 'schembl785', 'l-ascorbic acid (standard)', 'ascorbic acid (jp17/usp/inn)', 'ncgc00256504-01', 'a0537', 'ceglion', 'ns00001126', 'hms3713a11', 'l-ascorbic acid, vetec(tm) reagent grade, 99%', 'gamma-lactone l-threo-hex-2-enonate', 'ascorbic acid, european pharmacopoeia (ep) reference standard', '(5r)-5-[(1s)-1,2-dihydroxyethyl]-3,4-dihydroxy-2,5-dihydrofuran-2-one', '2-(1,2-dihydroxyethyl)-4,5-dihydroxy-furan-3-one', 'lemascorb', 'hy-b0166r', 'vicomin c', '200-066-2', '3eka', 'l-ascorbic acid', 'cemagyl', 'viforcit', 'l-ascorbic acid acs reagent grade', 'gtpl4532', 'cell c', 'vit c', 'scorbacid', 'l-ascorbic acid, mixt. with vitamin b', 'hms2096a11', 'component of cortalex', 'cevitamate', 'l-3-ketothreohexuronic acid lactone', '(5r)-5-((1s)-1,2-dihydroxyethyl)-3,4-dihydroxyfuran-2(5h)-one', 'acidum ascorbicum [who-ip latin]', 'scorbu c', 'l-ascorbic acid, p.a., acs reagent, reag. iso, 99.7%', 'l-ascorbic acid, puriss. p.a., >=99.0% (rt)', 'cebid', 'gtpl4781', 'akos016843589', 'rovimix c', 'liqui-cee', 'acide ascorbique', 'ab00376923_05', 'cantaxin', 'asorbicap', 'c-level', '(2r)-2-[(1s)-1,2-dihydroxyethyl]-4,5-dihydroxyfuran-3-one', 'roscorbic', 'l-ascorbic acid, fcc, fg', 'ascorteal', 'ciamin', 'acido ascorbico (inn-spanish)', '(2r)-2-[(1s)-1,2-dihydroxyethyl]-4,5-dihydroxy-furan-3-one', 'acidum ascorbicum [inn-latin]', '50-81-7', 'l-ascorbic acid, suitable for cell culture, suitable for plant cell culture, >=98%', '[14c]-ascorbic acid', 'ab00376923_04', 'cevitamic acid', 'l-ascorbic acid, powder, cell culture tested, gamma-irradiated', 'vitamina c', 'vitacimin', 'tox21_112104_1', 'laroscorbine', 'ce-mi-lin', 'chembl40274', 'l-ascorbic acid, reagent grade, crystalline', 'acidum ascorbinicum', 'acidum ascorbicum (inn-latin)', 'ascoltin', 'cescorbat', 'component of e and c-level', 's3114', 'dtxsid801344780', 'ins-300', 'bcp27915', 'ascorbic acid [jan]', 'cetane-caps tc', 'dtxsid50986567', 'nci-c54808', 'vitacee', 'nsc-218455', 'ascorbicum acidum', 'ascorbic acid [usp monograph]', 'ferancee', 'suncoat vc 40', 'dtxcid50820452', 'cetane-caps td', 'ascorbic acid [ii]', 'vitace', 'l-ascorbic acid, 99%', 'mfcd00064328', 'ascorbic acid [fcc]', 'ascorbic acid [orange book]', 'ascorbic acid [ban:inn:jan]', 'ncgc00259676-01', 'ncgc00091517-01', 'vitascorbol', 'cevi-bid', 'celladix c.e.f advanced brightening ampoule', 'celaskon', 'hicee', '(5r)-5-[(1s)-1,2-dihydroxyethyl]-3,4-dihydroxyfuran-2(5h)-one (non-preferred name)', 'dr cellapy sr premium', 'db00126', 'new clairfore', 'ascorbic acid (usp:inn:ban:jan)', 'l-ascorbic acid, free radical form', 'allercorb', 'l-ascorbic acid 1000 microg/ml in acetonitrile', 'vita rich', 'proscorbin', 'citriscorb', 'cs-0626121', 'cetemican', 'l-threo-hex-2-enonic acid, gamma-lactone', 'cetamid', 'l-ascorbic acid, ar, >=99.5%', '.ascorbinsaure', 'bspbio_000329', 'tox21_202127', 'antiscorbutic vitamin', 'ins no.300', 'ascoltin (tn)', 'cevitamin', '2,3-dehydro-l-threo-hexono-1,4-lactone', 'l-ascorbic acid, certified reference material, tracecert(r)', 'dtxsid5020106', 'hex-2-enonic acid gamma-lactone, l-threo-', '6730-29-6', 'hy-b0166g', '(+)-ascorbic acid', 'fa00736', '(r)-5-(1,2-dihydroxy-ethyl)-3,4-dihydroxy-5h-furan-2-one', 'ascor-b.i.d.', 'ncgc00091517-02', 'l-threoascorbic acid', 'xitix', 'acido ascorbico [inn-spanish]', 'chebi:176783', 'l-ascorbic acid, meets usp testing specifications', 'cenolate', 'component of endoglobin forte', 'testascorbic', 'cevitan', 'nsc-33832', 'xyloascorbic acid, l-', 'vitamin c', 'meri-c', 'ascorbic acid [usp-rs]', '47a605f0-4187-47a8-b0ce-f9e7da1b0076', 'tox21_302958', 'acidum ascorbicum', 'ncgc00164357-01', 'ascorbic acid, united states pharmacopeia (usp) reference standard', 'l-ascorbic acid, cell culture', 'cebion', 'adenex', 'cee-caps td', 'ascorin', 'einecs 200-066-2', 'ascorbic acid [inn]', 'l-ascorbic acid, bioxtra, >=99.0%, crystalline', 'l-lyxoascorbate', 'antiscorbutic factor', 'l-(+)-ascorbic acid', 'ascorbic acid [hsdb]', 'nsc33832', 'd00018', 'smr001233160', 'hb1238', 'nsc 218455', 'vitamin c;acidum ascorbicum', 'ascorbic acid, british pharmacopoeia (bp) reference standard', 'ascorbic acid (ep monograph)', 'cipca', 'cevimin', 'e80759', 'vitamin c [vandf]', 'bp-12831', 'ce-vi-sol', 'redoxon', 'l-ascorbic acid, >=99.0%', 'dora-c-500', 'chewcee', 'acide ascorbique [inn-french]', 'ncgc00188972-01', 'l-ascorbic acid, acs reagent, >=99%', 'cegiolan', 'e300', 'chebi:22652', 'c-quin', 'viscorin 100m', 'tox21_112104', 'ascorbic acid [mi]', 'aromacura shower filter', 'bmse000182', 'ester c', 'ester-c', 'parentrovite', 'cevatine', 'vitamisin', 'ab00376923', 'catavin c', '(2r)-2-[(1s)-1,2-dihydroxyethyl]-3,4-dihydroxy-2h-furan-5-one', 'ascorbic acid [who-dd]', 'l-xyloascorbic acid', '3-oxo-l-gulofuranolactone', 'ascorbic acid [vandf]', 'q27101942', 'unii-pq6ck8pd0r', 'ferrous ascorbate', 'en300-708766', 'cantan', 'ascorvit', 'ascorbinezuur', 'cecon', 'davitamon c', 'ascorbic acid', 'vicelat', 'scorbu-c', '53262-66-1', 'component of ferancee', 'l-ascorbic acid, analytical standard', 'bpbio1_000363', 'l(+)-ascorbate', 'cevibid', 'ascorbic acid (usp-rs)', 'l-threoascorbic acid,antiscorbutic factor,vitamin c;(r)-5-((s)-1,2-dihydroxyethyl)-3,4-dihydroxyfuran-2(5h)-one', 'cevital', 'hex-1-enofuranos-3-ulose', 'vitamin c (as ascorbic acid)', 'cergona', 'l-ascorbic acid, tested according to ph.eur.', 'ascor (tn)', 'l-ascorbic acid, free acid', '(+)-ascorbate', 'l-ascorbate', 'ce lent', 'l-(+)-ascorbate', 'vasc', 'gamma-lactone l-threo-hex-2-enonic acid', 'da-61251', 'l-threo-hex-2-enono-1,4-lactone', 'ascorbinsaure', 'prestwick3_000325', 'ascorb', 'sodascorbate', 'ronotec 100', 'planavit c', 'l-threo-ascorbic acid', 'stuartinic', 'cetebe', 'secorbate', 'mls002153776', 'acide ascorbique (inn-french)', 'l-ascorbic acid, puriss. p.a., acs reagent, reag. iso, reag. ph. eur., 99.7-100.5% (oxidimetric)', 'c-span', 'celin', 'concemin', 'kyselina askorbova', '3-keto-l-gulofuranolactone', 'cevex', 'hy-b0166', 'sw198791-2', 'ascorbic acid, l-', 'l-ascorbic acid, anhydrous, free-flowing, redi-dri(tm), acs reagent, >=99%', 'ascorbin', 'ascorbic acid (l-ascorbic acid; vitamin c)', 'ascorbicap (tn)', 'l-ascorbic acid, jis special grade, >=99.0%', 'l-ascorbic acid, p.a., acs reagent, 99.0%', 'ascorbic acid1505', 'nsc 33832', 'ribena', 'arco-cee', 'tolfrinic', '2-(1,2-dihydroxyethyl)-4,5-dihydroxyfuran-3-one', 'ascorbic acid (vit c)', 'hicell', 'ascorbic acid [who-ip]', 'l(+)-ascorbic acid', 'ascorbate', 'dtxsid7048112', 'ascorbinsaeure', 'cenetone', '(5r)-5-[(1s)-1,2-dihydroxyethyl]-3,4-dihydroxyfuran-2(5h)-one', 'natrascorb', '(r)-5-((s)-1,2-dihydroxyethyl)-3,4-dihydroxyfuran-2(5h)-one']\n",
      "\n",
      "the longa turmeric\n",
      "Aliases: ['the longa turmeric']\n",
      "\n",
      "watesal a\n",
      "Aliases: ['watesal a', 'sodium chloridenormal salt', 'ss salt', 'natrium muriaticum', 'sodium chloride 23.4% in plastic container', 'sodium chloride, jis special grade, >=99.5%', 'corvatrol 0.9%', 'vamousse pro lice treatment', 'sykes 0.9% sodium chloride', 'natrii chloridum', 'amphenol-40', 'walgreens saline mistextra strength', 'sodium chloride', 'saline nasal2oz', 'wln: na g', 'sodium chloride, anhydrous, beads, -10 mesh, 99.999% trace metals basis', 'cs-0909803', 'sodium chloride crystal optic disc, 32mm x 3mm, polished both sides', 'sodium standard for aas, ready-to-use, traceable to bam, in h2o', 'nacl solution, 1m', 'sodium chloride for dnase, rnase, and protease, none detected', 'aqua maris extra strong', 'mono-sodium chloride salt', 'veterinary 0.9% sodium chloride', 'sodium chloride, nist(r) srm(r) 919b', 'sodium chloride, puriss. p.a., >=99.5% (at)', 'sodium chloride, tested according to ph.eur.', 'clear mist', 'tid clean care', '0.9% saline', 'extra strenght saline mistrite aid', 'sodium-chloride', 'sterile saline kids mist', 'dendritis', 'tid clean plant', 'sodium chloride, bacteriostatic', 'sodium chloride, anhydrous, free-flowing, redi-dri(tm), reagentplus(r), >=99%', 'hsdb 6368', 'sdg high level disinfectant', 'sodium chloride, meets analytical specification of ph. eur. bp usp,  inverted exclamation marku0.00002% al', 'sodium chloride, reagent grade, >=98%, +80 mesh particle size', 'sterile saline mistrite aid', 'entsol', 'natrum muriaticum [hpus]', 'sodium chloride [hsdb]', 'sodium chloride, p.a., 99-100.5%', 'ec 231-598-3', 'sodium chloride hypertonicity ophthalmic', 'sodium chloride, anhydrous, redi-dri(tm), free-flowing, acs reagent, >=99%', 'salt (6ci,7ci)', 'titrisol', 'sodium chloride, technical grade, 95%', 'altachlore sodium chloride hypertonicity', 'saline mist', 'sodium chloride [who-ip]', 'sinucleanse sterile saline mist daily care', 'licefreee everyday', 'saline nasal1.5oz', 'broncho saline', 'b1655 [langual]', 'cvs saline', 'natrium muriaticum 6x', 'sterile saline mistwalgreens', 'sodium chloride, 99.999% trace metals basis', 'isotonic sodium chloride solution', 'chebi:26710', 'sterile saline', 'aqua marina', 'mafiron', 'sodium chloride, united states pharmacopeia (usp) reference standard', 'sodium chloride, bioperformance certified, >=99% (titration), cell culture tested', 'saline wipes', 'sodium chloride (8ci)', 'sodium chloride 0.45% in plastic container', 'sodium chloride (ii)', 'sodium chloride, random crystals, optical grade, 99.98% trace metals basis', 'sodium chloride [ii]', 'caswell no. 754', 'usepa/opp pesticide code: 13905', '10% sodium chloride injection', 'licefreee', 'aqua maris daily clean', 'sodium chloride (ep monograph)', 'na-zone', 'nat mur 3x', 'solsel', 'sodium chloride, usp, 99.0-100.5%', 'mfcd00003477', '3% sodium chloride', 'sodium chloride, hypertonic', 'normal saline', 'sodium chloride, meets analytical specification of ph. eur., bp, usp, 99.0-100.5%', 'nat mur 6x', '14762-51-7', 'sodium chloride crystal optic rectangle, 41mm x 23mm x 6mm, unpolished', 'nasoxinspray', 'nacl', 'normal salt tablets', 'dendritic salt', 'sodium chloride (nacl)', 'bye bye (toc toc)', 'rns60 component saline', 'sterling', 'sodium chloride acs', 'hypertonic saline 7.2%', 'sodium chloride crystal optic rectangle, 38.5mm x 19.5mm x 4mm, polished both sides', 'flexivial', 'athomer mini', 'epa pesticide chemical code 013905', 'sodium chloric', 'sodium chloride, lr, >=99.5%', 'isotopic standard for chlorine, nist srm 975a', 'sodium chloride 0.9% in plastic container', 'rns-60 component saline', 'chlorine-containing disinfectant', 'sodium chloride, for molecular biology', 'hy-y0344j', 'cs-0376163', 'sodium chloride, p.a., acs reagent, reag. iso, reag. ph. eur., 99.5%', 'sodium-36 chloride', 'hypersal', 'unii-vr5y7pdt5w', 'sodium chloride, bioultra, for molecular biology, >=99.5% (at)', 'aqua maris daily', 'salt (ingredient)', 'api aquarium salt', 'sodium chloride, puriss. p.a., >=99.5% (at), powder or crystals', 'normal salt', 'sodium chloride, vetec(tm) reagent grade, 99%', 'hy-y0344h', 'sodium chloride hypertonicity', 'sodium chloride [who-dd]', 'sodium chloride, spectroscopy grade', 'salt', '231-598-3', 'str02627', 'sodium chloride, optical grade', 'nat mur 200x', 'sodium chloride crystal optic disc, 13mm x 2mm, polished both sides', 'sodium chloride crystal optic rectangle, 30mm x 15mm x 4mm, polished both sides', 'sodium chloride, ultra dry', 'athomer', 'chlorure de sodium', 'extra fine 325 salt', 'b1655', 'sea water', 'slow sodium', 'sodium chloride, reagentplus(r), >=99%', 'dtxsid3021271', 'sodanylium and hydrochloric acid, ion(1-) (1:1)', 'isotonic', 'kochsalz', 'sodium chloride anhydrous', 'chembl1200574', 'trisodium trichloride', 'rock salt', 'sodium chloride, anhydrous, beads, -10 mesh, 99.99% trace metals basis', 'extrafine 325 salt', 'cleansing wipe / tube', 'isotonic saline', 'sodium;chloride', 'cloruro sodico', 'athomer baby', 'sodium chloride, acs reagent', 'sodium chloride, ph. eur., usp grade', 'h.g. blending', 'tid clean dent', 'vr5y7pdt5w', 'suprasel nitrite', 'sodium chloride brine, purified', 'cs-0909801', 'sinucleanse sterile saline mist', 'sodium chloride 2.65%', 'natriumchlorid [german]', 'bacteriostatic sodium chloride 0.9% in plastic container', 'stat trak plus', 'sodium chloride crystal optic disc, 25mm x 5mm, unpolished', 'sodium chloride spray', 'sodium chloride, 99.999%', 'mineral metea', 'saline nasal1 fl oz', 'canners 999', 'sodium chloride (jp18/usp)', 'halite', 'sodium chloride [usp monograph]', 'akos024438089', 'haemonetics 0.9 % sodium chloride', 'sodium chloride [ep monograph]', 'natriumchlorid', 'sodium chloride crystal optic disc, 13mm x 1mm, polished both sides', 'natrum muriaticum', 'special salt 100/95', 'sodium chloride 3% in plastic container', 'alfa veterinary 0.9% sodium chloride', 'sodium chloride; nacl', 'vamousse lice treatment complete kit', 'muro 128', 'sodium chloride, isotonic', 'sodium chloride 23.4%', 'sodium chloride (usp-rs)', 'sodium chloride 0.9% in plastic thermoject kit for cardiac output use', 'nat mur 30x', 'hypertonic saline 7.2 %', 'sodium chloride, for cell culture', 'sodium chloride crystal optic disc, 25mm x 4mm, polished both sides', 'nat mur', 'homeopathic pediculicide', 'cleanoz', 'sodium chloride, >=99%, ar grade', 'sodium chloride 5% in plastic container', 'q2314', 'sterile saline kids mistpediameds', 'sodium chloride [vandf]', 'walgreens saline mist', 'dtxcid001271', 'extra fine 200 salt', 'api pond pond salt', 'natrum muriaticum8009', 'sodium chloride (na36cl)', 'sodium chloride biochemical grade', 'multibic component sodium chloride', 'walgreens saline', 'sodium chloride crystal optic disc, 25mm x 2mm, polished both sides', 'db09153', 'sodium chloride, manac incorporated', 'cardiovascular kit', 'purex', 'saline, sodium chloride', 'sodium chloride [usp:jan]', 's0572', 'walgreen saline', 'sodium chloride crystal optic rectangle, 38.5mm x 19.5mm x 4mm, unpolished', '451w47iq8x', '7.5% hypertonic saline', 'sodium chloride (usp monograph)', 'sodium chloride [orange book]', 'pulmosal', 'ayr', 'extra strenght saline mist', 'arm-a-vial', 'cardiovascular accessory kit', 'sodium chloride 0.9% in sterile plastic container', 'sterile saline mist', 'colyte', 'sodium chloride in plastic container', 'usp sodium chloride', 'sodium chloride 0.65%', 'sodium chloride (na4cl4)', 'sodium chloride, usp, 99.0-101.0%', 'gingivyl', 'ancient secretsbreathe again', 'nat mur 12x', 'meijer saline', 'vetivexveterinary sodium chloride', 'adsorbanac', 'nsc 77364', 'bye zero', 'nsc-77364', 'sel gemme', 'sodium chloride, technical grade, 97%', 'uzushio biryuu m', 'beanguard gargle', 'sel gemme8146', '7647-14-5 (solid)', 'sodium chloride, saj first grade, >=99.0%', 'sodium chloride crystal optic rectangle, 38.5mm x 19.5mm x 4mm (drilled), polished both sides', 'sodium chloride, trace metals grade, 99.99%', 'tonicpet 9', 'sodium chloride, tablet', 'akos024457457', 'nacl 0.9%', 'nsc77364', 'natrum muriaticum200ck', 'natrum muriaticum 6c', 'sodium chloride, anhydrous', 'sodium chloride, pharmaceutical secondary standard; certified reference material', 'aquamarine8105', 'sodium chloride [jan]', 'vamousse lice treatment', 'ns00076259', 'sodium chloride, acs reagent, >=99.0%', 'sea salt', 'aqua maris strong', 'sodium chloride, puriss. p.a., acs reagent, reag. iso, reag. ph. eur., >=99.5%', 'top flake', '0.9% nacl', 'brinewate superfine', 'natrum muriaticum kit refill', 'sodium chloride, ar, >=99.9%', 'sodium chloride [usp-rs]', 'sodium chloride for irrigation', 'd02056', 'nebusal', 'sodiumchloride', '0.9% sodium chloride', 'unii-451w47iq8x', 'sodium chloride, bioxtra, >=99.5% (at)', 'adsorbanac (tn)', 'sykes hypertonic saline 7.2%', 'natrum muriaticum 30c', '7647-14-5', 'sodium chloride crystal optic disc, 22mm x 4mm, polished both sides', 'ancient secrets', 'sodium chloride, for molecular biology, dnase, rnase, and protease, none detected, >=98% (titration)', 'sodium chloride, certified reference material for titrimetry, certified by bam, according to iso 17025, >=99.5%', 'vetivexveterinary hypertonic', 'hyposaline', 'ls-1700', 'saline nasal3oz', 'ccris 982', 'hy-y0344i', 'saline', 'sodium chloride salt', 'athomer propolis', 'fs30573', 'sodium chloride crystal optic disc, 32mm x 3mm (drilled), polished both sides', 'halite (nacl)', 'sodium chloride solution, 1 mol/l -1 n volumetric standard solution', 'cs-0909802', 'table salt', 'sodium chloride crystal optic rectangle, 30mm x 15mm x 4mm (drilled), polished both sides', 'sodium chloride, bioreagent, suitable for cell culture, suitable for insect cell culture, suitable for plant cell culture, >=99%', '32343-72-9', 'iodized salt', 'p-care k40mx', 'vamousse lice prevention', 'white crystal', 'octiq', 'sodium chloride (usp:jan)', 'extrafine 200 salt', 'sterile saline kids mistsinucleanse breathe', 'sodium chloride [mi]', 'common salt', 'sodium chloride1 gram', 'hy-y0344d', 'natrii chloridum [who-ip latin]', 'sodium chloride [green book]', 'p-care k80mx', 'sodium monochloride', 'tid clean align', 'einecs 231-598-3']\n",
      "\n",
      "c-vimin\n",
      "Aliases: ['c-vimin', 'cereon', 'chromagen', 'ncgc00091517-06', 'ascor', 'ascorbic acid [mart.]', 'schembl4430', 'ascorbic acid (usp monograph)', 'ascorbajen', 'cevitex', 'ascorbic acid [usp:inn:ban:jan]', 'l-ascorbic acid, plant cell culture tested', 'duoscorb', 'hms2231n16', 'ccris 57', 'cewin', 'cleanflex', 'c00072', 'fema no. 2109', 'acid, ascorbic', 'vitamin c (ascorbic acid)', 'ascorbicap', 'cevalin', 'ncgc00091517-03', 'juvamine', 'caswell no. 061b', 'e-300', '[14c]ascorbic acid', 'e 300', 'tox21_110315', 'rontex 100', 'hsdb 818', 'clairfore', 'ccg-207946', 'l-ascorbic acid (gmp)', 'q199678', '3-oxo-l-gulofuranolactone (enol form)', 'cebicure', 'kangbingfeng', 'ceklin', 'natrascorb injectable', 'ascorbic acid (mart.)', 'vitamine c', 'da-61252', 'vitacin', 'c-long', 'ascorbyl radical', 'l-xyloascorbate', 'cortalex', 'l-ascorbic acid, bioultra, >=99.5% (rt)', 'hybrin', 'colascor', 'ascorbicab', 'l-ascorbic acid, reagent grade', 'cebione', 'antiscorbic vitamin', 'l-lyxoascorbic acid', 'kyselina askorbova [czech]', 'ascorbic acid (ii)', 'viscorin', 'chebi:29073', 'cee-vite', 'ido-c', 'acido ascorbico', 'pq6ck8pd0r', 'ascorbic acid [ep monograph]', 'msk1523', 'ascorbutina', 'cemill', 'neo-valdrin', 'ascorbic acid [fhfi]', 'dtxcid90106', 'citrovit', 'schembl785', 'l-ascorbic acid (standard)', 'ascorbic acid (jp17/usp/inn)', 'ncgc00256504-01', 'a0537', 'ceglion', 'ns00001126', 'hms3713a11', 'l-ascorbic acid, vetec(tm) reagent grade, 99%', 'gamma-lactone l-threo-hex-2-enonate', 'ascorbic acid, european pharmacopoeia (ep) reference standard', '(5r)-5-[(1s)-1,2-dihydroxyethyl]-3,4-dihydroxy-2,5-dihydrofuran-2-one', '2-(1,2-dihydroxyethyl)-4,5-dihydroxy-furan-3-one', 'lemascorb', 'hy-b0166r', 'vicomin c', '200-066-2', '3eka', 'l-ascorbic acid', 'cemagyl', 'viforcit', 'l-ascorbic acid acs reagent grade', 'gtpl4532', 'cell c', 'vit c', 'scorbacid', 'l-ascorbic acid, mixt. with vitamin b', 'hms2096a11', 'component of cortalex', 'cevitamate', 'l-3-ketothreohexuronic acid lactone', '(5r)-5-((1s)-1,2-dihydroxyethyl)-3,4-dihydroxyfuran-2(5h)-one', 'acidum ascorbicum [who-ip latin]', 'scorbu c', 'l-ascorbic acid, p.a., acs reagent, reag. iso, 99.7%', 'l-ascorbic acid, puriss. p.a., >=99.0% (rt)', 'cebid', 'gtpl4781', 'akos016843589', 'rovimix c', 'liqui-cee', 'acide ascorbique', 'ab00376923_05', 'cantaxin', 'asorbicap', 'c-level', '(2r)-2-[(1s)-1,2-dihydroxyethyl]-4,5-dihydroxyfuran-3-one', 'roscorbic', 'l-ascorbic acid, fcc, fg', 'ascorteal', 'ciamin', 'acido ascorbico (inn-spanish)', '(2r)-2-[(1s)-1,2-dihydroxyethyl]-4,5-dihydroxy-furan-3-one', 'acidum ascorbicum [inn-latin]', '50-81-7', 'l-ascorbic acid, suitable for cell culture, suitable for plant cell culture, >=98%', '[14c]-ascorbic acid', 'ab00376923_04', 'cevitamic acid', 'l-ascorbic acid, powder, cell culture tested, gamma-irradiated', 'vitamina c', 'vitacimin', 'tox21_112104_1', 'laroscorbine', 'ce-mi-lin', 'chembl40274', 'l-ascorbic acid, reagent grade, crystalline', 'acidum ascorbinicum', 'acidum ascorbicum (inn-latin)', 'ascoltin', 'cescorbat', 'component of e and c-level', 's3114', 'dtxsid801344780', 'ins-300', 'bcp27915', 'ascorbic acid [jan]', 'cetane-caps tc', 'dtxsid50986567', 'nci-c54808', 'vitacee', 'nsc-218455', 'ascorbicum acidum', 'ascorbic acid [usp monograph]', 'ferancee', 'suncoat vc 40', 'dtxcid50820452', 'cetane-caps td', 'ascorbic acid [ii]', 'vitace', 'l-ascorbic acid, 99%', 'mfcd00064328', 'ascorbic acid [fcc]', 'ascorbic acid [orange book]', 'ascorbic acid [ban:inn:jan]', 'ncgc00259676-01', 'ncgc00091517-01', 'vitascorbol', 'cevi-bid', 'celladix c.e.f advanced brightening ampoule', 'celaskon', 'hicee', '(5r)-5-[(1s)-1,2-dihydroxyethyl]-3,4-dihydroxyfuran-2(5h)-one (non-preferred name)', 'dr cellapy sr premium', 'db00126', 'new clairfore', 'ascorbic acid (usp:inn:ban:jan)', 'l-ascorbic acid, free radical form', 'allercorb', 'l-ascorbic acid 1000 microg/ml in acetonitrile', 'vita rich', 'proscorbin', 'citriscorb', 'cs-0626121', 'cetemican', 'l-threo-hex-2-enonic acid, gamma-lactone', 'cetamid', 'l-ascorbic acid, ar, >=99.5%', '.ascorbinsaure', 'bspbio_000329', 'tox21_202127', 'antiscorbutic vitamin', 'ins no.300', 'ascoltin (tn)', 'cevitamin', '2,3-dehydro-l-threo-hexono-1,4-lactone', 'l-ascorbic acid, certified reference material, tracecert(r)', 'dtxsid5020106', 'hex-2-enonic acid gamma-lactone, l-threo-', '6730-29-6', 'hy-b0166g', '(+)-ascorbic acid', 'fa00736', '(r)-5-(1,2-dihydroxy-ethyl)-3,4-dihydroxy-5h-furan-2-one', 'ascor-b.i.d.', 'ncgc00091517-02', 'l-threoascorbic acid', 'xitix', 'acido ascorbico [inn-spanish]', 'chebi:176783', 'l-ascorbic acid, meets usp testing specifications', 'cenolate', 'component of endoglobin forte', 'testascorbic', 'cevitan', 'nsc-33832', 'xyloascorbic acid, l-', 'vitamin c', 'meri-c', 'ascorbic acid [usp-rs]', '47a605f0-4187-47a8-b0ce-f9e7da1b0076', 'tox21_302958', 'acidum ascorbicum', 'ncgc00164357-01', 'ascorbic acid, united states pharmacopeia (usp) reference standard', 'l-ascorbic acid, cell culture', 'cebion', 'adenex', 'cee-caps td', 'ascorin', 'einecs 200-066-2', 'ascorbic acid [inn]', 'l-ascorbic acid, bioxtra, >=99.0%, crystalline', 'l-lyxoascorbate', 'antiscorbutic factor', 'l-(+)-ascorbic acid', 'ascorbic acid [hsdb]', 'nsc33832', 'd00018', 'smr001233160', 'hb1238', 'nsc 218455', 'vitamin c;acidum ascorbicum', 'ascorbic acid, british pharmacopoeia (bp) reference standard', 'ascorbic acid (ep monograph)', 'cipca', 'cevimin', 'e80759', 'vitamin c [vandf]', 'bp-12831', 'ce-vi-sol', 'redoxon', 'l-ascorbic acid, >=99.0%', 'dora-c-500', 'chewcee', 'acide ascorbique [inn-french]', 'ncgc00188972-01', 'l-ascorbic acid, acs reagent, >=99%', 'cegiolan', 'e300', 'chebi:22652', 'c-quin', 'viscorin 100m', 'tox21_112104', 'ascorbic acid [mi]', 'aromacura shower filter', 'bmse000182', 'ester c', 'ester-c', 'parentrovite', 'cevatine', 'vitamisin', 'ab00376923', 'catavin c', '(2r)-2-[(1s)-1,2-dihydroxyethyl]-3,4-dihydroxy-2h-furan-5-one', 'ascorbic acid [who-dd]', 'l-xyloascorbic acid', '3-oxo-l-gulofuranolactone', 'ascorbic acid [vandf]', 'q27101942', 'unii-pq6ck8pd0r', 'ferrous ascorbate', 'en300-708766', 'cantan', 'ascorvit', 'ascorbinezuur', 'cecon', 'davitamon c', 'ascorbic acid', 'vicelat', 'scorbu-c', '53262-66-1', 'component of ferancee', 'l-ascorbic acid, analytical standard', 'bpbio1_000363', 'l(+)-ascorbate', 'cevibid', 'ascorbic acid (usp-rs)', 'l-threoascorbic acid,antiscorbutic factor,vitamin c;(r)-5-((s)-1,2-dihydroxyethyl)-3,4-dihydroxyfuran-2(5h)-one', 'cevital', 'hex-1-enofuranos-3-ulose', 'vitamin c (as ascorbic acid)', 'cergona', 'l-ascorbic acid, tested according to ph.eur.', 'ascor (tn)', 'l-ascorbic acid, free acid', '(+)-ascorbate', 'l-ascorbate', 'ce lent', 'l-(+)-ascorbate', 'vasc', 'gamma-lactone l-threo-hex-2-enonic acid', 'da-61251', 'l-threo-hex-2-enono-1,4-lactone', 'ascorbinsaure', 'prestwick3_000325', 'ascorb', 'sodascorbate', 'ronotec 100', 'planavit c', 'l-threo-ascorbic acid', 'stuartinic', 'cetebe', 'secorbate', 'mls002153776', 'acide ascorbique (inn-french)', 'l-ascorbic acid, puriss. p.a., acs reagent, reag. iso, reag. ph. eur., 99.7-100.5% (oxidimetric)', 'c-span', 'celin', 'concemin', 'kyselina askorbova', '3-keto-l-gulofuranolactone', 'cevex', 'hy-b0166', 'sw198791-2', 'ascorbic acid, l-', 'l-ascorbic acid, anhydrous, free-flowing, redi-dri(tm), acs reagent, >=99%', 'ascorbin', 'ascorbic acid (l-ascorbic acid; vitamin c)', 'ascorbicap (tn)', 'l-ascorbic acid, jis special grade, >=99.0%', 'l-ascorbic acid, p.a., acs reagent, 99.0%', 'ascorbic acid1505', 'nsc 33832', 'ribena', 'arco-cee', 'tolfrinic', '2-(1,2-dihydroxyethyl)-4,5-dihydroxyfuran-3-one', 'ascorbic acid (vit c)', 'hicell', 'ascorbic acid [who-ip]', 'l(+)-ascorbic acid', 'ascorbate', 'dtxsid7048112', 'ascorbinsaeure', 'cenetone', '(5r)-5-[(1s)-1,2-dihydroxyethyl]-3,4-dihydroxyfuran-2(5h)-one', 'natrascorb', '(r)-5-((s)-1,2-dihydroxyethyl)-3,4-dihydroxyfuran-2(5h)-one']\n",
      "\n",
      "sal\n",
      "Aliases: ['sal']\n",
      "\n",
      "d-(+)-sucrose\n",
      "Aliases: ['d-(+)-sucrose', 'sucrose [jan]', 'alpha-d-glucopyranosyl beta-d-fructofuranoside', '92004-84-7', 'dtxcid101288', 'sucrose biochemical grade', 'bmse000918', '85456-51-5', 'd70407', 'sugar', 'saccarose', 'hy-b1779r', 'sucrose, vetec(tm) reagent grade, rnase and dnase free', 'sucrose [ii]', 'd-saccharose 20000 microg/ml in water', 'sucrose, p.a., acs reagent', 'amerfond', '(2r,3r,4s,5s,6r)-2-(((2s,3s,4s,5r)-3,4-dihydroxy-2,5-bis(hydroxymethyl)tetrahydrofuran-2-yl)oxy)-6-(hydroxymethyl)tetrahydro-2h-pyran-3,4,5-triol', 'sucrose, for molecular biology, >=99.5% (gc)', 'sucraloxum [inn-latin]', 'os59592', '57-50-1', 'alpha-d-glucopyranosylbeta-d-fructofuranoside', 'sucrose, ultrapure', 'alpha-d-glc-(1-2)-beta-d-fru', 'sucraloxum', 'sucrose [ep impurity]', '8027-47-2', 'sr-01000883983', 'sucrose (jp18/nf)', 'glc(alpha1->2beta)fru', 's-67f', 'd-saccharose 1000 microg/ml in methanol', 'sucrose (ii)', 'd00025', 'sucrose, molecular biology grade', 'microse', 'sugar spheres (nf)', 'c00089', 'beetsugar', '(2r,3r,4s,5s,6r)-2-[(2s,3s,4s,5r)-3,4-dihydroxy-2,5-bis(hydroxymethyl)tetrahydrofuran-2-yl]oxy-6-(hydroxymethyl)tetrahydropyran-3,4,5-triol', 'sucrose (tn)', 'sucrose, saj first grade', '8030-20-4', 'cane sugar', '(alpha-d-glucosido)-beta-d-fructofuranoside', 'alpha-d-glucopyranoside, beta-d-fructofuranosyl', 'sucrose [jan:nf]', 'sucrose, analytical standard', 'sucrose, cell culture tested', 'sucrose, >=99.5% (gc)', 'sucrose, for electrophoresis, >99%', 'unii-c151h8m554', 'fructofuranoside, alpha-d-glucopyranosyl, beta-d', 'sucrose, meets usp testing specifications', 'sucrose, grade i, plant cell culture tested', 'sucrose, jis special grade', 'sucrose', 'mp02333', 'dtxsid2021288', 'sucrose [fcc]', 'sucrose (standard)', 'tox21_112093', 'sucrose [nf]', '200-334-9', 'en300-126630', 'sucrose [usan:jan]', 's0111', 'sucrose, >=99.5%', 'ai3-09085', 'alpha-d-glucopyranosyl-(1->2)-beta-d-fructofuranoside', 'sucrose, puriss., meets analytical specification of ph. eur., bp, nf', 'glucopyranoside, beta-d-fructofuranosyl, alpha-d', 'beta-d-fructofuranosyl alpha-d-glucopyranoside', 'chembl253582', 'ncgc00164248-05', 'bdbm50108105', 'hsdb 500', '(2r,3r,4s,5s,6r)-2-{[(2s,3s,4s,5r)-3,4-dihydroxy-2,5-bis(hydroxymethyl)oxolan-2-yl]oxy}-6-(hydroxymethyl)oxane-3,4,5-triol', 'sucrose [who-dd]', 'saccharum officinale', 'nsc-406942', 'os02339', 'a-d-glucopyranosyl a-d-fructofuranoside', 'd-(+)-saccharose', '1-alpha-d-glucopyranosyl-2-beta-d-fructofranoside', 'sucrose palmitic acid (1:1 mixture)', 'akos024306988', 'sugar [vandf]', 'rock candy', 'sucrose [hsdb]', 'sucrose, bioxtra, >=99.5% (gc)', 'saccharum', 'glc-(1-2)fru', 'saccharose', 'hy-b1779', 'white sugar', 'carbon isotopes in sucrose, nist(r) rm 8542, iaea-ch-6 sucrose', 'd(+)-saccharose', 'd(+)-sucrose', 'sucrose, vetec(tm) reagent grade, 99%', 'sucrose, dust', 'c151h8m554', 'ncgc00164248-01', 'q4027534', 'alpha-d-glucopyranoside, beta-d-fructofuranosyl-', 'frost sugar', '87430-66-8', 'epitope id:153236', '86101-30-6', 'sucrose, for microbiology, acs reagent, >=99.0%', 'sucrose (constituent of cranberry liquid preparation)', 'refined sugar', 'ccris 2120', 'sugar, compressible (nf)', 'sucrose (constituent of cranberry liquid preparation) [dsc]', 'sucrose, grade ii, plant cell culture tested', 'saccharum officinale [hpus]', '(2r,3r,4s,5s,6r)-2-[(2s,3s,4s,5r)-3,4-dihydroxy-2,5-bis(hydroxymethyl)oxolan-2-yl]oxy-6-(hydroxymethyl)oxane-3,4,5-triol', 'alpha-d-glc-(1-->2)-beta-d-fru', 'sucrose, european pharmacopoeia (ep) reference standard', 'beta-d-fruf-(2<->1)-alpha-d-glcp', 'nsc 406942', 'ncgc00164248-02', 'sacharose', 'sucrose, usp', 'sucrose (ep impurity)', 'ncgc00164248-03', 'sucrose, united states pharmacopeia (usp) reference standard', 'sucrose, analytical standard, for enzymatic assay kit sca20', \"sugar, confectioner's (nf)\", 'nci-c56597', 'sacarosa', 'sucraloxum (inn-latin)', 's3598', 'einecs 200-334-9', 'sucrose acs grade', '.beta.-d-fructofuranosyl-.alpha.-d-glucopyranoside', 'compressible sugar, united states pharmacopeia (usp) reference standard', 'db02772', 'sucrose, anhydrous, free-flowing, redi-dri(tm), acs reagent', 'sucrose, pure', '.alpha.-d-glucopyranoside, .beta.-d-fructofuranosyl-', 'sucrose,ultrapure', 'gtpl5411', 'cas-57-50-1', 'z1589255958', 'ncgc00254237-01', 'manalox as', 'ncgc00258948-01', 'white soft sugar (jp18)', 'sucrose, lr', 'd-sucrose', 'mfcd00006626', '(+)-sucrose', '1af6', 'tox21_201397', 'dyspepsia headache', 'sucrose, bioreagent, suitable for cell culture, suitable for insect cell culture, >=99.5% (gc)', 'sucrose (ep monograph)', 'sucrose - usp', 'sucrose, acs reagent', 'chebi:17992', 'd-saccharose;2-o-a-d-glucopyranosyl-b-d-fructofuranoside', 'sucrose, ar', 'cs-0013810', 'sucrose [ep monograph]', '1-alpha-d-glucopyranosyl-2-beta-d-fructofuranoside', 'rohrzucker', 'sucrose, bioultra, for molecular biology, >=99.5% (hplc)', 'sucrose (for injection)', 'beta-d-fructofuranosyl-(2&harr;1)-alpha-d-glucopyranoside', 'sucrose, british pharmacopoeia (bp) reference standard', \"confectioner's sugar\", 'gne-410', 'd-saccharose', 'amerfand', 'brd-k74724920-001-02-4', 'tox21_300410', 'chebi:65313', 'sucrose (usp-rs)', 'sucrose [usp-rs]', 'sugar, white', 'compressible sugar', 'bmse000119', 'sucrose [mi]', 'sucrose, purified', 'sucrose [vandf]', 'a-5', 'd-saccharose;2-o-?-d-glucopyranosyl-?-d-fructofuranoside', 'beta-d-fructofuranosyl-alpha-d-glucopyranoside', 'sr-01000883983-1', 'b -d-fructofuranosyl a-d-glucopyranoside', 'table sugar', 'bmse000804']\n",
      "\n",
      "c-vimin\n",
      "Aliases: ['c-vimin', 'cereon', 'chromagen', 'ncgc00091517-06', 'ascor', 'ascorbic acid [mart.]', 'schembl4430', 'ascorbic acid (usp monograph)', 'ascorbajen', 'cevitex', 'ascorbic acid [usp:inn:ban:jan]', 'l-ascorbic acid, plant cell culture tested', 'duoscorb', 'hms2231n16', 'ccris 57', 'cewin', 'cleanflex', 'c00072', 'fema no. 2109', 'acid, ascorbic', 'vitamin c (ascorbic acid)', 'ascorbicap', 'cevalin', 'ncgc00091517-03', 'juvamine', 'caswell no. 061b', 'e-300', '[14c]ascorbic acid', 'e 300', 'tox21_110315', 'rontex 100', 'hsdb 818', 'clairfore', 'ccg-207946', 'l-ascorbic acid (gmp)', 'q199678', '3-oxo-l-gulofuranolactone (enol form)', 'cebicure', 'kangbingfeng', 'ceklin', 'natrascorb injectable', 'ascorbic acid (mart.)', 'vitamine c', 'da-61252', 'vitacin', 'c-long', 'ascorbyl radical', 'l-xyloascorbate', 'cortalex', 'l-ascorbic acid, bioultra, >=99.5% (rt)', 'hybrin', 'colascor', 'ascorbicab', 'l-ascorbic acid, reagent grade', 'cebione', 'antiscorbic vitamin', 'l-lyxoascorbic acid', 'kyselina askorbova [czech]', 'ascorbic acid (ii)', 'viscorin', 'chebi:29073', 'cee-vite', 'ido-c', 'acido ascorbico', 'pq6ck8pd0r', 'ascorbic acid [ep monograph]', 'msk1523', 'ascorbutina', 'cemill', 'neo-valdrin', 'ascorbic acid [fhfi]', 'dtxcid90106', 'citrovit', 'schembl785', 'l-ascorbic acid (standard)', 'ascorbic acid (jp17/usp/inn)', 'ncgc00256504-01', 'a0537', 'ceglion', 'ns00001126', 'hms3713a11', 'l-ascorbic acid, vetec(tm) reagent grade, 99%', 'gamma-lactone l-threo-hex-2-enonate', 'ascorbic acid, european pharmacopoeia (ep) reference standard', '(5r)-5-[(1s)-1,2-dihydroxyethyl]-3,4-dihydroxy-2,5-dihydrofuran-2-one', '2-(1,2-dihydroxyethyl)-4,5-dihydroxy-furan-3-one', 'lemascorb', 'hy-b0166r', 'vicomin c', '200-066-2', '3eka', 'l-ascorbic acid', 'cemagyl', 'viforcit', 'l-ascorbic acid acs reagent grade', 'gtpl4532', 'cell c', 'vit c', 'scorbacid', 'l-ascorbic acid, mixt. with vitamin b', 'hms2096a11', 'component of cortalex', 'cevitamate', 'l-3-ketothreohexuronic acid lactone', '(5r)-5-((1s)-1,2-dihydroxyethyl)-3,4-dihydroxyfuran-2(5h)-one', 'acidum ascorbicum [who-ip latin]', 'scorbu c', 'l-ascorbic acid, p.a., acs reagent, reag. iso, 99.7%', 'l-ascorbic acid, puriss. p.a., >=99.0% (rt)', 'cebid', 'gtpl4781', 'akos016843589', 'rovimix c', 'liqui-cee', 'acide ascorbique', 'ab00376923_05', 'cantaxin', 'asorbicap', 'c-level', '(2r)-2-[(1s)-1,2-dihydroxyethyl]-4,5-dihydroxyfuran-3-one', 'roscorbic', 'l-ascorbic acid, fcc, fg', 'ascorteal', 'ciamin', 'acido ascorbico (inn-spanish)', '(2r)-2-[(1s)-1,2-dihydroxyethyl]-4,5-dihydroxy-furan-3-one', 'acidum ascorbicum [inn-latin]', '50-81-7', 'l-ascorbic acid, suitable for cell culture, suitable for plant cell culture, >=98%', '[14c]-ascorbic acid', 'ab00376923_04', 'cevitamic acid', 'l-ascorbic acid, powder, cell culture tested, gamma-irradiated', 'vitamina c', 'vitacimin', 'tox21_112104_1', 'laroscorbine', 'ce-mi-lin', 'chembl40274', 'l-ascorbic acid, reagent grade, crystalline', 'acidum ascorbinicum', 'acidum ascorbicum (inn-latin)', 'ascoltin', 'cescorbat', 'component of e and c-level', 's3114', 'dtxsid801344780', 'ins-300', 'bcp27915', 'ascorbic acid [jan]', 'cetane-caps tc', 'dtxsid50986567', 'nci-c54808', 'vitacee', 'nsc-218455', 'ascorbicum acidum', 'ascorbic acid [usp monograph]', 'ferancee', 'suncoat vc 40', 'dtxcid50820452', 'cetane-caps td', 'ascorbic acid [ii]', 'vitace', 'l-ascorbic acid, 99%', 'mfcd00064328', 'ascorbic acid [fcc]', 'ascorbic acid [orange book]', 'ascorbic acid [ban:inn:jan]', 'ncgc00259676-01', 'ncgc00091517-01', 'vitascorbol', 'cevi-bid', 'celladix c.e.f advanced brightening ampoule', 'celaskon', 'hicee', '(5r)-5-[(1s)-1,2-dihydroxyethyl]-3,4-dihydroxyfuran-2(5h)-one (non-preferred name)', 'dr cellapy sr premium', 'db00126', 'new clairfore', 'ascorbic acid (usp:inn:ban:jan)', 'l-ascorbic acid, free radical form', 'allercorb', 'l-ascorbic acid 1000 microg/ml in acetonitrile', 'vita rich', 'proscorbin', 'citriscorb', 'cs-0626121', 'cetemican', 'l-threo-hex-2-enonic acid, gamma-lactone', 'cetamid', 'l-ascorbic acid, ar, >=99.5%', '.ascorbinsaure', 'bspbio_000329', 'tox21_202127', 'antiscorbutic vitamin', 'ins no.300', 'ascoltin (tn)', 'cevitamin', '2,3-dehydro-l-threo-hexono-1,4-lactone', 'l-ascorbic acid, certified reference material, tracecert(r)', 'dtxsid5020106', 'hex-2-enonic acid gamma-lactone, l-threo-', '6730-29-6', 'hy-b0166g', '(+)-ascorbic acid', 'fa00736', '(r)-5-(1,2-dihydroxy-ethyl)-3,4-dihydroxy-5h-furan-2-one', 'ascor-b.i.d.', 'ncgc00091517-02', 'l-threoascorbic acid', 'xitix', 'acido ascorbico [inn-spanish]', 'chebi:176783', 'l-ascorbic acid, meets usp testing specifications', 'cenolate', 'component of endoglobin forte', 'testascorbic', 'cevitan', 'nsc-33832', 'xyloascorbic acid, l-', 'vitamin c', 'meri-c', 'ascorbic acid [usp-rs]', '47a605f0-4187-47a8-b0ce-f9e7da1b0076', 'tox21_302958', 'acidum ascorbicum', 'ncgc00164357-01', 'ascorbic acid, united states pharmacopeia (usp) reference standard', 'l-ascorbic acid, cell culture', 'cebion', 'adenex', 'cee-caps td', 'ascorin', 'einecs 200-066-2', 'ascorbic acid [inn]', 'l-ascorbic acid, bioxtra, >=99.0%, crystalline', 'l-lyxoascorbate', 'antiscorbutic factor', 'l-(+)-ascorbic acid', 'ascorbic acid [hsdb]', 'nsc33832', 'd00018', 'smr001233160', 'hb1238', 'nsc 218455', 'vitamin c;acidum ascorbicum', 'ascorbic acid, british pharmacopoeia (bp) reference standard', 'ascorbic acid (ep monograph)', 'cipca', 'cevimin', 'e80759', 'vitamin c [vandf]', 'bp-12831', 'ce-vi-sol', 'redoxon', 'l-ascorbic acid, >=99.0%', 'dora-c-500', 'chewcee', 'acide ascorbique [inn-french]', 'ncgc00188972-01', 'l-ascorbic acid, acs reagent, >=99%', 'cegiolan', 'e300', 'chebi:22652', 'c-quin', 'viscorin 100m', 'tox21_112104', 'ascorbic acid [mi]', 'aromacura shower filter', 'bmse000182', 'ester c', 'ester-c', 'parentrovite', 'cevatine', 'vitamisin', 'ab00376923', 'catavin c', '(2r)-2-[(1s)-1,2-dihydroxyethyl]-3,4-dihydroxy-2h-furan-5-one', 'ascorbic acid [who-dd]', 'l-xyloascorbic acid', '3-oxo-l-gulofuranolactone', 'ascorbic acid [vandf]', 'q27101942', 'unii-pq6ck8pd0r', 'ferrous ascorbate', 'en300-708766', 'cantan', 'ascorvit', 'ascorbinezuur', 'cecon', 'davitamon c', 'ascorbic acid', 'vicelat', 'scorbu-c', '53262-66-1', 'component of ferancee', 'l-ascorbic acid, analytical standard', 'bpbio1_000363', 'l(+)-ascorbate', 'cevibid', 'ascorbic acid (usp-rs)', 'l-threoascorbic acid,antiscorbutic factor,vitamin c;(r)-5-((s)-1,2-dihydroxyethyl)-3,4-dihydroxyfuran-2(5h)-one', 'cevital', 'hex-1-enofuranos-3-ulose', 'vitamin c (as ascorbic acid)', 'cergona', 'l-ascorbic acid, tested according to ph.eur.', 'ascor (tn)', 'l-ascorbic acid, free acid', '(+)-ascorbate', 'l-ascorbate', 'ce lent', 'l-(+)-ascorbate', 'vasc', 'gamma-lactone l-threo-hex-2-enonic acid', 'da-61251', 'l-threo-hex-2-enono-1,4-lactone', 'ascorbinsaure', 'prestwick3_000325', 'ascorb', 'sodascorbate', 'ronotec 100', 'planavit c', 'l-threo-ascorbic acid', 'stuartinic', 'cetebe', 'secorbate', 'mls002153776', 'acide ascorbique (inn-french)', 'l-ascorbic acid, puriss. p.a., acs reagent, reag. iso, reag. ph. eur., 99.7-100.5% (oxidimetric)', 'c-span', 'celin', 'concemin', 'kyselina askorbova', '3-keto-l-gulofuranolactone', 'cevex', 'hy-b0166', 'sw198791-2', 'ascorbic acid, l-', 'l-ascorbic acid, anhydrous, free-flowing, redi-dri(tm), acs reagent, >=99%', 'ascorbin', 'ascorbic acid (l-ascorbic acid; vitamin c)', 'ascorbicap (tn)', 'l-ascorbic acid, jis special grade, >=99.0%', 'l-ascorbic acid, p.a., acs reagent, 99.0%', 'ascorbic acid1505', 'nsc 33832', 'ribena', 'arco-cee', 'tolfrinic', '2-(1,2-dihydroxyethyl)-4,5-dihydroxyfuran-3-one', 'ascorbic acid (vit c)', 'hicell', 'ascorbic acid [who-ip]', 'l(+)-ascorbic acid', 'ascorbate', 'dtxsid7048112', 'ascorbinsaeure', 'cenetone', '(5r)-5-[(1s)-1,2-dihydroxyethyl]-3,4-dihydroxyfuran-2(5h)-one', 'natrascorb', '(r)-5-((s)-1,2-dihydroxyethyl)-3,4-dihydroxyfuran-2(5h)-one']\n",
      "\n",
      "kurkuma longa\n",
      "Aliases: ['kurkuma longa']\n",
      "\n",
      "watesal a\n",
      "Aliases: ['watesal a', 'sodium chloridenormal salt', 'ss salt', 'natrium muriaticum', 'sodium chloride 23.4% in plastic container', 'sodium chloride, jis special grade, >=99.5%', 'corvatrol 0.9%', 'vamousse pro lice treatment', 'sykes 0.9% sodium chloride', 'natrii chloridum', 'amphenol-40', 'walgreens saline mistextra strength', 'sodium chloride', 'saline nasal2oz', 'wln: na g', 'sodium chloride, anhydrous, beads, -10 mesh, 99.999% trace metals basis', 'cs-0909803', 'sodium chloride crystal optic disc, 32mm x 3mm, polished both sides', 'sodium standard for aas, ready-to-use, traceable to bam, in h2o', 'nacl solution, 1m', 'sodium chloride for dnase, rnase, and protease, none detected', 'aqua maris extra strong', 'mono-sodium chloride salt', 'veterinary 0.9% sodium chloride', 'sodium chloride, nist(r) srm(r) 919b', 'sodium chloride, puriss. p.a., >=99.5% (at)', 'sodium chloride, tested according to ph.eur.', 'clear mist', 'tid clean care', '0.9% saline', 'extra strenght saline mistrite aid', 'sodium-chloride', 'sterile saline kids mist', 'dendritis', 'tid clean plant', 'sodium chloride, bacteriostatic', 'sodium chloride, anhydrous, free-flowing, redi-dri(tm), reagentplus(r), >=99%', 'hsdb 6368', 'sdg high level disinfectant', 'sodium chloride, meets analytical specification of ph. eur. bp usp,  inverted exclamation marku0.00002% al', 'sodium chloride, reagent grade, >=98%, +80 mesh particle size', 'sterile saline mistrite aid', 'entsol', 'natrum muriaticum [hpus]', 'sodium chloride [hsdb]', 'sodium chloride, p.a., 99-100.5%', 'ec 231-598-3', 'sodium chloride hypertonicity ophthalmic', 'sodium chloride, anhydrous, redi-dri(tm), free-flowing, acs reagent, >=99%', 'salt (6ci,7ci)', 'titrisol', 'sodium chloride, technical grade, 95%', 'altachlore sodium chloride hypertonicity', 'saline mist', 'sodium chloride [who-ip]', 'sinucleanse sterile saline mist daily care', 'licefreee everyday', 'saline nasal1.5oz', 'broncho saline', 'b1655 [langual]', 'cvs saline', 'natrium muriaticum 6x', 'sterile saline mistwalgreens', 'sodium chloride, 99.999% trace metals basis', 'isotonic sodium chloride solution', 'chebi:26710', 'sterile saline', 'aqua marina', 'mafiron', 'sodium chloride, united states pharmacopeia (usp) reference standard', 'sodium chloride, bioperformance certified, >=99% (titration), cell culture tested', 'saline wipes', 'sodium chloride (8ci)', 'sodium chloride 0.45% in plastic container', 'sodium chloride (ii)', 'sodium chloride, random crystals, optical grade, 99.98% trace metals basis', 'sodium chloride [ii]', 'caswell no. 754', 'usepa/opp pesticide code: 13905', '10% sodium chloride injection', 'licefreee', 'aqua maris daily clean', 'sodium chloride (ep monograph)', 'na-zone', 'nat mur 3x', 'solsel', 'sodium chloride, usp, 99.0-100.5%', 'mfcd00003477', '3% sodium chloride', 'sodium chloride, hypertonic', 'normal saline', 'sodium chloride, meets analytical specification of ph. eur., bp, usp, 99.0-100.5%', 'nat mur 6x', '14762-51-7', 'sodium chloride crystal optic rectangle, 41mm x 23mm x 6mm, unpolished', 'nasoxinspray', 'nacl', 'normal salt tablets', 'dendritic salt', 'sodium chloride (nacl)', 'bye bye (toc toc)', 'rns60 component saline', 'sterling', 'sodium chloride acs', 'hypertonic saline 7.2%', 'sodium chloride crystal optic rectangle, 38.5mm x 19.5mm x 4mm, polished both sides', 'flexivial', 'athomer mini', 'epa pesticide chemical code 013905', 'sodium chloric', 'sodium chloride, lr, >=99.5%', 'isotopic standard for chlorine, nist srm 975a', 'sodium chloride 0.9% in plastic container', 'rns-60 component saline', 'chlorine-containing disinfectant', 'sodium chloride, for molecular biology', 'hy-y0344j', 'cs-0376163', 'sodium chloride, p.a., acs reagent, reag. iso, reag. ph. eur., 99.5%', 'sodium-36 chloride', 'hypersal', 'unii-vr5y7pdt5w', 'sodium chloride, bioultra, for molecular biology, >=99.5% (at)', 'aqua maris daily', 'salt (ingredient)', 'api aquarium salt', 'sodium chloride, puriss. p.a., >=99.5% (at), powder or crystals', 'normal salt', 'sodium chloride, vetec(tm) reagent grade, 99%', 'hy-y0344h', 'sodium chloride hypertonicity', 'sodium chloride [who-dd]', 'sodium chloride, spectroscopy grade', 'salt', '231-598-3', 'str02627', 'sodium chloride, optical grade', 'nat mur 200x', 'sodium chloride crystal optic disc, 13mm x 2mm, polished both sides', 'sodium chloride crystal optic rectangle, 30mm x 15mm x 4mm, polished both sides', 'sodium chloride, ultra dry', 'athomer', 'chlorure de sodium', 'extra fine 325 salt', 'b1655', 'sea water', 'slow sodium', 'sodium chloride, reagentplus(r), >=99%', 'dtxsid3021271', 'sodanylium and hydrochloric acid, ion(1-) (1:1)', 'isotonic', 'kochsalz', 'sodium chloride anhydrous', 'chembl1200574', 'trisodium trichloride', 'rock salt', 'sodium chloride, anhydrous, beads, -10 mesh, 99.99% trace metals basis', 'extrafine 325 salt', 'cleansing wipe / tube', 'isotonic saline', 'sodium;chloride', 'cloruro sodico', 'athomer baby', 'sodium chloride, acs reagent', 'sodium chloride, ph. eur., usp grade', 'h.g. blending', 'tid clean dent', 'vr5y7pdt5w', 'suprasel nitrite', 'sodium chloride brine, purified', 'cs-0909801', 'sinucleanse sterile saline mist', 'sodium chloride 2.65%', 'natriumchlorid [german]', 'bacteriostatic sodium chloride 0.9% in plastic container', 'stat trak plus', 'sodium chloride crystal optic disc, 25mm x 5mm, unpolished', 'sodium chloride spray', 'sodium chloride, 99.999%', 'mineral metea', 'saline nasal1 fl oz', 'canners 999', 'sodium chloride (jp18/usp)', 'halite', 'sodium chloride [usp monograph]', 'akos024438089', 'haemonetics 0.9 % sodium chloride', 'sodium chloride [ep monograph]', 'natriumchlorid', 'sodium chloride crystal optic disc, 13mm x 1mm, polished both sides', 'natrum muriaticum', 'special salt 100/95', 'sodium chloride 3% in plastic container', 'alfa veterinary 0.9% sodium chloride', 'sodium chloride; nacl', 'vamousse lice treatment complete kit', 'muro 128', 'sodium chloride, isotonic', 'sodium chloride 23.4%', 'sodium chloride (usp-rs)', 'sodium chloride 0.9% in plastic thermoject kit for cardiac output use', 'nat mur 30x', 'hypertonic saline 7.2 %', 'sodium chloride, for cell culture', 'sodium chloride crystal optic disc, 25mm x 4mm, polished both sides', 'nat mur', 'homeopathic pediculicide', 'cleanoz', 'sodium chloride, >=99%, ar grade', 'sodium chloride 5% in plastic container', 'q2314', 'sterile saline kids mistpediameds', 'sodium chloride [vandf]', 'walgreens saline mist', 'dtxcid001271', 'extra fine 200 salt', 'api pond pond salt', 'natrum muriaticum8009', 'sodium chloride (na36cl)', 'sodium chloride biochemical grade', 'multibic component sodium chloride', 'walgreens saline', 'sodium chloride crystal optic disc, 25mm x 2mm, polished both sides', 'db09153', 'sodium chloride, manac incorporated', 'cardiovascular kit', 'purex', 'saline, sodium chloride', 'sodium chloride [usp:jan]', 's0572', 'walgreen saline', 'sodium chloride crystal optic rectangle, 38.5mm x 19.5mm x 4mm, unpolished', '451w47iq8x', '7.5% hypertonic saline', 'sodium chloride (usp monograph)', 'sodium chloride [orange book]', 'pulmosal', 'ayr', 'extra strenght saline mist', 'arm-a-vial', 'cardiovascular accessory kit', 'sodium chloride 0.9% in sterile plastic container', 'sterile saline mist', 'colyte', 'sodium chloride in plastic container', 'usp sodium chloride', 'sodium chloride 0.65%', 'sodium chloride (na4cl4)', 'sodium chloride, usp, 99.0-101.0%', 'gingivyl', 'ancient secretsbreathe again', 'nat mur 12x', 'meijer saline', 'vetivexveterinary sodium chloride', 'adsorbanac', 'nsc 77364', 'bye zero', 'nsc-77364', 'sel gemme', 'sodium chloride, technical grade, 97%', 'uzushio biryuu m', 'beanguard gargle', 'sel gemme8146', '7647-14-5 (solid)', 'sodium chloride, saj first grade, >=99.0%', 'sodium chloride crystal optic rectangle, 38.5mm x 19.5mm x 4mm (drilled), polished both sides', 'sodium chloride, trace metals grade, 99.99%', 'tonicpet 9', 'sodium chloride, tablet', 'akos024457457', 'nacl 0.9%', 'nsc77364', 'natrum muriaticum200ck', 'natrum muriaticum 6c', 'sodium chloride, anhydrous', 'sodium chloride, pharmaceutical secondary standard; certified reference material', 'aquamarine8105', 'sodium chloride [jan]', 'vamousse lice treatment', 'ns00076259', 'sodium chloride, acs reagent, >=99.0%', 'sea salt', 'aqua maris strong', 'sodium chloride, puriss. p.a., acs reagent, reag. iso, reag. ph. eur., >=99.5%', 'top flake', '0.9% nacl', 'brinewate superfine', 'natrum muriaticum kit refill', 'sodium chloride, ar, >=99.9%', 'sodium chloride [usp-rs]', 'sodium chloride for irrigation', 'd02056', 'nebusal', 'sodiumchloride', '0.9% sodium chloride', 'unii-451w47iq8x', 'sodium chloride, bioxtra, >=99.5% (at)', 'adsorbanac (tn)', 'sykes hypertonic saline 7.2%', 'natrum muriaticum 30c', '7647-14-5', 'sodium chloride crystal optic disc, 22mm x 4mm, polished both sides', 'ancient secrets', 'sodium chloride, for molecular biology, dnase, rnase, and protease, none detected, >=98% (titration)', 'sodium chloride, certified reference material for titrimetry, certified by bam, according to iso 17025, >=99.5%', 'vetivexveterinary hypertonic', 'hyposaline', 'ls-1700', 'saline nasal3oz', 'ccris 982', 'hy-y0344i', 'saline', 'sodium chloride salt', 'athomer propolis', 'fs30573', 'sodium chloride crystal optic disc, 32mm x 3mm (drilled), polished both sides', 'halite (nacl)', 'sodium chloride solution, 1 mol/l -1 n volumetric standard solution', 'cs-0909802', 'table salt', 'sodium chloride crystal optic rectangle, 30mm x 15mm x 4mm (drilled), polished both sides', 'sodium chloride, bioreagent, suitable for cell culture, suitable for insect cell culture, suitable for plant cell culture, >=99%', '32343-72-9', 'iodized salt', 'p-care k40mx', 'vamousse lice prevention', 'white crystal', 'octiq', 'sodium chloride (usp:jan)', 'extrafine 200 salt', 'sterile saline kids mistsinucleanse breathe', 'sodium chloride [mi]', 'common salt', 'sodium chloride1 gram', 'hy-y0344d', 'natrii chloridum [who-ip latin]', 'sodium chloride [green book]', 'p-care k80mx', 'sodium monochloride', 'tid clean align', 'einecs 231-598-3']\n"
     ]
    }
   ],
   "source": [
    "# Sample 1\n",
    "sample1 = \"Sal, Zucker, ascorbic acid, curcuma longa, Sodium chloride, E300\"\n",
    "results1 = preprocess_ingredient_list(sample1)\n",
    "for r in results1:\n",
    "    print(f\"\\n{r['standard']}\\nAliases: {r['aliases']}\")\n",
    "\n",
    "# Sample 2 (with typos and fuzzy needs)\n",
    "sample2 = \"sal, suagr, ascorbic acid, kurkuma longa, table sald\"\n",
    "results2 = preprocess_ingredient_list(sample2)\n",
    "for r in results2:\n",
    "    print(f\"\\n{r['standard']}\\nAliases: {r['aliases']}\")"
   ]
  },
  {
   "cell_type": "code",
   "execution_count": null,
   "metadata": {},
   "outputs": [
    {
     "name": "stdout",
     "output_type": "stream",
     "text": [
      "\n",
      "watesal a\n",
      "Aliases: ['watesal a', 'sodium chloridenormal salt', 'ss salt', 'natrium muriaticum', 'sodium chloride 23.4% in plastic container', 'sodium chloride, jis special grade, >=99.5%', 'corvatrol 0.9%', 'vamousse pro lice treatment', 'sykes 0.9% sodium chloride', 'natrii chloridum', 'amphenol-40', 'walgreens saline mistextra strength', 'sodium chloride', 'saline nasal2oz', 'wln: na g', 'sodium chloride, anhydrous, beads, -10 mesh, 99.999% trace metals basis', 'cs-0909803', 'sodium chloride crystal optic disc, 32mm x 3mm, polished both sides', 'sodium standard for aas, ready-to-use, traceable to bam, in h2o', 'nacl solution, 1m', 'sodium chloride for dnase, rnase, and protease, none detected', 'aqua maris extra strong', 'mono-sodium chloride salt', 'veterinary 0.9% sodium chloride', 'sodium chloride, nist(r) srm(r) 919b', 'sodium chloride, puriss. p.a., >=99.5% (at)', 'sodium chloride, tested according to ph.eur.', 'clear mist', 'tid clean care', '0.9% saline', 'extra strenght saline mistrite aid', 'sodium-chloride', 'sterile saline kids mist', 'dendritis', 'tid clean plant', 'sodium chloride, bacteriostatic', 'sodium chloride, anhydrous, free-flowing, redi-dri(tm), reagentplus(r), >=99%', 'hsdb 6368', 'sdg high level disinfectant', 'sodium chloride, meets analytical specification of ph. eur. bp usp,  inverted exclamation marku0.00002% al', 'sodium chloride, reagent grade, >=98%, +80 mesh particle size', 'sterile saline mistrite aid', 'entsol', 'natrum muriaticum [hpus]', 'sodium chloride [hsdb]', 'sodium chloride, p.a., 99-100.5%', 'ec 231-598-3', 'sodium chloride hypertonicity ophthalmic', 'sodium chloride, anhydrous, redi-dri(tm), free-flowing, acs reagent, >=99%', 'salt (6ci,7ci)', 'titrisol', 'sodium chloride, technical grade, 95%', 'altachlore sodium chloride hypertonicity', 'saline mist', 'sodium chloride [who-ip]', 'sinucleanse sterile saline mist daily care', 'licefreee everyday', 'saline nasal1.5oz', 'broncho saline', 'b1655 [langual]', 'cvs saline', 'natrium muriaticum 6x', 'sterile saline mistwalgreens', 'sodium chloride, 99.999% trace metals basis', 'isotonic sodium chloride solution', 'chebi:26710', 'sterile saline', 'aqua marina', 'mafiron', 'sodium chloride, united states pharmacopeia (usp) reference standard', 'sodium chloride, bioperformance certified, >=99% (titration), cell culture tested', 'saline wipes', 'sodium chloride (8ci)', 'sodium chloride 0.45% in plastic container', 'sodium chloride (ii)', 'sodium chloride, random crystals, optical grade, 99.98% trace metals basis', 'sodium chloride [ii]', 'caswell no. 754', 'usepa/opp pesticide code: 13905', '10% sodium chloride injection', 'licefreee', 'aqua maris daily clean', 'sodium chloride (ep monograph)', 'na-zone', 'nat mur 3x', 'solsel', 'sodium chloride, usp, 99.0-100.5%', 'mfcd00003477', '3% sodium chloride', 'sodium chloride, hypertonic', 'normal saline', 'sodium chloride, meets analytical specification of ph. eur., bp, usp, 99.0-100.5%', 'nat mur 6x', '14762-51-7', 'sodium chloride crystal optic rectangle, 41mm x 23mm x 6mm, unpolished', 'nasoxinspray', 'nacl', 'normal salt tablets', 'dendritic salt', 'sodium chloride (nacl)', 'bye bye (toc toc)', 'rns60 component saline', 'sterling', 'sodium chloride acs', 'hypertonic saline 7.2%', 'sodium chloride crystal optic rectangle, 38.5mm x 19.5mm x 4mm, polished both sides', 'flexivial', 'athomer mini', 'epa pesticide chemical code 013905', 'sodium chloric', 'sodium chloride, lr, >=99.5%', 'isotopic standard for chlorine, nist srm 975a', 'sodium chloride 0.9% in plastic container', 'rns-60 component saline', 'chlorine-containing disinfectant', 'sodium chloride, for molecular biology', 'hy-y0344j', 'cs-0376163', 'sodium chloride, p.a., acs reagent, reag. iso, reag. ph. eur., 99.5%', 'sodium-36 chloride', 'hypersal', 'unii-vr5y7pdt5w', 'sodium chloride, bioultra, for molecular biology, >=99.5% (at)', 'aqua maris daily', 'salt (ingredient)', 'api aquarium salt', 'sodium chloride, puriss. p.a., >=99.5% (at), powder or crystals', 'normal salt', 'sodium chloride, vetec(tm) reagent grade, 99%', 'hy-y0344h', 'sodium chloride hypertonicity', 'sodium chloride [who-dd]', 'sodium chloride, spectroscopy grade', 'salt', '231-598-3', 'str02627', 'sodium chloride, optical grade', 'nat mur 200x', 'sodium chloride crystal optic disc, 13mm x 2mm, polished both sides', 'sodium chloride crystal optic rectangle, 30mm x 15mm x 4mm, polished both sides', 'sodium chloride, ultra dry', 'athomer', 'chlorure de sodium', 'extra fine 325 salt', 'b1655', 'sea water', 'slow sodium', 'sodium chloride, reagentplus(r), >=99%', 'dtxsid3021271', 'sodanylium and hydrochloric acid, ion(1-) (1:1)', 'isotonic', 'kochsalz', 'sodium chloride anhydrous', 'chembl1200574', 'trisodium trichloride', 'rock salt', 'sodium chloride, anhydrous, beads, -10 mesh, 99.99% trace metals basis', 'extrafine 325 salt', 'cleansing wipe / tube', 'isotonic saline', 'sodium;chloride', 'cloruro sodico', 'athomer baby', 'sodium chloride, acs reagent', 'sodium chloride, ph. eur., usp grade', 'h.g. blending', 'tid clean dent', 'vr5y7pdt5w', 'suprasel nitrite', 'sodium chloride brine, purified', 'cs-0909801', 'sinucleanse sterile saline mist', 'sodium chloride 2.65%', 'natriumchlorid [german]', 'bacteriostatic sodium chloride 0.9% in plastic container', 'stat trak plus', 'sodium chloride crystal optic disc, 25mm x 5mm, unpolished', 'sodium chloride spray', 'sodium chloride, 99.999%', 'mineral metea', 'saline nasal1 fl oz', 'canners 999', 'sodium chloride (jp18/usp)', 'halite', 'sodium chloride [usp monograph]', 'akos024438089', 'haemonetics 0.9 % sodium chloride', 'sodium chloride [ep monograph]', 'natriumchlorid', 'sodium chloride crystal optic disc, 13mm x 1mm, polished both sides', 'natrum muriaticum', 'special salt 100/95', 'sodium chloride 3% in plastic container', 'alfa veterinary 0.9% sodium chloride', 'sodium chloride; nacl', 'vamousse lice treatment complete kit', 'muro 128', 'sodium chloride, isotonic', 'sodium chloride 23.4%', 'sodium chloride (usp-rs)', 'sodium chloride 0.9% in plastic thermoject kit for cardiac output use', 'nat mur 30x', 'hypertonic saline 7.2 %', 'sodium chloride, for cell culture', 'sodium chloride crystal optic disc, 25mm x 4mm, polished both sides', 'nat mur', 'homeopathic pediculicide', 'cleanoz', 'sodium chloride, >=99%, ar grade', 'sodium chloride 5% in plastic container', 'q2314', 'sterile saline kids mistpediameds', 'sodium chloride [vandf]', 'walgreens saline mist', 'dtxcid001271', 'extra fine 200 salt', 'api pond pond salt', 'natrum muriaticum8009', 'sodium chloride (na36cl)', 'sodium chloride biochemical grade', 'multibic component sodium chloride', 'walgreens saline', 'sodium chloride crystal optic disc, 25mm x 2mm, polished both sides', 'db09153', 'sodium chloride, manac incorporated', 'cardiovascular kit', 'purex', 'saline, sodium chloride', 'sodium chloride [usp:jan]', 's0572', 'walgreen saline', 'sodium chloride crystal optic rectangle, 38.5mm x 19.5mm x 4mm, unpolished', '451w47iq8x', '7.5% hypertonic saline', 'sodium chloride (usp monograph)', 'sodium chloride [orange book]', 'pulmosal', 'ayr', 'extra strenght saline mist', 'arm-a-vial', 'cardiovascular accessory kit', 'sodium chloride 0.9% in sterile plastic container', 'sterile saline mist', 'colyte', 'sodium chloride in plastic container', 'usp sodium chloride', 'sodium chloride 0.65%', 'sodium chloride (na4cl4)', 'sodium chloride, usp, 99.0-101.0%', 'gingivyl', 'ancient secretsbreathe again', 'nat mur 12x', 'meijer saline', 'vetivexveterinary sodium chloride', 'adsorbanac', 'nsc 77364', 'bye zero', 'nsc-77364', 'sel gemme', 'sodium chloride, technical grade, 97%', 'uzushio biryuu m', 'beanguard gargle', 'sel gemme8146', '7647-14-5 (solid)', 'sodium chloride, saj first grade, >=99.0%', 'sodium chloride crystal optic rectangle, 38.5mm x 19.5mm x 4mm (drilled), polished both sides', 'sodium chloride, trace metals grade, 99.99%', 'tonicpet 9', 'sodium chloride, tablet', 'akos024457457', 'nacl 0.9%', 'nsc77364', 'natrum muriaticum200ck', 'natrum muriaticum 6c', 'sodium chloride, anhydrous', 'sodium chloride, pharmaceutical secondary standard; certified reference material', 'aquamarine8105', 'sodium chloride [jan]', 'vamousse lice treatment', 'ns00076259', 'sodium chloride, acs reagent, >=99.0%', 'sea salt', 'aqua maris strong', 'sodium chloride, puriss. p.a., acs reagent, reag. iso, reag. ph. eur., >=99.5%', 'top flake', '0.9% nacl', 'brinewate superfine', 'natrum muriaticum kit refill', 'sodium chloride, ar, >=99.9%', 'sodium chloride [usp-rs]', 'sodium chloride for irrigation', 'd02056', 'nebusal', 'sodiumchloride', '0.9% sodium chloride', 'unii-451w47iq8x', 'sodium chloride, bioxtra, >=99.5% (at)', 'adsorbanac (tn)', 'sykes hypertonic saline 7.2%', 'natrum muriaticum 30c', '7647-14-5', 'sodium chloride crystal optic disc, 22mm x 4mm, polished both sides', 'ancient secrets', 'sodium chloride, for molecular biology, dnase, rnase, and protease, none detected, >=98% (titration)', 'sodium chloride, certified reference material for titrimetry, certified by bam, according to iso 17025, >=99.5%', 'vetivexveterinary hypertonic', 'hyposaline', 'ls-1700', 'saline nasal3oz', 'ccris 982', 'hy-y0344i', 'saline', 'sodium chloride salt', 'athomer propolis', 'fs30573', 'sodium chloride crystal optic disc, 32mm x 3mm (drilled), polished both sides', 'halite (nacl)', 'sodium chloride solution, 1 mol/l -1 n volumetric standard solution', 'cs-0909802', 'table salt', 'sodium chloride crystal optic rectangle, 30mm x 15mm x 4mm (drilled), polished both sides', 'sodium chloride, bioreagent, suitable for cell culture, suitable for insect cell culture, suitable for plant cell culture, >=99%', '32343-72-9', 'iodized salt', 'p-care k40mx', 'vamousse lice prevention', 'white crystal', 'octiq', 'sodium chloride (usp:jan)', 'extrafine 200 salt', 'sterile saline kids mistsinucleanse breathe', 'sodium chloride [mi]', 'common salt', 'sodium chloride1 gram', 'hy-y0344d', 'natrii chloridum [who-ip latin]', 'sodium chloride [green book]', 'p-care k80mx', 'sodium monochloride', 'tid clean align', 'einecs 231-598-3']\n",
      "\n",
      "c-vimin\n",
      "Aliases: ['c-vimin', 'cereon', 'chromagen', 'ncgc00091517-06', 'ascor', 'ascorbic acid [mart.]', 'schembl4430', 'ascorbic acid (usp monograph)', 'ascorbajen', 'cevitex', 'ascorbic acid [usp:inn:ban:jan]', 'l-ascorbic acid, plant cell culture tested', 'duoscorb', 'hms2231n16', 'ccris 57', 'cewin', 'cleanflex', 'c00072', 'fema no. 2109', 'acid, ascorbic', 'vitamin c (ascorbic acid)', 'ascorbicap', 'cevalin', 'ncgc00091517-03', 'juvamine', 'caswell no. 061b', 'e-300', '[14c]ascorbic acid', 'e 300', 'tox21_110315', 'rontex 100', 'hsdb 818', 'clairfore', 'ccg-207946', 'l-ascorbic acid (gmp)', 'q199678', '3-oxo-l-gulofuranolactone (enol form)', 'cebicure', 'kangbingfeng', 'ceklin', 'natrascorb injectable', 'ascorbic acid (mart.)', 'vitamine c', 'da-61252', 'vitacin', 'c-long', 'ascorbyl radical', 'l-xyloascorbate', 'cortalex', 'l-ascorbic acid, bioultra, >=99.5% (rt)', 'hybrin', 'colascor', 'ascorbicab', 'l-ascorbic acid, reagent grade', 'cebione', 'antiscorbic vitamin', 'l-lyxoascorbic acid', 'kyselina askorbova [czech]', 'ascorbic acid (ii)', 'viscorin', 'chebi:29073', 'cee-vite', 'ido-c', 'acido ascorbico', 'pq6ck8pd0r', 'ascorbic acid [ep monograph]', 'msk1523', 'ascorbutina', 'cemill', 'neo-valdrin', 'ascorbic acid [fhfi]', 'dtxcid90106', 'citrovit', 'schembl785', 'l-ascorbic acid (standard)', 'ascorbic acid (jp17/usp/inn)', 'ncgc00256504-01', 'a0537', 'ceglion', 'ns00001126', 'hms3713a11', 'l-ascorbic acid, vetec(tm) reagent grade, 99%', 'gamma-lactone l-threo-hex-2-enonate', 'ascorbic acid, european pharmacopoeia (ep) reference standard', '(5r)-5-[(1s)-1,2-dihydroxyethyl]-3,4-dihydroxy-2,5-dihydrofuran-2-one', '2-(1,2-dihydroxyethyl)-4,5-dihydroxy-furan-3-one', 'lemascorb', 'hy-b0166r', 'vicomin c', '200-066-2', '3eka', 'l-ascorbic acid', 'cemagyl', 'viforcit', 'l-ascorbic acid acs reagent grade', 'gtpl4532', 'cell c', 'vit c', 'scorbacid', 'l-ascorbic acid, mixt. with vitamin b', 'hms2096a11', 'component of cortalex', 'cevitamate', 'l-3-ketothreohexuronic acid lactone', '(5r)-5-((1s)-1,2-dihydroxyethyl)-3,4-dihydroxyfuran-2(5h)-one', 'acidum ascorbicum [who-ip latin]', 'scorbu c', 'l-ascorbic acid, p.a., acs reagent, reag. iso, 99.7%', 'l-ascorbic acid, puriss. p.a., >=99.0% (rt)', 'cebid', 'gtpl4781', 'akos016843589', 'rovimix c', 'liqui-cee', 'acide ascorbique', 'ab00376923_05', 'cantaxin', 'asorbicap', 'c-level', '(2r)-2-[(1s)-1,2-dihydroxyethyl]-4,5-dihydroxyfuran-3-one', 'roscorbic', 'l-ascorbic acid, fcc, fg', 'ascorteal', 'ciamin', 'acido ascorbico (inn-spanish)', '(2r)-2-[(1s)-1,2-dihydroxyethyl]-4,5-dihydroxy-furan-3-one', 'acidum ascorbicum [inn-latin]', '50-81-7', 'l-ascorbic acid, suitable for cell culture, suitable for plant cell culture, >=98%', '[14c]-ascorbic acid', 'ab00376923_04', 'cevitamic acid', 'l-ascorbic acid, powder, cell culture tested, gamma-irradiated', 'vitamina c', 'vitacimin', 'tox21_112104_1', 'laroscorbine', 'ce-mi-lin', 'chembl40274', 'l-ascorbic acid, reagent grade, crystalline', 'acidum ascorbinicum', 'acidum ascorbicum (inn-latin)', 'ascoltin', 'cescorbat', 'component of e and c-level', 's3114', 'dtxsid801344780', 'ins-300', 'bcp27915', 'ascorbic acid [jan]', 'cetane-caps tc', 'dtxsid50986567', 'nci-c54808', 'vitacee', 'nsc-218455', 'ascorbicum acidum', 'ascorbic acid [usp monograph]', 'ferancee', 'suncoat vc 40', 'dtxcid50820452', 'cetane-caps td', 'ascorbic acid [ii]', 'vitace', 'l-ascorbic acid, 99%', 'mfcd00064328', 'ascorbic acid [fcc]', 'ascorbic acid [orange book]', 'ascorbic acid [ban:inn:jan]', 'ncgc00259676-01', 'ncgc00091517-01', 'vitascorbol', 'cevi-bid', 'celladix c.e.f advanced brightening ampoule', 'celaskon', 'hicee', '(5r)-5-[(1s)-1,2-dihydroxyethyl]-3,4-dihydroxyfuran-2(5h)-one (non-preferred name)', 'dr cellapy sr premium', 'db00126', 'new clairfore', 'ascorbic acid (usp:inn:ban:jan)', 'l-ascorbic acid, free radical form', 'allercorb', 'l-ascorbic acid 1000 microg/ml in acetonitrile', 'vita rich', 'proscorbin', 'citriscorb', 'cs-0626121', 'cetemican', 'l-threo-hex-2-enonic acid, gamma-lactone', 'cetamid', 'l-ascorbic acid, ar, >=99.5%', '.ascorbinsaure', 'bspbio_000329', 'tox21_202127', 'antiscorbutic vitamin', 'ins no.300', 'ascoltin (tn)', 'cevitamin', '2,3-dehydro-l-threo-hexono-1,4-lactone', 'l-ascorbic acid, certified reference material, tracecert(r)', 'dtxsid5020106', 'hex-2-enonic acid gamma-lactone, l-threo-', '6730-29-6', 'hy-b0166g', '(+)-ascorbic acid', 'fa00736', '(r)-5-(1,2-dihydroxy-ethyl)-3,4-dihydroxy-5h-furan-2-one', 'ascor-b.i.d.', 'ncgc00091517-02', 'l-threoascorbic acid', 'xitix', 'acido ascorbico [inn-spanish]', 'chebi:176783', 'l-ascorbic acid, meets usp testing specifications', 'cenolate', 'component of endoglobin forte', 'testascorbic', 'cevitan', 'nsc-33832', 'xyloascorbic acid, l-', 'vitamin c', 'meri-c', 'ascorbic acid [usp-rs]', '47a605f0-4187-47a8-b0ce-f9e7da1b0076', 'tox21_302958', 'acidum ascorbicum', 'ncgc00164357-01', 'ascorbic acid, united states pharmacopeia (usp) reference standard', 'l-ascorbic acid, cell culture', 'cebion', 'adenex', 'cee-caps td', 'ascorin', 'einecs 200-066-2', 'ascorbic acid [inn]', 'l-ascorbic acid, bioxtra, >=99.0%, crystalline', 'l-lyxoascorbate', 'antiscorbutic factor', 'l-(+)-ascorbic acid', 'ascorbic acid [hsdb]', 'nsc33832', 'd00018', 'smr001233160', 'hb1238', 'nsc 218455', 'vitamin c;acidum ascorbicum', 'ascorbic acid, british pharmacopoeia (bp) reference standard', 'ascorbic acid (ep monograph)', 'cipca', 'cevimin', 'e80759', 'vitamin c [vandf]', 'bp-12831', 'ce-vi-sol', 'redoxon', 'l-ascorbic acid, >=99.0%', 'dora-c-500', 'chewcee', 'acide ascorbique [inn-french]', 'ncgc00188972-01', 'l-ascorbic acid, acs reagent, >=99%', 'cegiolan', 'e300', 'chebi:22652', 'c-quin', 'viscorin 100m', 'tox21_112104', 'ascorbic acid [mi]', 'aromacura shower filter', 'bmse000182', 'ester c', 'ester-c', 'parentrovite', 'cevatine', 'vitamisin', 'ab00376923', 'catavin c', '(2r)-2-[(1s)-1,2-dihydroxyethyl]-3,4-dihydroxy-2h-furan-5-one', 'ascorbic acid [who-dd]', 'l-xyloascorbic acid', '3-oxo-l-gulofuranolactone', 'ascorbic acid [vandf]', 'q27101942', 'unii-pq6ck8pd0r', 'ferrous ascorbate', 'en300-708766', 'cantan', 'ascorvit', 'ascorbinezuur', 'cecon', 'davitamon c', 'ascorbic acid', 'vicelat', 'scorbu-c', '53262-66-1', 'component of ferancee', 'l-ascorbic acid, analytical standard', 'bpbio1_000363', 'l(+)-ascorbate', 'cevibid', 'ascorbic acid (usp-rs)', 'l-threoascorbic acid,antiscorbutic factor,vitamin c;(r)-5-((s)-1,2-dihydroxyethyl)-3,4-dihydroxyfuran-2(5h)-one', 'cevital', 'hex-1-enofuranos-3-ulose', 'vitamin c (as ascorbic acid)', 'cergona', 'l-ascorbic acid, tested according to ph.eur.', 'ascor (tn)', 'l-ascorbic acid, free acid', '(+)-ascorbate', 'l-ascorbate', 'ce lent', 'l-(+)-ascorbate', 'vasc', 'gamma-lactone l-threo-hex-2-enonic acid', 'da-61251', 'l-threo-hex-2-enono-1,4-lactone', 'ascorbinsaure', 'prestwick3_000325', 'ascorb', 'sodascorbate', 'ronotec 100', 'planavit c', 'l-threo-ascorbic acid', 'stuartinic', 'cetebe', 'secorbate', 'mls002153776', 'acide ascorbique (inn-french)', 'l-ascorbic acid, puriss. p.a., acs reagent, reag. iso, reag. ph. eur., 99.7-100.5% (oxidimetric)', 'c-span', 'celin', 'concemin', 'kyselina askorbova', '3-keto-l-gulofuranolactone', 'cevex', 'hy-b0166', 'sw198791-2', 'ascorbic acid, l-', 'l-ascorbic acid, anhydrous, free-flowing, redi-dri(tm), acs reagent, >=99%', 'ascorbin', 'ascorbic acid (l-ascorbic acid; vitamin c)', 'ascorbicap (tn)', 'l-ascorbic acid, jis special grade, >=99.0%', 'l-ascorbic acid, p.a., acs reagent, 99.0%', 'ascorbic acid1505', 'nsc 33832', 'ribena', 'arco-cee', 'tolfrinic', '2-(1,2-dihydroxyethyl)-4,5-dihydroxyfuran-3-one', 'ascorbic acid (vit c)', 'hicell', 'ascorbic acid [who-ip]', 'l(+)-ascorbic acid', 'ascorbate', 'dtxsid7048112', 'ascorbinsaeure', 'cenetone', '(5r)-5-[(1s)-1,2-dihydroxyethyl]-3,4-dihydroxyfuran-2(5h)-one', 'natrascorb', '(r)-5-((s)-1,2-dihydroxyethyl)-3,4-dihydroxyfuran-2(5h)-one']\n",
      "\n",
      "sal\n",
      "Aliases: ['sal']\n"
     ]
    }
   ],
   "source": [
    "sample3 = \"Sodium chloride, E300, Sal\"\n",
    "results3 = preprocess_ingredient_list(sample3)\n",
    "for r in results3:\n",
    "    print(f\"\\n{r['standard']}\\nAliases: {r['aliases']}\")"
   ]
  },
  {
   "cell_type": "markdown",
   "metadata": {},
   "source": [
    "##### retrieve health info"
   ]
  },
  {
   "cell_type": "code",
   "execution_count": 68,
   "metadata": {},
   "outputs": [],
   "source": [
    "def retrieve_health_info(ingredient_name):\n",
    "    \"\"\"\n",
    "    Retrieve health-related effects or warnings about an ingredient.\n",
    "    For now: stub function. Later: connect to APIs or web scraping.\n",
    "    \"\"\"\n",
    "    # Simulate retrieved results\n",
    "    fake_db = {\n",
    "        \"sodium chloride\": \"Excessive intake can lead to high blood pressure.\",\n",
    "        \"ascorbic acid\": \"Supports immune function and acts as an antioxidant.\",\n",
    "        \"e300\": \"E300 is Vitamin C, generally considered safe.\"\n",
    "    }\n",
    "    return fake_db.get(ingredient_name.lower(), \"No info found.\")"
   ]
  },
  {
   "cell_type": "markdown",
   "metadata": {},
   "source": [
    "##### Web-based Health info retrieval via trusted APIs"
   ]
  },
  {
   "cell_type": "code",
   "execution_count": 69,
   "metadata": {},
   "outputs": [],
   "source": [
    "# --- Trusted API Integration ---\n",
    "\n",
    "def query_pubmed(ingredient, max_results=5):\n",
    "    base_url = \"https://eutils.ncbi.nlm.nih.gov/entrez/eutils/esearch.fcgi\"\n",
    "    params = {\n",
    "        \"db\": \"pubmed\",\n",
    "        \"term\": ingredient,\n",
    "        \"retmode\": \"json\",\n",
    "        \"retmax\": max_results,\n",
    "    }\n",
    "    ids = requests.get(base_url, params=params).json()[\"esearchresult\"].get(\"idlist\", [])\n",
    "\n",
    "    summaries = []\n",
    "    for pmid in ids:\n",
    "        summary_url = \"https://eutils.ncbi.nlm.nih.gov/entrez/eutils/esummary.fcgi\"\n",
    "        summary_params = {\"db\": \"pubmed\", \"id\": pmid, \"retmode\": \"json\"}\n",
    "        r = requests.get(summary_url, params=summary_params).json()\n",
    "        result = r[\"result\"].get(pmid)\n",
    "        if result:\n",
    "            summaries.append({\n",
    "                \"title\": result.get(\"title\"),\n",
    "                \"source\": result.get(\"source\"),\n",
    "                \"pubdate\": result.get(\"pubdate\")\n",
    "            })\n",
    "    return summaries\n",
    "\n",
    "def query_openfda(ingredient):\n",
    "    base_url = \"https://api.fda.gov/food/enforcement.json\"\n",
    "    params = {\n",
    "        \"search\": f\"product_description:{ingredient}\",\n",
    "        \"limit\": 5\n",
    "    }\n",
    "    try:\n",
    "        r = requests.get(base_url, params=params).json()\n",
    "        return [rec[\"reason_for_recall\"] for rec in r.get(\"results\", [])]\n",
    "    except:\n",
    "        return []\n",
    "\n",
    "def query_rxnorm(ingredient):\n",
    "    url = \"https://rxnav.nlm.nih.gov/REST/rxcui.json\"\n",
    "    try:\n",
    "        rxcui = requests.get(url, params={\"name\": ingredient}).json()\n",
    "        return rxcui.get(\"idGroup\", {}).get(\"rxnormId\", [])\n",
    "    except:\n",
    "        return []\n",
    "\n",
    "def get_all_health_info(ingredient):\n",
    "    return {\n",
    "        \"PubMed\": query_pubmed(ingredient),\n",
    "        \"OpenFDA\": query_openfda(ingredient),\n",
    "        \"RxNorm\": query_rxnorm(ingredient)\n",
    "    }\n"
   ]
  },
  {
   "cell_type": "markdown",
   "metadata": {},
   "source": [
    "##### NER + Semantic Web Search"
   ]
  },
  {
   "cell_type": "code",
   "execution_count": 70,
   "metadata": {},
   "outputs": [],
   "source": [
    "# --- NER + Semantic Web Search ---\n",
    "\n",
    "import spacy\n",
    "from bs4 import BeautifulSoup\n",
    "import time\n",
    "from duckduckgo_search import DDGS\n",
    "from duckduckgo_search.exceptions import DuckDuckGoSearchException\n",
    "\n",
    "ner_nlp = spacy.load(\"en_core_web_sm\")  # use a separate instance\n",
    "\n",
    "def extract_entities(text):\n",
    "    doc = ner_nlp(text)\n",
    "    return [(ent.text, ent.label_) for ent in doc.ents]\n",
    "\n",
    "def search_web_snippets(ingredient, num_results=3):\n",
    "    try:\n",
    "        with DDGS() as ddgs:\n",
    "            results = ddgs.text(f\"{ingredient} health benefits site:.gov OR site:.org\", max_results=num_results)\n",
    "            return [res['body'] for res in results if 'body' in res]\n",
    "    except DuckDuckGoSearchException as e:\n",
    "        print(f\"[DuckDuckGoSearch] Rate-limited or failed: {e}\")\n",
    "        time.sleep(10)  # Wait before retrying or skipping\n",
    "        return []\n",
    "    except Exception as e:\n",
    "        print(f\"[DuckDuckGoSearch] Unexpected error: {e}\")\n",
    "        return []\n",
    "\n",
    "def semantic_scrape_summary(ingredient):\n",
    "    snippets = search_web_snippets(ingredient)\n",
    "    all_ents = []\n",
    "    for text in snippets:\n",
    "        ents = extract_entities(text)\n",
    "        all_ents.extend(ents)\n",
    "    return all_ents"
   ]
  },
  {
   "cell_type": "markdown",
   "metadata": {},
   "source": [
    "##### updating ingredient list processing based on health info"
   ]
  },
  {
   "cell_type": "code",
   "execution_count": 71,
   "metadata": {},
   "outputs": [],
   "source": [
    "def preprocess_ingredient_list_with_health(text):\n",
    "    raw_ingredients = re.split(r'[,\\n;/••]+', text)\n",
    "    processed = []\n",
    "\n",
    "    for raw in raw_ingredients:\n",
    "        raw = raw.strip()\n",
    "        if raw:\n",
    "            translated = translate_to_english(raw)\n",
    "            standard, aliases = standardize_ingredient_name(translated)\n",
    "\n",
    "            # Add health info from multiple APIs and scraping\n",
    "            health_info = {\n",
    "                \"TrustedAPIs\": get_all_health_info(standard),\n",
    "                \"NER_Snippets\": semantic_scrape_summary(standard)\n",
    "            }\n",
    "\n",
    "            processed.append({\n",
    "                \"standard\": standard,\n",
    "                \"aliases\": aliases,\n",
    "                \"health_info\": health_info\n",
    "            })\n",
    "\n",
    "    return processed"
   ]
  },
  {
   "cell_type": "markdown",
   "metadata": {},
   "source": [
    "##### test run"
   ]
  },
  {
   "cell_type": "code",
   "execution_count": 73,
   "metadata": {},
   "outputs": [
    {
     "name": "stdout",
     "output_type": "stream",
     "text": [
      "[DuckDuckGoSearch] Rate-limited or failed: https://lite.duckduckgo.com/lite/ 202 Ratelimit\n",
      "[DuckDuckGoSearch] Rate-limited or failed: https://html.duckduckgo.com/html 202 Ratelimit\n",
      "[DuckDuckGoSearch] Rate-limited or failed: https://lite.duckduckgo.com/lite/ 202 Ratelimit\n",
      "[DuckDuckGoSearch] Rate-limited or failed: https://lite.duckduckgo.com/lite/ 202 Ratelimit\n",
      "[DuckDuckGoSearch] Rate-limited or failed: https://html.duckduckgo.com/html 202 Ratelimit\n",
      "[DuckDuckGoSearch] Rate-limited or failed: https://lite.duckduckgo.com/lite/ 202 Ratelimit\n",
      "\n",
      "Ingredient: watesal a\n",
      "→ Aliases: ['watesal a', 'sodium chloridenormal salt', 'ss salt', 'natrium muriaticum', 'sodium chloride 23.4% in plastic container', 'sodium chloride, jis special grade, >=99.5%', 'corvatrol 0.9%', 'vamousse pro lice treatment', 'sykes 0.9% sodium chloride', 'natrii chloridum', 'amphenol-40', 'walgreens saline mistextra strength', 'sodium chloride', 'saline nasal2oz', 'wln: na g', 'sodium chloride, anhydrous, beads, -10 mesh, 99.999% trace metals basis', 'cs-0909803', 'sodium chloride crystal optic disc, 32mm x 3mm, polished both sides', 'sodium standard for aas, ready-to-use, traceable to bam, in h2o', 'nacl solution, 1m', 'sodium chloride for dnase, rnase, and protease, none detected', 'aqua maris extra strong', 'mono-sodium chloride salt', 'veterinary 0.9% sodium chloride', 'sodium chloride, nist(r) srm(r) 919b', 'sodium chloride, puriss. p.a., >=99.5% (at)', 'sodium chloride, tested according to ph.eur.', 'clear mist', 'tid clean care', '0.9% saline', 'extra strenght saline mistrite aid', 'sodium-chloride', 'sterile saline kids mist', 'dendritis', 'tid clean plant', 'sodium chloride, bacteriostatic', 'sodium chloride, anhydrous, free-flowing, redi-dri(tm), reagentplus(r), >=99%', 'hsdb 6368', 'sdg high level disinfectant', 'sodium chloride, meets analytical specification of ph. eur. bp usp,  inverted exclamation marku0.00002% al', 'sodium chloride, reagent grade, >=98%, +80 mesh particle size', 'sterile saline mistrite aid', 'entsol', 'natrum muriaticum [hpus]', 'sodium chloride [hsdb]', 'sodium chloride, p.a., 99-100.5%', 'ec 231-598-3', 'sodium chloride hypertonicity ophthalmic', 'sodium chloride, anhydrous, redi-dri(tm), free-flowing, acs reagent, >=99%', 'salt (6ci,7ci)', 'titrisol', 'sodium chloride, technical grade, 95%', 'altachlore sodium chloride hypertonicity', 'saline mist', 'sodium chloride [who-ip]', 'sinucleanse sterile saline mist daily care', 'licefreee everyday', 'saline nasal1.5oz', 'broncho saline', 'b1655 [langual]', 'cvs saline', 'natrium muriaticum 6x', 'sterile saline mistwalgreens', 'sodium chloride, 99.999% trace metals basis', 'isotonic sodium chloride solution', 'chebi:26710', 'sterile saline', 'aqua marina', 'mafiron', 'sodium chloride, united states pharmacopeia (usp) reference standard', 'sodium chloride, bioperformance certified, >=99% (titration), cell culture tested', 'saline wipes', 'sodium chloride (8ci)', 'sodium chloride 0.45% in plastic container', 'sodium chloride (ii)', 'sodium chloride, random crystals, optical grade, 99.98% trace metals basis', 'sodium chloride [ii]', 'caswell no. 754', 'usepa/opp pesticide code: 13905', '10% sodium chloride injection', 'licefreee', 'aqua maris daily clean', 'sodium chloride (ep monograph)', 'na-zone', 'nat mur 3x', 'solsel', 'sodium chloride, usp, 99.0-100.5%', 'mfcd00003477', '3% sodium chloride', 'sodium chloride, hypertonic', 'normal saline', 'sodium chloride, meets analytical specification of ph. eur., bp, usp, 99.0-100.5%', 'nat mur 6x', '14762-51-7', 'sodium chloride crystal optic rectangle, 41mm x 23mm x 6mm, unpolished', 'nasoxinspray', 'nacl', 'normal salt tablets', 'dendritic salt', 'sodium chloride (nacl)', 'bye bye (toc toc)', 'rns60 component saline', 'sterling', 'sodium chloride acs', 'hypertonic saline 7.2%', 'sodium chloride crystal optic rectangle, 38.5mm x 19.5mm x 4mm, polished both sides', 'flexivial', 'athomer mini', 'epa pesticide chemical code 013905', 'sodium chloric', 'sodium chloride, lr, >=99.5%', 'isotopic standard for chlorine, nist srm 975a', 'sodium chloride 0.9% in plastic container', 'rns-60 component saline', 'chlorine-containing disinfectant', 'sodium chloride, for molecular biology', 'hy-y0344j', 'cs-0376163', 'sodium chloride, p.a., acs reagent, reag. iso, reag. ph. eur., 99.5%', 'sodium-36 chloride', 'hypersal', 'unii-vr5y7pdt5w', 'sodium chloride, bioultra, for molecular biology, >=99.5% (at)', 'aqua maris daily', 'salt (ingredient)', 'api aquarium salt', 'sodium chloride, puriss. p.a., >=99.5% (at), powder or crystals', 'normal salt', 'sodium chloride, vetec(tm) reagent grade, 99%', 'hy-y0344h', 'sodium chloride hypertonicity', 'sodium chloride [who-dd]', 'sodium chloride, spectroscopy grade', 'salt', '231-598-3', 'str02627', 'sodium chloride, optical grade', 'nat mur 200x', 'sodium chloride crystal optic disc, 13mm x 2mm, polished both sides', 'sodium chloride crystal optic rectangle, 30mm x 15mm x 4mm, polished both sides', 'sodium chloride, ultra dry', 'athomer', 'chlorure de sodium', 'extra fine 325 salt', 'b1655', 'sea water', 'slow sodium', 'sodium chloride, reagentplus(r), >=99%', 'dtxsid3021271', 'sodanylium and hydrochloric acid, ion(1-) (1:1)', 'isotonic', 'kochsalz', 'sodium chloride anhydrous', 'chembl1200574', 'trisodium trichloride', 'rock salt', 'sodium chloride, anhydrous, beads, -10 mesh, 99.99% trace metals basis', 'extrafine 325 salt', 'cleansing wipe / tube', 'isotonic saline', 'sodium;chloride', 'cloruro sodico', 'athomer baby', 'sodium chloride, acs reagent', 'sodium chloride, ph. eur., usp grade', 'h.g. blending', 'tid clean dent', 'vr5y7pdt5w', 'suprasel nitrite', 'sodium chloride brine, purified', 'cs-0909801', 'sinucleanse sterile saline mist', 'sodium chloride 2.65%', 'natriumchlorid [german]', 'bacteriostatic sodium chloride 0.9% in plastic container', 'stat trak plus', 'sodium chloride crystal optic disc, 25mm x 5mm, unpolished', 'sodium chloride spray', 'sodium chloride, 99.999%', 'mineral metea', 'saline nasal1 fl oz', 'canners 999', 'sodium chloride (jp18/usp)', 'halite', 'sodium chloride [usp monograph]', 'akos024438089', 'haemonetics 0.9 % sodium chloride', 'sodium chloride [ep monograph]', 'natriumchlorid', 'sodium chloride crystal optic disc, 13mm x 1mm, polished both sides', 'natrum muriaticum', 'special salt 100/95', 'sodium chloride 3% in plastic container', 'alfa veterinary 0.9% sodium chloride', 'sodium chloride; nacl', 'vamousse lice treatment complete kit', 'muro 128', 'sodium chloride, isotonic', 'sodium chloride 23.4%', 'sodium chloride (usp-rs)', 'sodium chloride 0.9% in plastic thermoject kit for cardiac output use', 'nat mur 30x', 'hypertonic saline 7.2 %', 'sodium chloride, for cell culture', 'sodium chloride crystal optic disc, 25mm x 4mm, polished both sides', 'nat mur', 'homeopathic pediculicide', 'cleanoz', 'sodium chloride, >=99%, ar grade', 'sodium chloride 5% in plastic container', 'q2314', 'sterile saline kids mistpediameds', 'sodium chloride [vandf]', 'walgreens saline mist', 'dtxcid001271', 'extra fine 200 salt', 'api pond pond salt', 'natrum muriaticum8009', 'sodium chloride (na36cl)', 'sodium chloride biochemical grade', 'multibic component sodium chloride', 'walgreens saline', 'sodium chloride crystal optic disc, 25mm x 2mm, polished both sides', 'db09153', 'sodium chloride, manac incorporated', 'cardiovascular kit', 'purex', 'saline, sodium chloride', 'sodium chloride [usp:jan]', 's0572', 'walgreen saline', 'sodium chloride crystal optic rectangle, 38.5mm x 19.5mm x 4mm, unpolished', '451w47iq8x', '7.5% hypertonic saline', 'sodium chloride (usp monograph)', 'sodium chloride [orange book]', 'pulmosal', 'ayr', 'extra strenght saline mist', 'arm-a-vial', 'cardiovascular accessory kit', 'sodium chloride 0.9% in sterile plastic container', 'sterile saline mist', 'colyte', 'sodium chloride in plastic container', 'usp sodium chloride', 'sodium chloride 0.65%', 'sodium chloride (na4cl4)', 'sodium chloride, usp, 99.0-101.0%', 'gingivyl', 'ancient secretsbreathe again', 'nat mur 12x', 'meijer saline', 'vetivexveterinary sodium chloride', 'adsorbanac', 'nsc 77364', 'bye zero', 'nsc-77364', 'sel gemme', 'sodium chloride, technical grade, 97%', 'uzushio biryuu m', 'beanguard gargle', 'sel gemme8146', '7647-14-5 (solid)', 'sodium chloride, saj first grade, >=99.0%', 'sodium chloride crystal optic rectangle, 38.5mm x 19.5mm x 4mm (drilled), polished both sides', 'sodium chloride, trace metals grade, 99.99%', 'tonicpet 9', 'sodium chloride, tablet', 'akos024457457', 'nacl 0.9%', 'nsc77364', 'natrum muriaticum200ck', 'natrum muriaticum 6c', 'sodium chloride, anhydrous', 'sodium chloride, pharmaceutical secondary standard; certified reference material', 'aquamarine8105', 'sodium chloride [jan]', 'vamousse lice treatment', 'ns00076259', 'sodium chloride, acs reagent, >=99.0%', 'sea salt', 'aqua maris strong', 'sodium chloride, puriss. p.a., acs reagent, reag. iso, reag. ph. eur., >=99.5%', 'top flake', '0.9% nacl', 'brinewate superfine', 'natrum muriaticum kit refill', 'sodium chloride, ar, >=99.9%', 'sodium chloride [usp-rs]', 'sodium chloride for irrigation', 'd02056', 'nebusal', 'sodiumchloride', '0.9% sodium chloride', 'unii-451w47iq8x', 'sodium chloride, bioxtra, >=99.5% (at)', 'adsorbanac (tn)', 'sykes hypertonic saline 7.2%', 'natrum muriaticum 30c', '7647-14-5', 'sodium chloride crystal optic disc, 22mm x 4mm, polished both sides', 'ancient secrets', 'sodium chloride, for molecular biology, dnase, rnase, and protease, none detected, >=98% (titration)', 'sodium chloride, certified reference material for titrimetry, certified by bam, according to iso 17025, >=99.5%', 'vetivexveterinary hypertonic', 'hyposaline', 'ls-1700', 'saline nasal3oz', 'ccris 982', 'hy-y0344i', 'saline', 'sodium chloride salt', 'athomer propolis', 'fs30573', 'sodium chloride crystal optic disc, 32mm x 3mm (drilled), polished both sides', 'halite (nacl)', 'sodium chloride solution, 1 mol/l -1 n volumetric standard solution', 'cs-0909802', 'table salt', 'sodium chloride crystal optic rectangle, 30mm x 15mm x 4mm (drilled), polished both sides', 'sodium chloride, bioreagent, suitable for cell culture, suitable for insect cell culture, suitable for plant cell culture, >=99%', '32343-72-9', 'iodized salt', 'p-care k40mx', 'vamousse lice prevention', 'white crystal', 'octiq', 'sodium chloride (usp:jan)', 'extrafine 200 salt', 'sterile saline kids mistsinucleanse breathe', 'sodium chloride [mi]', 'common salt', 'sodium chloride1 gram', 'hy-y0344d', 'natrii chloridum [who-ip latin]', 'sodium chloride [green book]', 'p-care k80mx', 'sodium monochloride', 'tid clean align', 'einecs 231-598-3']\n",
      "\n",
      "Trusted API Info:\n",
      "  • PubMed:\n",
      "     - No results\n",
      "  • OpenFDA:\n",
      "     - Recall initiated as a precautionary measure due to potential risk of product contamination with Burkholderia cepacia.\n",
      "     - Virginia State (VDACS) found Listeria monocytogenes in Lacteos Santa Martha Quesito Casero Fresh Curd (Best by 9/27/14), FDA made an inspection, were the environmental samples collected came up positive also for Listeria monocytogenes, also the Oasis Brands Inc. sent finish products samples to a private lab, the Lacteos Santa Martha Cuajada en Hoja Queso Casero Hecho a Mano Fresh Curd (Best By dates of 10/18/14 and 11/25/14) came also positive for Listeria monocytogenes.  Oasis Brands Inc.  is voluntarily recalling ALL their Lacteos Santa Martha brand products manufactured that are within expiration date.\n",
      "     - Firm was notified by supplier that Organic Ground Flaxseed powder was under recall by manufacturer due to unapproved herbicide - Haloxyfop\n",
      "     - Coffee Toffee is recalled because pecan is listed on the Ingredients statement but it is not listed in the Contains statement.\n",
      "     - Product contains dried peaches, but front labeling of product stated dried plums\n",
      "  • RxNorm:\n",
      "     - No results\n",
      "\n",
      "NER Entities from Web Snippets:\n",
      "     - No named entities found.\n",
      "\n",
      "Ingredient: c-vimin\n",
      "→ Aliases: ['c-vimin', 'cereon', 'chromagen', 'ncgc00091517-06', 'ascor', 'ascorbic acid [mart.]', 'schembl4430', 'ascorbic acid (usp monograph)', 'ascorbajen', 'cevitex', 'ascorbic acid [usp:inn:ban:jan]', 'l-ascorbic acid, plant cell culture tested', 'duoscorb', 'hms2231n16', 'ccris 57', 'cewin', 'cleanflex', 'c00072', 'fema no. 2109', 'acid, ascorbic', 'vitamin c (ascorbic acid)', 'ascorbicap', 'cevalin', 'ncgc00091517-03', 'juvamine', 'caswell no. 061b', 'e-300', '[14c]ascorbic acid', 'e 300', 'tox21_110315', 'rontex 100', 'hsdb 818', 'clairfore', 'ccg-207946', 'l-ascorbic acid (gmp)', 'q199678', '3-oxo-l-gulofuranolactone (enol form)', 'cebicure', 'kangbingfeng', 'ceklin', 'natrascorb injectable', 'ascorbic acid (mart.)', 'vitamine c', 'da-61252', 'vitacin', 'c-long', 'ascorbyl radical', 'l-xyloascorbate', 'cortalex', 'l-ascorbic acid, bioultra, >=99.5% (rt)', 'hybrin', 'colascor', 'ascorbicab', 'l-ascorbic acid, reagent grade', 'cebione', 'antiscorbic vitamin', 'l-lyxoascorbic acid', 'kyselina askorbova [czech]', 'ascorbic acid (ii)', 'viscorin', 'chebi:29073', 'cee-vite', 'ido-c', 'acido ascorbico', 'pq6ck8pd0r', 'ascorbic acid [ep monograph]', 'msk1523', 'ascorbutina', 'cemill', 'neo-valdrin', 'ascorbic acid [fhfi]', 'dtxcid90106', 'citrovit', 'schembl785', 'l-ascorbic acid (standard)', 'ascorbic acid (jp17/usp/inn)', 'ncgc00256504-01', 'a0537', 'ceglion', 'ns00001126', 'hms3713a11', 'l-ascorbic acid, vetec(tm) reagent grade, 99%', 'gamma-lactone l-threo-hex-2-enonate', 'ascorbic acid, european pharmacopoeia (ep) reference standard', '(5r)-5-[(1s)-1,2-dihydroxyethyl]-3,4-dihydroxy-2,5-dihydrofuran-2-one', '2-(1,2-dihydroxyethyl)-4,5-dihydroxy-furan-3-one', 'lemascorb', 'hy-b0166r', 'vicomin c', '200-066-2', '3eka', 'l-ascorbic acid', 'cemagyl', 'viforcit', 'l-ascorbic acid acs reagent grade', 'gtpl4532', 'cell c', 'vit c', 'scorbacid', 'l-ascorbic acid, mixt. with vitamin b', 'hms2096a11', 'component of cortalex', 'cevitamate', 'l-3-ketothreohexuronic acid lactone', '(5r)-5-((1s)-1,2-dihydroxyethyl)-3,4-dihydroxyfuran-2(5h)-one', 'acidum ascorbicum [who-ip latin]', 'scorbu c', 'l-ascorbic acid, p.a., acs reagent, reag. iso, 99.7%', 'l-ascorbic acid, puriss. p.a., >=99.0% (rt)', 'cebid', 'gtpl4781', 'akos016843589', 'rovimix c', 'liqui-cee', 'acide ascorbique', 'ab00376923_05', 'cantaxin', 'asorbicap', 'c-level', '(2r)-2-[(1s)-1,2-dihydroxyethyl]-4,5-dihydroxyfuran-3-one', 'roscorbic', 'l-ascorbic acid, fcc, fg', 'ascorteal', 'ciamin', 'acido ascorbico (inn-spanish)', '(2r)-2-[(1s)-1,2-dihydroxyethyl]-4,5-dihydroxy-furan-3-one', 'acidum ascorbicum [inn-latin]', '50-81-7', 'l-ascorbic acid, suitable for cell culture, suitable for plant cell culture, >=98%', '[14c]-ascorbic acid', 'ab00376923_04', 'cevitamic acid', 'l-ascorbic acid, powder, cell culture tested, gamma-irradiated', 'vitamina c', 'vitacimin', 'tox21_112104_1', 'laroscorbine', 'ce-mi-lin', 'chembl40274', 'l-ascorbic acid, reagent grade, crystalline', 'acidum ascorbinicum', 'acidum ascorbicum (inn-latin)', 'ascoltin', 'cescorbat', 'component of e and c-level', 's3114', 'dtxsid801344780', 'ins-300', 'bcp27915', 'ascorbic acid [jan]', 'cetane-caps tc', 'dtxsid50986567', 'nci-c54808', 'vitacee', 'nsc-218455', 'ascorbicum acidum', 'ascorbic acid [usp monograph]', 'ferancee', 'suncoat vc 40', 'dtxcid50820452', 'cetane-caps td', 'ascorbic acid [ii]', 'vitace', 'l-ascorbic acid, 99%', 'mfcd00064328', 'ascorbic acid [fcc]', 'ascorbic acid [orange book]', 'ascorbic acid [ban:inn:jan]', 'ncgc00259676-01', 'ncgc00091517-01', 'vitascorbol', 'cevi-bid', 'celladix c.e.f advanced brightening ampoule', 'celaskon', 'hicee', '(5r)-5-[(1s)-1,2-dihydroxyethyl]-3,4-dihydroxyfuran-2(5h)-one (non-preferred name)', 'dr cellapy sr premium', 'db00126', 'new clairfore', 'ascorbic acid (usp:inn:ban:jan)', 'l-ascorbic acid, free radical form', 'allercorb', 'l-ascorbic acid 1000 microg/ml in acetonitrile', 'vita rich', 'proscorbin', 'citriscorb', 'cs-0626121', 'cetemican', 'l-threo-hex-2-enonic acid, gamma-lactone', 'cetamid', 'l-ascorbic acid, ar, >=99.5%', '.ascorbinsaure', 'bspbio_000329', 'tox21_202127', 'antiscorbutic vitamin', 'ins no.300', 'ascoltin (tn)', 'cevitamin', '2,3-dehydro-l-threo-hexono-1,4-lactone', 'l-ascorbic acid, certified reference material, tracecert(r)', 'dtxsid5020106', 'hex-2-enonic acid gamma-lactone, l-threo-', '6730-29-6', 'hy-b0166g', '(+)-ascorbic acid', 'fa00736', '(r)-5-(1,2-dihydroxy-ethyl)-3,4-dihydroxy-5h-furan-2-one', 'ascor-b.i.d.', 'ncgc00091517-02', 'l-threoascorbic acid', 'xitix', 'acido ascorbico [inn-spanish]', 'chebi:176783', 'l-ascorbic acid, meets usp testing specifications', 'cenolate', 'component of endoglobin forte', 'testascorbic', 'cevitan', 'nsc-33832', 'xyloascorbic acid, l-', 'vitamin c', 'meri-c', 'ascorbic acid [usp-rs]', '47a605f0-4187-47a8-b0ce-f9e7da1b0076', 'tox21_302958', 'acidum ascorbicum', 'ncgc00164357-01', 'ascorbic acid, united states pharmacopeia (usp) reference standard', 'l-ascorbic acid, cell culture', 'cebion', 'adenex', 'cee-caps td', 'ascorin', 'einecs 200-066-2', 'ascorbic acid [inn]', 'l-ascorbic acid, bioxtra, >=99.0%, crystalline', 'l-lyxoascorbate', 'antiscorbutic factor', 'l-(+)-ascorbic acid', 'ascorbic acid [hsdb]', 'nsc33832', 'd00018', 'smr001233160', 'hb1238', 'nsc 218455', 'vitamin c;acidum ascorbicum', 'ascorbic acid, british pharmacopoeia (bp) reference standard', 'ascorbic acid (ep monograph)', 'cipca', 'cevimin', 'e80759', 'vitamin c [vandf]', 'bp-12831', 'ce-vi-sol', 'redoxon', 'l-ascorbic acid, >=99.0%', 'dora-c-500', 'chewcee', 'acide ascorbique [inn-french]', 'ncgc00188972-01', 'l-ascorbic acid, acs reagent, >=99%', 'cegiolan', 'e300', 'chebi:22652', 'c-quin', 'viscorin 100m', 'tox21_112104', 'ascorbic acid [mi]', 'aromacura shower filter', 'bmse000182', 'ester c', 'ester-c', 'parentrovite', 'cevatine', 'vitamisin', 'ab00376923', 'catavin c', '(2r)-2-[(1s)-1,2-dihydroxyethyl]-3,4-dihydroxy-2h-furan-5-one', 'ascorbic acid [who-dd]', 'l-xyloascorbic acid', '3-oxo-l-gulofuranolactone', 'ascorbic acid [vandf]', 'q27101942', 'unii-pq6ck8pd0r', 'ferrous ascorbate', 'en300-708766', 'cantan', 'ascorvit', 'ascorbinezuur', 'cecon', 'davitamon c', 'ascorbic acid', 'vicelat', 'scorbu-c', '53262-66-1', 'component of ferancee', 'l-ascorbic acid, analytical standard', 'bpbio1_000363', 'l(+)-ascorbate', 'cevibid', 'ascorbic acid (usp-rs)', 'l-threoascorbic acid,antiscorbutic factor,vitamin c;(r)-5-((s)-1,2-dihydroxyethyl)-3,4-dihydroxyfuran-2(5h)-one', 'cevital', 'hex-1-enofuranos-3-ulose', 'vitamin c (as ascorbic acid)', 'cergona', 'l-ascorbic acid, tested according to ph.eur.', 'ascor (tn)', 'l-ascorbic acid, free acid', '(+)-ascorbate', 'l-ascorbate', 'ce lent', 'l-(+)-ascorbate', 'vasc', 'gamma-lactone l-threo-hex-2-enonic acid', 'da-61251', 'l-threo-hex-2-enono-1,4-lactone', 'ascorbinsaure', 'prestwick3_000325', 'ascorb', 'sodascorbate', 'ronotec 100', 'planavit c', 'l-threo-ascorbic acid', 'stuartinic', 'cetebe', 'secorbate', 'mls002153776', 'acide ascorbique (inn-french)', 'l-ascorbic acid, puriss. p.a., acs reagent, reag. iso, reag. ph. eur., 99.7-100.5% (oxidimetric)', 'c-span', 'celin', 'concemin', 'kyselina askorbova', '3-keto-l-gulofuranolactone', 'cevex', 'hy-b0166', 'sw198791-2', 'ascorbic acid, l-', 'l-ascorbic acid, anhydrous, free-flowing, redi-dri(tm), acs reagent, >=99%', 'ascorbin', 'ascorbic acid (l-ascorbic acid; vitamin c)', 'ascorbicap (tn)', 'l-ascorbic acid, jis special grade, >=99.0%', 'l-ascorbic acid, p.a., acs reagent, 99.0%', 'ascorbic acid1505', 'nsc 33832', 'ribena', 'arco-cee', 'tolfrinic', '2-(1,2-dihydroxyethyl)-4,5-dihydroxyfuran-3-one', 'ascorbic acid (vit c)', 'hicell', 'ascorbic acid [who-ip]', 'l(+)-ascorbic acid', 'ascorbate', 'dtxsid7048112', 'ascorbinsaeure', 'cenetone', '(5r)-5-[(1s)-1,2-dihydroxyethyl]-3,4-dihydroxyfuran-2(5h)-one', 'natrascorb', '(r)-5-((s)-1,2-dihydroxyethyl)-3,4-dihydroxyfuran-2(5h)-one']\n",
      "\n",
      "Trusted API Info:\n",
      "  • PubMed:\n",
      "     - {'title': 'Vitamin C.', 'source': '', 'pubdate': '2006'}\n",
      "  • OpenFDA:\n",
      "     - Product contains an ingredient that was recalled by a supplier because it may be contaminated with Salmonella\n",
      "     - The firm used pan release spray, which contains soy lecithin, on equipment and finished products labels do not declare soy lecithin.\n",
      "     - Product labeling is incorrect, FD&C colors are undeclared.\n",
      "     - Firm was notified by supplier of apples that Caramel apples may be associated with a current Listeria Monocytogenes outbreak.\n",
      "     - CA Department of Public Health inspectors found a pervasive infestation of mice in the facility.\n",
      "  • RxNorm:\n",
      "     - No results\n",
      "\n",
      "NER Entities from Web Snippets:\n",
      "     - No named entities found.\n",
      "\n",
      "Ingredient: the longa turmeric\n",
      "→ Aliases: ['the longa turmeric']\n",
      "\n",
      "Trusted API Info:\n",
      "  • PubMed:\n",
      "     - {'title': 'Molecular insights into anti-inflammatory activities of selected Indian herbs.', 'source': 'J Ayurveda Integr Med', 'pubdate': '2025 Mar 27'}\n",
      "     - {'title': 'β-Elemene inhibits adipogenesis in 3T3-L1 cells by regulating AMPK pathway.', 'source': 'J Clin Biochem Nutr', 'pubdate': '2025 Mar'}\n",
      "     - {'title': 'Interplay Between Traditional and Scientific Knowledge: Phytoconstituents and Their Roles in Lung and Colorectal Cancer Signaling Pathways.', 'source': 'Biomolecules', 'pubdate': '2025 Mar 5'}\n",
      "     - {'title': 'A data-driven approach to turmeric disease detection: Dataset for plant condition classification.', 'source': 'Data Brief', 'pubdate': '2025 Apr'}\n",
      "     - {'title': 'Dose-dependent effects of curcumin on 22Rv1 prostate cancer cell line.', 'source': 'Mol Biol Rep', 'pubdate': '2025 Mar 26'}\n",
      "  • OpenFDA:\n",
      "     - The firm received a notice from their supplier that a sample of ground turmeric was tested and found to have elevated levels of lead.\n",
      "     - Product is labeled as the wrong sauce, resulting in soy being undeclared on the label.\n",
      "     - Undeclared wheat. Product contains wheat but was mis-labeled as Savory 6 Cut Crinkle Cut Wedge and label does not declare wheat.\n",
      "     - Potential contamination with Salmonella Newport in onions and prepared foods containing onions.\n",
      "     - Whole wheat not declared on label.\n",
      "  • RxNorm:\n",
      "     - No results\n",
      "\n",
      "NER Entities from Web Snippets:\n",
      "     - No named entities found.\n",
      "\n",
      "Ingredient: c-vimin\n",
      "→ Aliases: ['c-vimin', 'cereon', 'chromagen', 'ncgc00091517-06', 'ascor', 'ascorbic acid [mart.]', 'schembl4430', 'ascorbic acid (usp monograph)', 'ascorbajen', 'cevitex', 'ascorbic acid [usp:inn:ban:jan]', 'l-ascorbic acid, plant cell culture tested', 'duoscorb', 'hms2231n16', 'ccris 57', 'cewin', 'cleanflex', 'c00072', 'fema no. 2109', 'acid, ascorbic', 'vitamin c (ascorbic acid)', 'ascorbicap', 'cevalin', 'ncgc00091517-03', 'juvamine', 'caswell no. 061b', 'e-300', '[14c]ascorbic acid', 'e 300', 'tox21_110315', 'rontex 100', 'hsdb 818', 'clairfore', 'ccg-207946', 'l-ascorbic acid (gmp)', 'q199678', '3-oxo-l-gulofuranolactone (enol form)', 'cebicure', 'kangbingfeng', 'ceklin', 'natrascorb injectable', 'ascorbic acid (mart.)', 'vitamine c', 'da-61252', 'vitacin', 'c-long', 'ascorbyl radical', 'l-xyloascorbate', 'cortalex', 'l-ascorbic acid, bioultra, >=99.5% (rt)', 'hybrin', 'colascor', 'ascorbicab', 'l-ascorbic acid, reagent grade', 'cebione', 'antiscorbic vitamin', 'l-lyxoascorbic acid', 'kyselina askorbova [czech]', 'ascorbic acid (ii)', 'viscorin', 'chebi:29073', 'cee-vite', 'ido-c', 'acido ascorbico', 'pq6ck8pd0r', 'ascorbic acid [ep monograph]', 'msk1523', 'ascorbutina', 'cemill', 'neo-valdrin', 'ascorbic acid [fhfi]', 'dtxcid90106', 'citrovit', 'schembl785', 'l-ascorbic acid (standard)', 'ascorbic acid (jp17/usp/inn)', 'ncgc00256504-01', 'a0537', 'ceglion', 'ns00001126', 'hms3713a11', 'l-ascorbic acid, vetec(tm) reagent grade, 99%', 'gamma-lactone l-threo-hex-2-enonate', 'ascorbic acid, european pharmacopoeia (ep) reference standard', '(5r)-5-[(1s)-1,2-dihydroxyethyl]-3,4-dihydroxy-2,5-dihydrofuran-2-one', '2-(1,2-dihydroxyethyl)-4,5-dihydroxy-furan-3-one', 'lemascorb', 'hy-b0166r', 'vicomin c', '200-066-2', '3eka', 'l-ascorbic acid', 'cemagyl', 'viforcit', 'l-ascorbic acid acs reagent grade', 'gtpl4532', 'cell c', 'vit c', 'scorbacid', 'l-ascorbic acid, mixt. with vitamin b', 'hms2096a11', 'component of cortalex', 'cevitamate', 'l-3-ketothreohexuronic acid lactone', '(5r)-5-((1s)-1,2-dihydroxyethyl)-3,4-dihydroxyfuran-2(5h)-one', 'acidum ascorbicum [who-ip latin]', 'scorbu c', 'l-ascorbic acid, p.a., acs reagent, reag. iso, 99.7%', 'l-ascorbic acid, puriss. p.a., >=99.0% (rt)', 'cebid', 'gtpl4781', 'akos016843589', 'rovimix c', 'liqui-cee', 'acide ascorbique', 'ab00376923_05', 'cantaxin', 'asorbicap', 'c-level', '(2r)-2-[(1s)-1,2-dihydroxyethyl]-4,5-dihydroxyfuran-3-one', 'roscorbic', 'l-ascorbic acid, fcc, fg', 'ascorteal', 'ciamin', 'acido ascorbico (inn-spanish)', '(2r)-2-[(1s)-1,2-dihydroxyethyl]-4,5-dihydroxy-furan-3-one', 'acidum ascorbicum [inn-latin]', '50-81-7', 'l-ascorbic acid, suitable for cell culture, suitable for plant cell culture, >=98%', '[14c]-ascorbic acid', 'ab00376923_04', 'cevitamic acid', 'l-ascorbic acid, powder, cell culture tested, gamma-irradiated', 'vitamina c', 'vitacimin', 'tox21_112104_1', 'laroscorbine', 'ce-mi-lin', 'chembl40274', 'l-ascorbic acid, reagent grade, crystalline', 'acidum ascorbinicum', 'acidum ascorbicum (inn-latin)', 'ascoltin', 'cescorbat', 'component of e and c-level', 's3114', 'dtxsid801344780', 'ins-300', 'bcp27915', 'ascorbic acid [jan]', 'cetane-caps tc', 'dtxsid50986567', 'nci-c54808', 'vitacee', 'nsc-218455', 'ascorbicum acidum', 'ascorbic acid [usp monograph]', 'ferancee', 'suncoat vc 40', 'dtxcid50820452', 'cetane-caps td', 'ascorbic acid [ii]', 'vitace', 'l-ascorbic acid, 99%', 'mfcd00064328', 'ascorbic acid [fcc]', 'ascorbic acid [orange book]', 'ascorbic acid [ban:inn:jan]', 'ncgc00259676-01', 'ncgc00091517-01', 'vitascorbol', 'cevi-bid', 'celladix c.e.f advanced brightening ampoule', 'celaskon', 'hicee', '(5r)-5-[(1s)-1,2-dihydroxyethyl]-3,4-dihydroxyfuran-2(5h)-one (non-preferred name)', 'dr cellapy sr premium', 'db00126', 'new clairfore', 'ascorbic acid (usp:inn:ban:jan)', 'l-ascorbic acid, free radical form', 'allercorb', 'l-ascorbic acid 1000 microg/ml in acetonitrile', 'vita rich', 'proscorbin', 'citriscorb', 'cs-0626121', 'cetemican', 'l-threo-hex-2-enonic acid, gamma-lactone', 'cetamid', 'l-ascorbic acid, ar, >=99.5%', '.ascorbinsaure', 'bspbio_000329', 'tox21_202127', 'antiscorbutic vitamin', 'ins no.300', 'ascoltin (tn)', 'cevitamin', '2,3-dehydro-l-threo-hexono-1,4-lactone', 'l-ascorbic acid, certified reference material, tracecert(r)', 'dtxsid5020106', 'hex-2-enonic acid gamma-lactone, l-threo-', '6730-29-6', 'hy-b0166g', '(+)-ascorbic acid', 'fa00736', '(r)-5-(1,2-dihydroxy-ethyl)-3,4-dihydroxy-5h-furan-2-one', 'ascor-b.i.d.', 'ncgc00091517-02', 'l-threoascorbic acid', 'xitix', 'acido ascorbico [inn-spanish]', 'chebi:176783', 'l-ascorbic acid, meets usp testing specifications', 'cenolate', 'component of endoglobin forte', 'testascorbic', 'cevitan', 'nsc-33832', 'xyloascorbic acid, l-', 'vitamin c', 'meri-c', 'ascorbic acid [usp-rs]', '47a605f0-4187-47a8-b0ce-f9e7da1b0076', 'tox21_302958', 'acidum ascorbicum', 'ncgc00164357-01', 'ascorbic acid, united states pharmacopeia (usp) reference standard', 'l-ascorbic acid, cell culture', 'cebion', 'adenex', 'cee-caps td', 'ascorin', 'einecs 200-066-2', 'ascorbic acid [inn]', 'l-ascorbic acid, bioxtra, >=99.0%, crystalline', 'l-lyxoascorbate', 'antiscorbutic factor', 'l-(+)-ascorbic acid', 'ascorbic acid [hsdb]', 'nsc33832', 'd00018', 'smr001233160', 'hb1238', 'nsc 218455', 'vitamin c;acidum ascorbicum', 'ascorbic acid, british pharmacopoeia (bp) reference standard', 'ascorbic acid (ep monograph)', 'cipca', 'cevimin', 'e80759', 'vitamin c [vandf]', 'bp-12831', 'ce-vi-sol', 'redoxon', 'l-ascorbic acid, >=99.0%', 'dora-c-500', 'chewcee', 'acide ascorbique [inn-french]', 'ncgc00188972-01', 'l-ascorbic acid, acs reagent, >=99%', 'cegiolan', 'e300', 'chebi:22652', 'c-quin', 'viscorin 100m', 'tox21_112104', 'ascorbic acid [mi]', 'aromacura shower filter', 'bmse000182', 'ester c', 'ester-c', 'parentrovite', 'cevatine', 'vitamisin', 'ab00376923', 'catavin c', '(2r)-2-[(1s)-1,2-dihydroxyethyl]-3,4-dihydroxy-2h-furan-5-one', 'ascorbic acid [who-dd]', 'l-xyloascorbic acid', '3-oxo-l-gulofuranolactone', 'ascorbic acid [vandf]', 'q27101942', 'unii-pq6ck8pd0r', 'ferrous ascorbate', 'en300-708766', 'cantan', 'ascorvit', 'ascorbinezuur', 'cecon', 'davitamon c', 'ascorbic acid', 'vicelat', 'scorbu-c', '53262-66-1', 'component of ferancee', 'l-ascorbic acid, analytical standard', 'bpbio1_000363', 'l(+)-ascorbate', 'cevibid', 'ascorbic acid (usp-rs)', 'l-threoascorbic acid,antiscorbutic factor,vitamin c;(r)-5-((s)-1,2-dihydroxyethyl)-3,4-dihydroxyfuran-2(5h)-one', 'cevital', 'hex-1-enofuranos-3-ulose', 'vitamin c (as ascorbic acid)', 'cergona', 'l-ascorbic acid, tested according to ph.eur.', 'ascor (tn)', 'l-ascorbic acid, free acid', '(+)-ascorbate', 'l-ascorbate', 'ce lent', 'l-(+)-ascorbate', 'vasc', 'gamma-lactone l-threo-hex-2-enonic acid', 'da-61251', 'l-threo-hex-2-enono-1,4-lactone', 'ascorbinsaure', 'prestwick3_000325', 'ascorb', 'sodascorbate', 'ronotec 100', 'planavit c', 'l-threo-ascorbic acid', 'stuartinic', 'cetebe', 'secorbate', 'mls002153776', 'acide ascorbique (inn-french)', 'l-ascorbic acid, puriss. p.a., acs reagent, reag. iso, reag. ph. eur., 99.7-100.5% (oxidimetric)', 'c-span', 'celin', 'concemin', 'kyselina askorbova', '3-keto-l-gulofuranolactone', 'cevex', 'hy-b0166', 'sw198791-2', 'ascorbic acid, l-', 'l-ascorbic acid, anhydrous, free-flowing, redi-dri(tm), acs reagent, >=99%', 'ascorbin', 'ascorbic acid (l-ascorbic acid; vitamin c)', 'ascorbicap (tn)', 'l-ascorbic acid, jis special grade, >=99.0%', 'l-ascorbic acid, p.a., acs reagent, 99.0%', 'ascorbic acid1505', 'nsc 33832', 'ribena', 'arco-cee', 'tolfrinic', '2-(1,2-dihydroxyethyl)-4,5-dihydroxyfuran-3-one', 'ascorbic acid (vit c)', 'hicell', 'ascorbic acid [who-ip]', 'l(+)-ascorbic acid', 'ascorbate', 'dtxsid7048112', 'ascorbinsaeure', 'cenetone', '(5r)-5-[(1s)-1,2-dihydroxyethyl]-3,4-dihydroxyfuran-2(5h)-one', 'natrascorb', '(r)-5-((s)-1,2-dihydroxyethyl)-3,4-dihydroxyfuran-2(5h)-one']\n",
      "\n",
      "Trusted API Info:\n",
      "  • PubMed:\n",
      "     - {'title': 'Vitamin C.', 'source': '', 'pubdate': '2006'}\n",
      "  • OpenFDA:\n",
      "     - Product contains an ingredient that was recalled by a supplier because it may be contaminated with Salmonella\n",
      "     - The firm used pan release spray, which contains soy lecithin, on equipment and finished products labels do not declare soy lecithin.\n",
      "     - Product labeling is incorrect, FD&C colors are undeclared.\n",
      "     - Firm was notified by supplier of apples that Caramel apples may be associated with a current Listeria Monocytogenes outbreak.\n",
      "     - CA Department of Public Health inspectors found a pervasive infestation of mice in the facility.\n",
      "  • RxNorm:\n",
      "     - No results\n",
      "\n",
      "NER Entities from Web Snippets:\n",
      "     - No named entities found.\n",
      "\n",
      "Ingredient: sal\n",
      "→ Aliases: ['sal']\n",
      "\n",
      "Trusted API Info:\n",
      "  • PubMed:\n",
      "     - {'title': 'Effect of spectacle lenses with highly aspherical lenslets on changes in peripheral eye length and asymmetry.', 'source': 'Ophthalmic Physiol Opt', 'pubdate': '2025 Mar 29'}\n",
      "     - {'title': 'Effect of hydrophobically-modified sulfonated lignin on thermal stability of disperse dye paste.', 'source': 'Int J Biol Macromol', 'pubdate': '2025 Mar 26'}\n",
      "     - {'title': 'Biosynthetic Investigations of Ulbactins Unveil Two Novel Thiazolinyl Imine Reductases Crucial for the Generation of Siderophore Activity.', 'source': 'J Agric Food Chem', 'pubdate': '2025 Mar 28'}\n",
      "     - {'title': \"Intestinal dysbiosis alters acute seizure burden and antiseizure medicine activity in Theiler's virus model of encephalitis.\", 'source': 'Epilepsia', 'pubdate': '2025 Mar 28'}\n",
      "     - {'title': 'Polysaccharide Nanoadjuvants Engineered via Phenotype-Specific Nanoprobe-Assisted Phenotypic Screen Reprogram Macrophage Cell Functions for Cancer and Rheumatoid Arthritis Therapy.', 'source': 'ACS Nano', 'pubdate': '2025 Mar 28'}\n",
      "  • OpenFDA:\n",
      "     - Product in Import Alert  (99-38) inadvertently released for distribution.\n",
      "     - Marine Harvest is recalling raw, fresh, farmed Chilean Atlantic salmon refrigerated salmon fillets due to potential Listeria monocytogenes contamination.\n",
      "     - Undeclared Milk.\n",
      "  • RxNorm:\n",
      "     - No results\n",
      "\n",
      "NER Entities from Web Snippets:\n",
      "     - No named entities found.\n",
      "\n",
      "Ingredient: d-(+)-sucrose\n",
      "→ Aliases: ['d-(+)-sucrose', 'sucrose [jan]', 'alpha-d-glucopyranosyl beta-d-fructofuranoside', '92004-84-7', 'dtxcid101288', 'sucrose biochemical grade', 'bmse000918', '85456-51-5', 'd70407', 'sugar', 'saccarose', 'hy-b1779r', 'sucrose, vetec(tm) reagent grade, rnase and dnase free', 'sucrose [ii]', 'd-saccharose 20000 microg/ml in water', 'sucrose, p.a., acs reagent', 'amerfond', '(2r,3r,4s,5s,6r)-2-(((2s,3s,4s,5r)-3,4-dihydroxy-2,5-bis(hydroxymethyl)tetrahydrofuran-2-yl)oxy)-6-(hydroxymethyl)tetrahydro-2h-pyran-3,4,5-triol', 'sucrose, for molecular biology, >=99.5% (gc)', 'sucraloxum [inn-latin]', 'os59592', '57-50-1', 'alpha-d-glucopyranosylbeta-d-fructofuranoside', 'sucrose, ultrapure', 'alpha-d-glc-(1-2)-beta-d-fru', 'sucraloxum', 'sucrose [ep impurity]', '8027-47-2', 'sr-01000883983', 'sucrose (jp18/nf)', 'glc(alpha1->2beta)fru', 's-67f', 'd-saccharose 1000 microg/ml in methanol', 'sucrose (ii)', 'd00025', 'sucrose, molecular biology grade', 'microse', 'sugar spheres (nf)', 'c00089', 'beetsugar', '(2r,3r,4s,5s,6r)-2-[(2s,3s,4s,5r)-3,4-dihydroxy-2,5-bis(hydroxymethyl)tetrahydrofuran-2-yl]oxy-6-(hydroxymethyl)tetrahydropyran-3,4,5-triol', 'sucrose (tn)', 'sucrose, saj first grade', '8030-20-4', 'cane sugar', '(alpha-d-glucosido)-beta-d-fructofuranoside', 'alpha-d-glucopyranoside, beta-d-fructofuranosyl', 'sucrose [jan:nf]', 'sucrose, analytical standard', 'sucrose, cell culture tested', 'sucrose, >=99.5% (gc)', 'sucrose, for electrophoresis, >99%', 'unii-c151h8m554', 'fructofuranoside, alpha-d-glucopyranosyl, beta-d', 'sucrose, meets usp testing specifications', 'sucrose, grade i, plant cell culture tested', 'sucrose, jis special grade', 'sucrose', 'mp02333', 'dtxsid2021288', 'sucrose [fcc]', 'sucrose (standard)', 'tox21_112093', 'sucrose [nf]', '200-334-9', 'en300-126630', 'sucrose [usan:jan]', 's0111', 'sucrose, >=99.5%', 'ai3-09085', 'alpha-d-glucopyranosyl-(1->2)-beta-d-fructofuranoside', 'sucrose, puriss., meets analytical specification of ph. eur., bp, nf', 'glucopyranoside, beta-d-fructofuranosyl, alpha-d', 'beta-d-fructofuranosyl alpha-d-glucopyranoside', 'chembl253582', 'ncgc00164248-05', 'bdbm50108105', 'hsdb 500', '(2r,3r,4s,5s,6r)-2-{[(2s,3s,4s,5r)-3,4-dihydroxy-2,5-bis(hydroxymethyl)oxolan-2-yl]oxy}-6-(hydroxymethyl)oxane-3,4,5-triol', 'sucrose [who-dd]', 'saccharum officinale', 'nsc-406942', 'os02339', 'a-d-glucopyranosyl a-d-fructofuranoside', 'd-(+)-saccharose', '1-alpha-d-glucopyranosyl-2-beta-d-fructofranoside', 'sucrose palmitic acid (1:1 mixture)', 'akos024306988', 'sugar [vandf]', 'rock candy', 'sucrose [hsdb]', 'sucrose, bioxtra, >=99.5% (gc)', 'saccharum', 'glc-(1-2)fru', 'saccharose', 'hy-b1779', 'white sugar', 'carbon isotopes in sucrose, nist(r) rm 8542, iaea-ch-6 sucrose', 'd(+)-saccharose', 'd(+)-sucrose', 'sucrose, vetec(tm) reagent grade, 99%', 'sucrose, dust', 'c151h8m554', 'ncgc00164248-01', 'q4027534', 'alpha-d-glucopyranoside, beta-d-fructofuranosyl-', 'frost sugar', '87430-66-8', 'epitope id:153236', '86101-30-6', 'sucrose, for microbiology, acs reagent, >=99.0%', 'sucrose (constituent of cranberry liquid preparation)', 'refined sugar', 'ccris 2120', 'sugar, compressible (nf)', 'sucrose (constituent of cranberry liquid preparation) [dsc]', 'sucrose, grade ii, plant cell culture tested', 'saccharum officinale [hpus]', '(2r,3r,4s,5s,6r)-2-[(2s,3s,4s,5r)-3,4-dihydroxy-2,5-bis(hydroxymethyl)oxolan-2-yl]oxy-6-(hydroxymethyl)oxane-3,4,5-triol', 'alpha-d-glc-(1-->2)-beta-d-fru', 'sucrose, european pharmacopoeia (ep) reference standard', 'beta-d-fruf-(2<->1)-alpha-d-glcp', 'nsc 406942', 'ncgc00164248-02', 'sacharose', 'sucrose, usp', 'sucrose (ep impurity)', 'ncgc00164248-03', 'sucrose, united states pharmacopeia (usp) reference standard', 'sucrose, analytical standard, for enzymatic assay kit sca20', \"sugar, confectioner's (nf)\", 'nci-c56597', 'sacarosa', 'sucraloxum (inn-latin)', 's3598', 'einecs 200-334-9', 'sucrose acs grade', '.beta.-d-fructofuranosyl-.alpha.-d-glucopyranoside', 'compressible sugar, united states pharmacopeia (usp) reference standard', 'db02772', 'sucrose, anhydrous, free-flowing, redi-dri(tm), acs reagent', 'sucrose, pure', '.alpha.-d-glucopyranoside, .beta.-d-fructofuranosyl-', 'sucrose,ultrapure', 'gtpl5411', 'cas-57-50-1', 'z1589255958', 'ncgc00254237-01', 'manalox as', 'ncgc00258948-01', 'white soft sugar (jp18)', 'sucrose, lr', 'd-sucrose', 'mfcd00006626', '(+)-sucrose', '1af6', 'tox21_201397', 'dyspepsia headache', 'sucrose, bioreagent, suitable for cell culture, suitable for insect cell culture, >=99.5% (gc)', 'sucrose (ep monograph)', 'sucrose - usp', 'sucrose, acs reagent', 'chebi:17992', 'd-saccharose;2-o-a-d-glucopyranosyl-b-d-fructofuranoside', 'sucrose, ar', 'cs-0013810', 'sucrose [ep monograph]', '1-alpha-d-glucopyranosyl-2-beta-d-fructofuranoside', 'rohrzucker', 'sucrose, bioultra, for molecular biology, >=99.5% (hplc)', 'sucrose (for injection)', 'beta-d-fructofuranosyl-(2&harr;1)-alpha-d-glucopyranoside', 'sucrose, british pharmacopoeia (bp) reference standard', \"confectioner's sugar\", 'gne-410', 'd-saccharose', 'amerfand', 'brd-k74724920-001-02-4', 'tox21_300410', 'chebi:65313', 'sucrose (usp-rs)', 'sucrose [usp-rs]', 'sugar, white', 'compressible sugar', 'bmse000119', 'sucrose [mi]', 'sucrose, purified', 'sucrose [vandf]', 'a-5', 'd-saccharose;2-o-?-d-glucopyranosyl-?-d-fructofuranoside', 'beta-d-fructofuranosyl-alpha-d-glucopyranoside', 'sr-01000883983-1', 'b -d-fructofuranosyl a-d-glucopyranoside', 'table sugar', 'bmse000804']\n",
      "\n",
      "Trusted API Info:\n",
      "  • PubMed:\n",
      "     - {'title': 'Optimization of vitrification methods for equine oocytes.', 'source': 'Tissue Cell', 'pubdate': '2024 Dec'}\n",
      "     - {'title': 'Chronic Oral Intake of Soy Peptide Alleviates Anhedonia in Normally Housed Male C57BL/6J Mice.', 'source': 'J Nutr Sci Vitaminol (Tokyo)', 'pubdate': '2024'}\n",
      "     - {'title': 'Intercropping of tobacco and maize at seedling stage promotes crop growth through manipulating rhizosphere microenvironment.', 'source': 'Front Plant Sci', 'pubdate': '2024'}\n",
      "     - {'title': \"Dynamic profiling of metabolite changes and health-promoting functions in 'yuling paste' during nine steaming and nine sun-drying processes.\", 'source': 'Food Chem X', 'pubdate': '2024 Oct 30'}\n",
      "     - {'title': 'The Scr and Csc pathways for sucrose utilization co-exist in E. coli, but only the Scr pathway is widespread in other Enterobacteriaceae.', 'source': 'Front Microbiol', 'pubdate': '2024'}\n",
      "  • OpenFDA:\n",
      "     - No results\n",
      "  • RxNorm:\n",
      "     - No results\n",
      "\n",
      "NER Entities from Web Snippets:\n",
      "     - No named entities found.\n"
     ]
    }
   ],
   "source": [
    "sample4 = \"sodium chloride, ascorbic acid, curcuma longa, E300, sal, suagr\"\n",
    "results4 = preprocess_ingredient_list_with_health(sample4)\n",
    "\n",
    "for entry in results4:\n",
    "    print(\"\\nIngredient:\", entry[\"standard\"])\n",
    "    print(\"→ Aliases:\", entry[\"aliases\"])\n",
    "    \n",
    "    print(\"\\nTrusted API Info:\")\n",
    "    for source, data in entry[\"health_info\"][\"TrustedAPIs\"].items():\n",
    "        print(f\"  • {source}:\")\n",
    "        if isinstance(data, list) and data:\n",
    "            for item in data:\n",
    "                print(f\"     - {item}\")\n",
    "        elif isinstance(data, list):\n",
    "            print(\"     - No results\")\n",
    "        else:\n",
    "            print(f\"     - {data}\")\n",
    "\n",
    "    print(\"\\nNER Entities from Web Snippets:\")\n",
    "    if entry[\"health_info\"][\"NER_Snippets\"]:\n",
    "        for ent_text, ent_label in entry[\"health_info\"][\"NER_Snippets\"]:\n",
    "            print(f\"     - {ent_text} ({ent_label})\")\n",
    "    else:\n",
    "        print(\"     - No named entities found.\")"
   ]
  }
 ],
 "metadata": {
  "kernelspec": {
   "display_name": "base",
   "language": "python",
   "name": "python3"
  },
  "language_info": {
   "codemirror_mode": {
    "name": "ipython",
    "version": 3
   },
   "file_extension": ".py",
   "mimetype": "text/x-python",
   "name": "python",
   "nbconvert_exporter": "python",
   "pygments_lexer": "ipython3",
   "version": "3.11.7"
  }
 },
 "nbformat": 4,
 "nbformat_minor": 2
}
